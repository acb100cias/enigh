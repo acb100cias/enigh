{
 "cells": [
  {
   "cell_type": "code",
   "execution_count": 2,
   "id": "oriented-feelings",
   "metadata": {},
   "outputs": [],
   "source": [
    "from pandas import *\n",
    "from numpy import *\n",
    "import bamboolib"
   ]
  },
  {
   "cell_type": "code",
   "execution_count": 3,
   "id": "worse-cooperation",
   "metadata": {},
   "outputs": [],
   "source": [
    "data=read_csv('rurales20_9_5_2022.csv')"
   ]
  },
  {
   "cell_type": "code",
   "execution_count": 4,
   "id": "shared-exception",
   "metadata": {},
   "outputs": [
    {
     "data": {
      "application/vnd.jupyter.widget-view+json": {
       "model_id": "4611fb18a38c496990a7fdf54074852f"
      },
      "text/plain": [
       "         folioviv  foliohog  pertenece a etnia  no pertenece a etnia  \\\n",
       "0       160009403         1                  0                     3   \n",
       "1       160009407         1                  0                     4   \n",
       "2       160009411         1                  0                     4   \n",
       "3       160009415         1                  0                     3   \n",
       "4       160009419         1                  0                     5   \n",
       "...           ...       ...                ...                   ...   \n",
       "29915  3260770714         1                  0                     2   \n",
       "29916  3260770715         1                  0                     2   \n",
       "29917  3260770716         1                  0                     3   \n",
       "29918  3260770717         1                  0                     7   \n",
       "29919  3260770718         1                  0                     3   \n",
       "\n",
       "       15 o menos  16-29  30-59  60 o mas  numren  ubica_geo  ...    LPI  \\\n",
       "0               0      0      1         2       3       1001  ...  sobre   \n",
       "1               1      1      2         0       4       1001  ...  sobre   \n",
       "2               2      0      2         0       4       1001  ...  sobre   \n",
       "3               0      2      1         0       3       1001  ...  sobre   \n",
       "4               3      0      2         0       5       1001  ...  sobre   \n",
       "...           ...    ...    ...       ...     ...        ...  ...    ...   \n",
       "29915           0      0      0         2       2      32012  ...  sobre   \n",
       "29916           0      0      0         2       2      32012  ...  sobre   \n",
       "29917           1      0      2         0       3      32012  ...  sobre   \n",
       "29918           3      2      2         0       7      32012  ...  sobre   \n",
       "29919           0      0      2         1       3      32012  ...  sobre   \n",
       "\n",
       "        LPEI  tasa ocupacional  tocupa  CUmun  CUmun2  CUmun3     LP  \\\n",
       "0      sobre             66.67    Alta    NaN       1     NaN  sobre   \n",
       "1      sobre             75.00    Alta    NaN       1     NaN  sobre   \n",
       "2      sobre             50.00   Media    NaN       1     NaN  sobre   \n",
       "3      sobre            100.00    Alta    NaN       1     NaN  sobre   \n",
       "4      sobre             60.00   Media    NaN       1     NaN  sobre   \n",
       "...      ...               ...     ...    ...     ...     ...    ...   \n",
       "29915  sobre             50.00   Media    NaN       3     3.0  sobre   \n",
       "29916  sobre            100.00    Alta    NaN       3     3.0  sobre   \n",
       "29917  sobre             66.67    Alta    NaN       3     3.0  sobre   \n",
       "29918  sobre             28.57    Baja    NaN       3     3.0  sobre   \n",
       "29919  sobre             66.67    Alta    NaN       3     3.0  sobre   \n",
       "\n",
       "       Ingreso mensual  ingreso mensual  \n",
       "0         9.722394e+05     16203.990000  \n",
       "1         6.183278e+05     10305.463333  \n",
       "2         4.140248e+05      6900.413333  \n",
       "3         9.760588e+05     16267.646667  \n",
       "4         6.869438e+05     11449.063333  \n",
       "...                ...              ...  \n",
       "29915     6.070549e+05      4742.616667  \n",
       "29916     5.921566e+05      4626.223333  \n",
       "29917     8.578065e+05      6701.613333  \n",
       "29918     1.107934e+06      8655.733333  \n",
       "29919     1.937713e+06     15138.386667  \n",
       "\n",
       "[29920 rows x 162 columns]"
      ]
     },
     "metadata": {},
     "output_type": "display_data"
    }
   ],
   "source": [
    "data"
   ]
  },
  {
   "cell_type": "code",
   "execution_count": 53,
   "id": "swedish-strip",
   "metadata": {},
   "outputs": [],
   "source": [
    "T6=data.filter(['tipo_hogar','factor']).pivot_table(index='tipo_hogar',aggfunc=sum,margins=True,margins_name='Total' )\n",
    "T6['% Total']=round((T6['factor']/(rurales['factor'].sum()))*100,2)\n",
    "T6=T6.rename(columns={'factor':'Hogares rurales'})\n",
    "T6=T6.rename_axis('Tipo de hogar')\n"
   ]
  },
  {
   "cell_type": "code",
   "execution_count": 54,
   "id": "substantial-chancellor",
   "metadata": {},
   "outputs": [
    {
     "data": {
      "application/vnd.jupyter.widget-view+json": {
       "model_id": "16d3039b294e4ac1b4ed012cb3295406"
      },
      "text/plain": [
       "                      Hogares rurales  % Total\n",
       "Tipo de hogar                                 \n",
       "Sin ingresos propios          3274661    51.92\n",
       "UCE                           1508645    23.92\n",
       "UCEP                           487768     7.73\n",
       "UFR                           1036481    16.43\n",
       "Total                         6307555   100.00"
      ]
     },
     "metadata": {},
     "output_type": "display_data"
    }
   ],
   "source": [
    "T6 = T6.reset_index()\n",
    "T6"
   ]
  },
  {
   "cell_type": "code",
   "execution_count": 16,
   "id": "ranking-welcome",
   "metadata": {},
   "outputs": [],
   "source": [
    "T7=data.filter(['tipo_hogar','factor','sexo_jefe','Region']).pivot_table(index='Region',columns=['sexo_jefe','tipo_hogar'],aggfunc=sum,margins=True,margins_name='Total' )\n",
    "T7=T7.rename_axis('Región').rename(columns={1:'Hombre',2:'Mujer'})\n",
    "T7=T7.droplevel(level=0,axis=1)"
   ]
  },
  {
   "cell_type": "code",
   "execution_count": 17,
   "id": "specific-badge",
   "metadata": {},
   "outputs": [
    {
     "data": {
      "application/vnd.jupyter.widget-view+json": {
       "model_id": "f6c5dfc26c77439dad0e5c0253a1e3e5"
      },
      "text/plain": [
       "sexo_jefe                Hombre                                         Mujer  \\\n",
       "tipo_hogar Sin ingresos propios      UCE    UCEP     UFR Sin ingresos propios   \n",
       "Región                                                                          \n",
       "Centro                  1109516   374853  128251  362015               443913   \n",
       "Norte                    763749   206740   55853  189915               263089   \n",
       "Sur                      480268   673264  222426  220530               214126   \n",
       "Total                   2353533  1254857  406530  772460               921128   \n",
       "\n",
       "sexo_jefe                            Total  \n",
       "tipo_hogar     UCE   UCEP     UFR           \n",
       "Región                                      \n",
       "Centro       85667  18172  103857  2626244  \n",
       "Norte        28739   7644   52410  1568139  \n",
       "Sur         139382  55422  107754  2113172  \n",
       "Total       253788  81238  264021  6307555  "
      ]
     },
     "metadata": {},
     "output_type": "display_data"
    }
   ],
   "source": []
  },
  {
   "cell_type": "code",
   "execution_count": 77,
   "id": "comic-strengthening",
   "metadata": {},
   "outputs": [],
   "source": [
    "T8=data.filter(['tocupa','tipo_hogar','LP','factor']).pivot_table(index=['tocupa','tipo_hogar'],columns='LP',aggfunc=sum,margins=True,margins_name='Total')\n",
    "#T8=data.filter(['tocupa','tipo_hogar','LP','factor']).pivot_table(index=['tocupa','tipo_hogar'],columns='ENTRE_LINEAS',aggfunc=sum,margins=True,margins_name='Total')\n",
    "T8=T8.fillna(0)\n",
    "T8=T8.droplevel(level=0,axis=1)"
   ]
  },
  {
   "cell_type": "code",
   "execution_count": 24,
   "id": "loose-likelihood",
   "metadata": {},
   "outputs": [
    {
     "data": {
      "application/vnd.jupyter.widget-view+json": {
       "model_id": "2ab6df9ef407437e9f6232e303148a04"
      },
      "text/plain": [
       "LP                            bajo  entre lineas    sobre    Total\n",
       "tocupa tipo_hogar                                                 \n",
       "Alta   Sin ingresos propios   2231         19483   701655   723369\n",
       "       UCE                    4955         50682   556596   612233\n",
       "       UCEP                   2063         13822   272133   288018\n",
       "       UFR                    2214         12046   437756   452016\n",
       "Baja   Sin ingresos propios   7688         57385  1185750  1250823\n",
       "       UCE                    1874         15525   162342   179741\n",
       "       UCEP                     80           328    14340    14748\n",
       "       UFR                     532          1759    87450    89741\n",
       "Media  Sin ingresos propios   3328         21615  1275526  1300469\n",
       "       UCE                    6121         44867   665683   716671\n",
       "       UCEP                     81          8464   176457   185002\n",
       "       UFR                     615          8729   485380   494724\n",
       "Total                        31782        254705  6021068  6307555"
      ]
     },
     "metadata": {},
     "output_type": "display_data"
    }
   ],
   "source": [
    "T8 = T8.reset_index()\n",
    "T8"
   ]
  },
  {
   "cell_type": "code",
   "execution_count": 78,
   "id": "baking-responsibility",
   "metadata": {},
   "outputs": [],
   "source": [
    "for key in T8.keys():\n",
    "    T8['%'+key]=round(((T8[key]/T8['Total'][-1])*100),2)"
   ]
  },
  {
   "cell_type": "code",
   "execution_count": 30,
   "id": "warming-green",
   "metadata": {},
   "outputs": [
    {
     "data": {
      "text/plain": [
       "array([ 723369,  612233,  288018,  452016, 1250823,  179741,   14748,\n",
       "         89741, 1300469,  716671,  185002,  494724, 6307555])"
      ]
     },
     "execution_count": 30,
     "metadata": {},
     "output_type": "execute_result"
    }
   ],
   "source": [
    "T8[T8.keys()[-1]].values"
   ]
  },
  {
   "cell_type": "code",
   "execution_count": 79,
   "id": "ancient-seven",
   "metadata": {},
   "outputs": [
    {
     "data": {
      "application/vnd.jupyter.widget-view+json": {
       "model_id": "d741a9773b70419797c050f2406a4f94"
      },
      "text/plain": [
       "LP                            bajo  entre lineas    sobre    Total  %bajo  \\\n",
       "tocupa tipo_hogar                                                           \n",
       "Alta   Sin ingresos propios   2231         19483   701655   723369   0.04   \n",
       "       UCE                    4955         50682   556596   612233   0.08   \n",
       "       UCEP                   2063         13822   272133   288018   0.03   \n",
       "       UFR                    2214         12046   437756   452016   0.04   \n",
       "Baja   Sin ingresos propios   7688         57385  1185750  1250823   0.12   \n",
       "       UCE                    1874         15525   162342   179741   0.03   \n",
       "       UCEP                     80           328    14340    14748   0.00   \n",
       "       UFR                     532          1759    87450    89741   0.01   \n",
       "Media  Sin ingresos propios   3328         21615  1275526  1300469   0.05   \n",
       "       UCE                    6121         44867   665683   716671   0.10   \n",
       "       UCEP                     81          8464   176457   185002   0.00   \n",
       "       UFR                     615          8729   485380   494724   0.01   \n",
       "Total                        31782        254705  6021068  6307555   0.50   \n",
       "\n",
       "LP                           %entre lineas  %sobre  %Total  \n",
       "tocupa tipo_hogar                                           \n",
       "Alta   Sin ingresos propios           0.31   11.12   11.47  \n",
       "       UCE                            0.80    8.82    9.71  \n",
       "       UCEP                           0.22    4.31    4.57  \n",
       "       UFR                            0.19    6.94    7.17  \n",
       "Baja   Sin ingresos propios           0.91   18.80   19.83  \n",
       "       UCE                            0.25    2.57    2.85  \n",
       "       UCEP                           0.01    0.23    0.23  \n",
       "       UFR                            0.03    1.39    1.42  \n",
       "Media  Sin ingresos propios           0.34   20.22   20.62  \n",
       "       UCE                            0.71   10.55   11.36  \n",
       "       UCEP                           0.13    2.80    2.93  \n",
       "       UFR                            0.14    7.70    7.84  \n",
       "Total                                 4.04   95.46  100.00  "
      ]
     },
     "metadata": {},
     "output_type": "display_data"
    }
   ],
   "source": [
    "T8 = T8.reset_index()\n",
    "T8"
   ]
  },
  {
   "cell_type": "code",
   "execution_count": 80,
   "id": "ceramic-challenge",
   "metadata": {},
   "outputs": [],
   "source": [
    "T8=T8.rename_axis(['Tasa Ocupacional','Tipo de hogar'])"
   ]
  },
  {
   "cell_type": "code",
   "execution_count": 81,
   "id": "smaller-check",
   "metadata": {},
   "outputs": [],
   "source": [
    "T8=T8.rename(columns={'bajo':'Bajo LPEI','entre lineas':'Entre LPEI y LPI','sobre':'Sobre LPI','%bajo':'% Bajo LPEI','%entre lineas':'% Entre LPEI y LPI','%sobre':'% Sobre LPI'})"
   ]
  },
  {
   "cell_type": "code",
   "execution_count": 82,
   "id": "western-patrick",
   "metadata": {},
   "outputs": [
    {
     "data": {
      "application/vnd.jupyter.widget-view+json": {
       "model_id": "a489070d69e84839bfffe21471327c01"
      },
      "text/plain": [
       "LP                                     Bajo LPEI  Entre LPEI y LPI  Sobre LPI  \\\n",
       "Tasa Ocupacional Tipo de hogar                                                  \n",
       "Alta             Sin ingresos propios       2231             19483     701655   \n",
       "                 UCE                        4955             50682     556596   \n",
       "                 UCEP                       2063             13822     272133   \n",
       "                 UFR                        2214             12046     437756   \n",
       "Baja             Sin ingresos propios       7688             57385    1185750   \n",
       "                 UCE                        1874             15525     162342   \n",
       "                 UCEP                         80               328      14340   \n",
       "                 UFR                         532              1759      87450   \n",
       "Media            Sin ingresos propios       3328             21615    1275526   \n",
       "                 UCE                        6121             44867     665683   \n",
       "                 UCEP                         81              8464     176457   \n",
       "                 UFR                         615              8729     485380   \n",
       "Total                                      31782            254705    6021068   \n",
       "\n",
       "LP                                       Total  % Bajo LPEI  \\\n",
       "Tasa Ocupacional Tipo de hogar                                \n",
       "Alta             Sin ingresos propios   723369         0.04   \n",
       "                 UCE                    612233         0.08   \n",
       "                 UCEP                   288018         0.03   \n",
       "                 UFR                    452016         0.04   \n",
       "Baja             Sin ingresos propios  1250823         0.12   \n",
       "                 UCE                    179741         0.03   \n",
       "                 UCEP                    14748         0.00   \n",
       "                 UFR                     89741         0.01   \n",
       "Media            Sin ingresos propios  1300469         0.05   \n",
       "                 UCE                    716671         0.10   \n",
       "                 UCEP                   185002         0.00   \n",
       "                 UFR                    494724         0.01   \n",
       "Total                                  6307555         0.50   \n",
       "\n",
       "LP                                     % Entre LPEI y LPI  % Sobre LPI  %Total  \n",
       "Tasa Ocupacional Tipo de hogar                                                  \n",
       "Alta             Sin ingresos propios                0.31        11.12   11.47  \n",
       "                 UCE                                 0.80         8.82    9.71  \n",
       "                 UCEP                                0.22         4.31    4.57  \n",
       "                 UFR                                 0.19         6.94    7.17  \n",
       "Baja             Sin ingresos propios                0.91        18.80   19.83  \n",
       "                 UCE                                 0.25         2.57    2.85  \n",
       "                 UCEP                                0.01         0.23    0.23  \n",
       "                 UFR                                 0.03         1.39    1.42  \n",
       "Media            Sin ingresos propios                0.34        20.22   20.62  \n",
       "                 UCE                                 0.71        10.55   11.36  \n",
       "                 UCEP                                0.13         2.80    2.93  \n",
       "                 UFR                                 0.14         7.70    7.84  \n",
       "Total                                                4.04        95.46  100.00  "
      ]
     },
     "metadata": {},
     "output_type": "display_data"
    }
   ],
   "source": [
    "T8 = T8.reset_index()\n",
    "T8"
   ]
  },
  {
   "cell_type": "code",
   "execution_count": 52,
   "id": "future-digest",
   "metadata": {},
   "outputs": [],
   "source": [
    "T9=data.filter(['Region','factor','LP']).pivot_table(index='Region',columns='LP',margins=True,margins_name='Total',aggfunc=sum)"
   ]
  },
  {
   "cell_type": "code",
   "execution_count": 53,
   "id": "presidential-acceptance",
   "metadata": {},
   "outputs": [],
   "source": [
    "T9=T9.droplevel(level=0,axis=1)\n",
    "T9=T9.rename(columns={'bajo':'Bajo LPEI','entre lineas':'Entre LPEI y LPI','sobre':'Sobre LPI'})"
   ]
  },
  {
   "cell_type": "code",
   "execution_count": 54,
   "id": "identical-religion",
   "metadata": {},
   "outputs": [
    {
     "data": {
      "application/vnd.jupyter.widget-view+json": {
       "model_id": "5fd32a842df246e99a02473293ebe513"
      },
      "text/plain": [
       "LP      Bajo LPEI  Entre LPEI y LPI  Sobre LPI    Total\n",
       "Region                                                 \n",
       "Centro       6767             71190    2548287  2626244\n",
       "Norte        6584             47339    1514216  1568139\n",
       "Sur         18431            136176    1958565  2113172\n",
       "Total       31782            254705    6021068  6307555"
      ]
     },
     "metadata": {},
     "output_type": "display_data"
    }
   ],
   "source": [
    "T9 = T9.reset_index()\n",
    "T9"
   ]
  },
  {
   "cell_type": "code",
   "execution_count": 83,
   "id": "hindu-honolulu",
   "metadata": {},
   "outputs": [],
   "source": [
    "#T6.to_excel('tabla6_20.xls')\n",
    "#T7.to_excel('tabla7_20.xls')\n",
    "T8.to_excel('tabla8_20.xls')\n",
    "#T9.to_excel('Tabla9_20.xls')"
   ]
  },
  {
   "cell_type": "code",
   "execution_count": 60,
   "id": "elegant-hydrogen",
   "metadata": {},
   "outputs": [],
   "source": [
    "data['Ingreso mensual']=data['factor']*(data['ing_cor']/3.)\n",
    "data['ingreso mensual']=data['ing_cor']/3."
   ]
  },
  {
   "cell_type": "code",
   "execution_count": 60,
   "id": "adapted-sydney",
   "metadata": {},
   "outputs": [
    {
     "data": {
      "text/plain": [
       "0        16203.990000\n",
       "1        10305.463333\n",
       "2         6900.413333\n",
       "3        16267.646667\n",
       "4        11449.063333\n",
       "             ...     \n",
       "29915     4742.616667\n",
       "29916     4626.223333\n",
       "29917     6701.613333\n",
       "29918     8655.733333\n",
       "29919    15138.386667\n",
       "Name: ingreso mensual, Length: 29920, dtype: float64"
      ]
     },
     "execution_count": 60,
     "metadata": {},
     "output_type": "execute_result"
    }
   ],
   "source": [
    "data['ingreso mensual']"
   ]
  },
  {
   "cell_type": "code",
   "execution_count": 61,
   "id": "scenic-moisture",
   "metadata": {},
   "outputs": [],
   "source": [
    "T11=data.filter(['factor','Region','tipo_hogar','ingreso mensual']).pivot_table(index='Region',columns='tipo_hogar',aggfunc=[sum],margins=True,margins_name='Total').rename(columns={'factor':'Hogares'}).astype(float).round(2)\n",
    "T11=T11.droplevel(level=0,axis=1)\n",
    "T11.to_excel('Ingreso corriente mensual por tipo de hogar por region_2020.xls')"
   ]
  },
  {
   "cell_type": "code",
   "execution_count": 63,
   "id": "speaking-celebration",
   "metadata": {},
   "outputs": [],
   "source": [
    "T12=data.filter(['factor','Region','tipo_hogar','ingreso mensual']).pivot_table(index='Region',columns='tipo_hogar',aggfunc=[sum,mean],margins=True,margins_name='Total').rename(columns={'factor':'Hogares'}).astype(float).round(2)\n",
    "T12=T12.drop([('mean','Hogares'),('sum','ingreso mensual')],axis=1)\n",
    "T12=T12.droplevel(level=0,axis=1)\n",
    "T12.to_excel('Tabla12_Ingreso corriente mensual promedio por tipo de hogar por region_2020.xls')"
   ]
  },
  {
   "cell_type": "code",
   "execution_count": 64,
   "id": "warming-framing",
   "metadata": {},
   "outputs": [],
   "source": [
    "T13=data.groupby('Region')['ingreso mensual'].describe().join(data.groupby('Region')['factor'].sum()).rename(columns={'factor':'Hogares','count':'muestra'})\n",
    "T13=T13.append(DataFrame(T13.sum()).T.rename(index={0:'Total'}))\n",
    "T13=T13.round(2)\n",
    "T13.to_excel('tabla_13_descriptivos_ingreso_mensual_2020.xls')"
   ]
  },
  {
   "cell_type": "code",
   "execution_count": 63,
   "id": "proper-gnome",
   "metadata": {},
   "outputs": [],
   "source": [
    "data.to_csv('rurales20_9_5_2022.csv',index=False)"
   ]
  },
  {
   "cell_type": "code",
   "execution_count": 62,
   "id": "remarkable-providence",
   "metadata": {},
   "outputs": [
    {
     "data": {
      "application/vnd.jupyter.widget-view+json": {
       "model_id": "3f32805a17fd4dbb8c996a13fe12d4a6"
      },
      "text/plain": [
       "                        Hogares                                             \\\n",
       "tipo_hogar Sin ingresos propios        UCE      UCEP        UFR      Total   \n",
       "Region                                                                       \n",
       "Centro                1553429.0   460520.0  146423.0   465872.0  2626244.0   \n",
       "Norte                 1026838.0   235479.0   63497.0   242325.0  1568139.0   \n",
       "Sur                    694394.0   812646.0  277848.0   328284.0  2113172.0   \n",
       "Total                 3274661.0  1508645.0  487768.0  1036481.0  6307555.0   \n",
       "\n",
       "                ingreso mensual                                          \n",
       "tipo_hogar Sin ingresos propios       UCE      UCEP       UFR     Total  \n",
       "Region                                                                   \n",
       "Centro                 12958.24  11774.66  14449.06  14754.19  13172.17  \n",
       "Norte                  15120.09  11839.92  14600.94  15581.36  14753.04  \n",
       "Sur                     9260.42   7170.59  10032.97  10677.53   8886.79  \n",
       "Total                  13496.25   9849.45  12214.04  14128.82  12865.56  "
      ]
     },
     "metadata": {},
     "output_type": "display_data"
    }
   ],
   "source": [
    "T12.columns = [\"_\".join([str(index) for index in multi_index]) for multi_index in T12.columns.ravel()]\n",
    "T12 = T12.reset_index()\n",
    "T12"
   ]
  },
  {
   "cell_type": "code",
   "execution_count": 71,
   "id": "adequate-adult",
   "metadata": {},
   "outputs": [],
   "source": [
    "T10=data.filter(['Region','tipo_hogar','pob_aprox']).pivot_table(index='Region',columns='tipo_hogar',margins=True,margins_name='Total',aggfunc=sum)"
   ]
  },
  {
   "cell_type": "code",
   "execution_count": 72,
   "id": "homeless-woman",
   "metadata": {},
   "outputs": [],
   "source": [
    "T10=T10.droplevel(level=0,axis=1)"
   ]
  },
  {
   "cell_type": "code",
   "execution_count": 75,
   "id": "capable-inspector",
   "metadata": {},
   "outputs": [],
   "source": [
    "T10.to_excel('tabla_10_Población_rural_total_por_región_y_tipo_de_actividad_2020.xls')"
   ]
  },
  {
   "cell_type": "code",
   "execution_count": null,
   "id": "suited-chamber",
   "metadata": {},
   "outputs": [],
   "source": []
  }
 ],
 "metadata": {
  "kernelspec": {
   "display_name": "Python 3",
   "language": "python",
   "name": "python3"
  },
  "language_info": {
   "codemirror_mode": {
    "name": "ipython",
    "version": 3
   },
   "file_extension": ".py",
   "mimetype": "text/x-python",
   "name": "python",
   "nbconvert_exporter": "python",
   "pygments_lexer": "ipython3",
   "version": "3.9.2"
  }
 },
 "nbformat": 4,
 "nbformat_minor": 5
}
