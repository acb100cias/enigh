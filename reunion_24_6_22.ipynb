{
 "cells": [
  {
   "cell_type": "code",
   "execution_count": 1,
   "id": "colored-pressing",
   "metadata": {},
   "outputs": [],
   "source": [
    "from pandas import *\n",
    "from numpy import *\n",
    "import bamboolib"
   ]
  },
  {
   "cell_type": "code",
   "execution_count": 2,
   "id": "digital-senate",
   "metadata": {},
   "outputs": [],
   "source": [
    "data=read_csv('rurales20_9_5_2022.csv')"
   ]
  },
  {
   "cell_type": "code",
   "execution_count": 8,
   "id": "given-sally",
   "metadata": {},
   "outputs": [
    {
     "data": {
      "application/vnd.jupyter.widget-view+json": {
       "model_id": "63770a53863349ae8eccb243e0b5ad82"
      },
      "text/plain": [
       "       Ingreso mensual  ingreso mensual\n",
       "0            972239.40         16203.99\n",
       "1            618327.80         10305.46\n",
       "2            414024.80          6900.41\n",
       "3            976058.80         16267.65\n",
       "4            686943.80         11449.06\n",
       "...                ...              ...\n",
       "29915        607054.93          4742.62\n",
       "29916        592156.59          4626.22\n",
       "29917        857806.51          6701.61\n",
       "29918       1107933.87          8655.73\n",
       "29919       1937713.49         15138.39\n",
       "\n",
       "[29920 rows x 2 columns]"
      ]
     },
     "metadata": {},
     "output_type": "display_data"
    }
   ],
   "source": [
    "data.filter(['Ingreso mensual','ingreso mensual']).round(2)"
   ]
  },
  {
   "cell_type": "code",
   "execution_count": 19,
   "id": "equipped-swing",
   "metadata": {},
   "outputs": [
    {
     "data": {
      "text/plain": [
       "ingreso mensual    12865.555129\n",
       "dtype: float64"
      ]
     },
     "execution_count": 19,
     "metadata": {},
     "output_type": "execute_result"
    }
   ],
   "source": [
    "data.filter(['ingreso mensual']).round(2).mean()"
   ]
  },
  {
   "cell_type": "code",
   "execution_count": 28,
   "id": "inside-lindsay",
   "metadata": {},
   "outputs": [],
   "source": [
    "IN=qcut(data.filter(['ingreso mensual']).round(2).values.T[0],q=10)"
   ]
  },
  {
   "cell_type": "code",
   "execution_count": 25,
   "id": "asian-remains",
   "metadata": {},
   "outputs": [
    {
     "data": {
      "text/plain": [
       "array([[16203.99, 10305.46,  6900.41, ...,  6701.61,  8655.73, 15138.39]])"
      ]
     },
     "execution_count": 25,
     "metadata": {},
     "output_type": "execute_result"
    }
   ],
   "source": [
    "data.filter(['ingreso mensual']).round(2).values.T"
   ]
  },
  {
   "cell_type": "code",
   "execution_count": 29,
   "id": "handled-happiness",
   "metadata": {},
   "outputs": [],
   "source": [
    "from matplotlib.pyplot import *"
   ]
  },
  {
   "cell_type": "code",
   "execution_count": 32,
   "id": "secure-recycling",
   "metadata": {},
   "outputs": [
    {
     "data": {
      "text/plain": [
       "folioviv                1.560617e+09\n",
       "foliohog                1.000000e+00\n",
       "pertenece a etnia       0.000000e+00\n",
       "no pertenece a etnia    2.000000e+00\n",
       "15 o menos              1.000000e+00\n",
       "                            ...     \n",
       "CUmun                   3.000000e+00\n",
       "CUmun2                  3.000000e+00\n",
       "CUmun3                  3.000000e+00\n",
       "Ingreso mensual         1.380634e+06\n",
       "ingreso mensual         9.361328e+03\n",
       "Name: 0.5, Length: 153, dtype: float64"
      ]
     },
     "execution_count": 32,
     "metadata": {},
     "output_type": "execute_result"
    }
   ],
   "source": [
    "data.quantile()"
   ]
  },
  {
   "cell_type": "code",
   "execution_count": null,
   "id": "everyday-mounting",
   "metadata": {},
   "outputs": [],
   "source": []
  }
 ],
 "metadata": {
  "kernelspec": {
   "display_name": "Python 3",
   "language": "python",
   "name": "python3"
  },
  "language_info": {
   "codemirror_mode": {
    "name": "ipython",
    "version": 3
   },
   "file_extension": ".py",
   "mimetype": "text/x-python",
   "name": "python",
   "nbconvert_exporter": "python",
   "pygments_lexer": "ipython3",
   "version": "3.9.2"
  }
 },
 "nbformat": 4,
 "nbformat_minor": 5
}
