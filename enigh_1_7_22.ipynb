{
 "cells": [
  {
   "cell_type": "code",
   "execution_count": 55,
   "metadata": {},
   "outputs": [],
   "source": [
    "from pandas import *\n",
    "from numpy import *\n",
    "import bamboolib"
   ]
  },
  {
   "cell_type": "code",
   "execution_count": 155,
   "metadata": {},
   "outputs": [],
   "source": [
    "data=read_csv('rurales20_9_5_2022.csv')\n",
    "data.loc[data['ingreso mensual']<=35000].to_csv('rurales_filtrado_ingreso.csv')\n"
   ]
  },
  {
   "cell_type": "code",
   "execution_count": 156,
   "metadata": {},
   "outputs": [],
   "source": [
    "data2=read_csv('autoconsumo20_6_5_2022.csv')\n",
    "data2.loc[data['ingreso mensual']<=35000].to_csv('rurales_autoconsumo_filtrado_ingreso.csv')\n"
   ]
  },
  {
   "cell_type": "code",
   "execution_count": 157,
   "metadata": {},
   "outputs": [
    {
     "data": {
      "text/plain": [
       "array(['folioviv', 'foliohog', 'autocons', '15 o menos', '16-29', '30-59',\n",
       "       '60 o mas', 'numren', 'ubica_geo', 'tam_loc', 'est_socio',\n",
       "       'est_dis', 'upm', 'factor', 'clase_hog', 'sexo_jefe', 'edad_jefe',\n",
       "       'educa_jefe', 'tot_integ', 'hombres', 'mujeres', 'mayores',\n",
       "       'menores', 'p12_64', 'p65mas', 'ocupados', 'percep_ing',\n",
       "       'perc_ocupa', 'ing_cor', 'ingtrab', 'trabajo', 'sueldos',\n",
       "       'horas_extr', 'comisiones', 'aguinaldo', 'indemtrab', 'otra_rem',\n",
       "       'remu_espec', 'negocio', 'noagrop', 'industria', 'comercio',\n",
       "       'servicios', 'agrope', 'agricolas', 'pecuarios', 'reproducc',\n",
       "       'pesca', 'otros_trab', 'rentas', 'utilidad', 'arrenda', 'transfer',\n",
       "       'jubilacion', 'becas', 'donativos', 'remesas', 'bene_gob',\n",
       "       'transf_hog', 'trans_inst', 'estim_alqu', 'otros_ing', 'gasto_mon',\n",
       "       'alimentos', 'ali_dentro', 'cereales', 'carnes', 'pescado',\n",
       "       'leche', 'huevo', 'aceites', 'tuberculo', 'verduras', 'frutas',\n",
       "       'azucar', 'cafe', 'especias', 'otros_alim', 'bebidas', 'ali_fuera',\n",
       "       'tabaco', 'vesti_calz', 'vestido', 'calzado', 'vivienda',\n",
       "       'alquiler', 'pred_cons', 'agua', 'energia', 'limpieza', 'cuidados',\n",
       "       'utensilios', 'enseres', 'salud', 'atenc_ambu', 'hospital',\n",
       "       'medicinas', 'transporte', 'publico', 'foraneo', 'adqui_vehi',\n",
       "       'mantenim', 'refaccion', 'combus', 'comunica', 'educa_espa',\n",
       "       'educacion', 'esparci', 'paq_turist', 'personales', 'cuida_pers',\n",
       "       'acces_pers', 'otros_gas', 'transf_gas', 'percep_tot',\n",
       "       'retiro_inv', 'prestamos', 'otras_perc', 'ero_nm_viv',\n",
       "       'ero_nm_hog', 'erogac_tot', 'cuota_viv', 'mater_serv', 'material',\n",
       "       'servicio', 'deposito', 'prest_terc', 'pago_tarje', 'deudas',\n",
       "       'balance', 'otras_erog', 'smg', 'TamLoc', 'entidad', 'desc_ent',\n",
       "       'municipio', 'des_mun', 'Region', 'pob_aprox', 'total_mujeres',\n",
       "       'total_hombres', 'T_15 o menos', 'T_16-29', 'T_30-59',\n",
       "       'T_60 o mas', 'T_numren', 'tipo_hogar'], dtype=object)"
      ]
     },
     "execution_count": 157,
     "metadata": {},
     "output_type": "execute_result"
    }
   ],
   "source": [
    "data2['ingreso ']"
   ]
  },
  {
   "cell_type": "code",
   "execution_count": 57,
   "metadata": {},
   "outputs": [],
   "source": [
    "ingresos_rurales=data.filter(['Region','tipo_hogar','CUmun2','ingreso mensual']).round(2)"
   ]
  },
  {
   "cell_type": "code",
   "execution_count": 4,
   "metadata": {},
   "outputs": [
    {
     "data": {
      "application/vnd.jupyter.widget-view+json": {
       "model_id": "8737cddd2e0a412396ba12d09c80468e"
      },
      "text/plain": [
       "              ingreso mensual                                                  \\\n",
       "                        count      mean       std      min      25%       50%   \n",
       "Region CUmun2                                                                   \n",
       "Centro 0                 93.0  14600.16   9378.00  1262.27  8018.96  13348.52   \n",
       "       1               4200.0  14582.05  14621.69   717.39  7059.30  11040.16   \n",
       "       2                648.0  13697.34  10456.95  1593.04  6712.96  10729.41   \n",
       "       3               4466.0  12508.88  13756.40   532.78  6275.52   9737.51   \n",
       "       4               1658.0  11101.97   9774.27   879.27  5122.90   8401.54   \n",
       "Norte  1               1154.0  16839.67  22563.16  1255.29  7712.92  12164.08   \n",
       "       2                 22.0  11196.68   6296.55  1399.32  6339.88  11904.54   \n",
       "       3               6888.0  14754.59  51620.59   300.00  6415.53  10273.48   \n",
       "       4               4146.0  14188.56  22037.42     0.00  6289.20  10119.59   \n",
       "Sur    1                626.0  11372.54  10320.03  1276.73  5756.48   9001.96   \n",
       "       2                202.0  11602.61   8634.03   728.43  6089.54   8710.42   \n",
       "       3               3433.0   9046.72   8692.01   365.57  4363.06   6915.80   \n",
       "       4               2384.0   7773.65   7608.50   324.00  3628.47   5631.30   \n",
       "\n",
       "                                     \n",
       "                    75%         max  \n",
       "Region CUmun2                        \n",
       "Centro 0       18644.39    48473.87  \n",
       "       1       17486.27   307060.89  \n",
       "       2       17592.76   102170.44  \n",
       "       3       15228.08   548614.00  \n",
       "       4       13579.63   139867.98  \n",
       "Norte  1       19546.52   425119.56  \n",
       "       2       12857.19    24700.21  \n",
       "       3       16665.68  3567369.13  \n",
       "       4       16476.86   810652.37  \n",
       "Sur    1       14030.20   118454.85  \n",
       "       2       14860.73    72153.41  \n",
       "       3       10796.77   152723.93  \n",
       "       4        9311.09   128643.03  "
      ]
     },
     "metadata": {},
     "output_type": "display_data"
    }
   ],
   "source": [
    "ingresos_rurales.groupby(['Region','CUmun2']).describe().round(2)"
   ]
  },
  {
   "cell_type": "code",
   "execution_count": 5,
   "metadata": {},
   "outputs": [
    {
     "data": {
      "application/vnd.jupyter.widget-view+json": {
       "model_id": "701e49df6ea44ea086cb6fb00523c786"
      },
      "text/plain": [
       "  Region            tipo_hogar  CUmun2  ingreso mensual\n",
       "0  Norte  Sin ingresos propios       3          5663.39"
      ]
     },
     "metadata": {},
     "output_type": "display_data"
    }
   ],
   "source": [
    "ingresos_rurales.mode()"
   ]
  },
  {
   "cell_type": "code",
   "execution_count": 58,
   "metadata": {},
   "outputs": [],
   "source": [
    "from matplotlib.pyplot import *"
   ]
  },
  {
   "cell_type": "code",
   "execution_count": 7,
   "metadata": {},
   "outputs": [
    {
     "ename": "TypeError",
     "evalue": "float() argument must be a string or a number, not 'pandas._libs.interval.Interval'",
     "output_type": "error",
     "traceback": [
      "\u001b[0;31m---------------------------------------------------------------------------\u001b[0m",
      "\u001b[0;31mTypeError\u001b[0m                                 Traceback (most recent call last)",
      "\u001b[0;32m<ipython-input-7-4aff76c56515>\u001b[0m in \u001b[0;36m<module>\u001b[0;34m\u001b[0m\n\u001b[0;32m----> 1\u001b[0;31m \u001b[0mplot\u001b[0m\u001b[0;34m(\u001b[0m\u001b[0mqcut\u001b[0m\u001b[0;34m(\u001b[0m\u001b[0mingresos_rurales\u001b[0m\u001b[0;34m[\u001b[0m\u001b[0;34m'ingreso mensual'\u001b[0m\u001b[0;34m]\u001b[0m\u001b[0;34m,\u001b[0m\u001b[0;36m10\u001b[0m\u001b[0;34m)\u001b[0m\u001b[0;34m.\u001b[0m\u001b[0mvalues\u001b[0m\u001b[0;34m,\u001b[0m\u001b[0mingresos_rurales\u001b[0m\u001b[0;34m[\u001b[0m\u001b[0;34m'ingreso mensual'\u001b[0m\u001b[0;34m]\u001b[0m\u001b[0;34m.\u001b[0m\u001b[0mvalues\u001b[0m\u001b[0;34m)\u001b[0m\u001b[0;34m\u001b[0m\u001b[0;34m\u001b[0m\u001b[0m\n\u001b[0m",
      "\u001b[0;32m/usr/local/lib/python3.9/dist-packages/matplotlib/pyplot.py\u001b[0m in \u001b[0;36mplot\u001b[0;34m(scalex, scaley, data, *args, **kwargs)\u001b[0m\n\u001b[1;32m   2767\u001b[0m \u001b[0;34m@\u001b[0m\u001b[0m_copy_docstring_and_deprecators\u001b[0m\u001b[0;34m(\u001b[0m\u001b[0mAxes\u001b[0m\u001b[0;34m.\u001b[0m\u001b[0mplot\u001b[0m\u001b[0;34m)\u001b[0m\u001b[0;34m\u001b[0m\u001b[0;34m\u001b[0m\u001b[0m\n\u001b[1;32m   2768\u001b[0m \u001b[0;32mdef\u001b[0m \u001b[0mplot\u001b[0m\u001b[0;34m(\u001b[0m\u001b[0;34m*\u001b[0m\u001b[0margs\u001b[0m\u001b[0;34m,\u001b[0m \u001b[0mscalex\u001b[0m\u001b[0;34m=\u001b[0m\u001b[0;32mTrue\u001b[0m\u001b[0;34m,\u001b[0m \u001b[0mscaley\u001b[0m\u001b[0;34m=\u001b[0m\u001b[0;32mTrue\u001b[0m\u001b[0;34m,\u001b[0m \u001b[0mdata\u001b[0m\u001b[0;34m=\u001b[0m\u001b[0;32mNone\u001b[0m\u001b[0;34m,\u001b[0m \u001b[0;34m**\u001b[0m\u001b[0mkwargs\u001b[0m\u001b[0;34m)\u001b[0m\u001b[0;34m:\u001b[0m\u001b[0;34m\u001b[0m\u001b[0;34m\u001b[0m\u001b[0m\n\u001b[0;32m-> 2769\u001b[0;31m     return gca().plot(\n\u001b[0m\u001b[1;32m   2770\u001b[0m         \u001b[0;34m*\u001b[0m\u001b[0margs\u001b[0m\u001b[0;34m,\u001b[0m \u001b[0mscalex\u001b[0m\u001b[0;34m=\u001b[0m\u001b[0mscalex\u001b[0m\u001b[0;34m,\u001b[0m \u001b[0mscaley\u001b[0m\u001b[0;34m=\u001b[0m\u001b[0mscaley\u001b[0m\u001b[0;34m,\u001b[0m\u001b[0;34m\u001b[0m\u001b[0;34m\u001b[0m\u001b[0m\n\u001b[1;32m   2771\u001b[0m         **({\"data\": data} if data is not None else {}), **kwargs)\n",
      "\u001b[0;32m/usr/local/lib/python3.9/dist-packages/matplotlib/axes/_axes.py\u001b[0m in \u001b[0;36mplot\u001b[0;34m(self, scalex, scaley, data, *args, **kwargs)\u001b[0m\n\u001b[1;32m   1632\u001b[0m         \u001b[0mlines\u001b[0m \u001b[0;34m=\u001b[0m \u001b[0;34m[\u001b[0m\u001b[0;34m*\u001b[0m\u001b[0mself\u001b[0m\u001b[0;34m.\u001b[0m\u001b[0m_get_lines\u001b[0m\u001b[0;34m(\u001b[0m\u001b[0;34m*\u001b[0m\u001b[0margs\u001b[0m\u001b[0;34m,\u001b[0m \u001b[0mdata\u001b[0m\u001b[0;34m=\u001b[0m\u001b[0mdata\u001b[0m\u001b[0;34m,\u001b[0m \u001b[0;34m**\u001b[0m\u001b[0mkwargs\u001b[0m\u001b[0;34m)\u001b[0m\u001b[0;34m]\u001b[0m\u001b[0;34m\u001b[0m\u001b[0;34m\u001b[0m\u001b[0m\n\u001b[1;32m   1633\u001b[0m         \u001b[0;32mfor\u001b[0m \u001b[0mline\u001b[0m \u001b[0;32min\u001b[0m \u001b[0mlines\u001b[0m\u001b[0;34m:\u001b[0m\u001b[0;34m\u001b[0m\u001b[0;34m\u001b[0m\u001b[0m\n\u001b[0;32m-> 1634\u001b[0;31m             \u001b[0mself\u001b[0m\u001b[0;34m.\u001b[0m\u001b[0madd_line\u001b[0m\u001b[0;34m(\u001b[0m\u001b[0mline\u001b[0m\u001b[0;34m)\u001b[0m\u001b[0;34m\u001b[0m\u001b[0;34m\u001b[0m\u001b[0m\n\u001b[0m\u001b[1;32m   1635\u001b[0m         \u001b[0mself\u001b[0m\u001b[0;34m.\u001b[0m\u001b[0m_request_autoscale_view\u001b[0m\u001b[0;34m(\u001b[0m\u001b[0mscalex\u001b[0m\u001b[0;34m=\u001b[0m\u001b[0mscalex\u001b[0m\u001b[0;34m,\u001b[0m \u001b[0mscaley\u001b[0m\u001b[0;34m=\u001b[0m\u001b[0mscaley\u001b[0m\u001b[0;34m)\u001b[0m\u001b[0;34m\u001b[0m\u001b[0;34m\u001b[0m\u001b[0m\n\u001b[1;32m   1636\u001b[0m         \u001b[0;32mreturn\u001b[0m \u001b[0mlines\u001b[0m\u001b[0;34m\u001b[0m\u001b[0;34m\u001b[0m\u001b[0m\n",
      "\u001b[0;32m/usr/local/lib/python3.9/dist-packages/matplotlib/axes/_base.py\u001b[0m in \u001b[0;36madd_line\u001b[0;34m(self, line)\u001b[0m\n\u001b[1;32m   2286\u001b[0m             \u001b[0mline\u001b[0m\u001b[0;34m.\u001b[0m\u001b[0mset_clip_path\u001b[0m\u001b[0;34m(\u001b[0m\u001b[0mself\u001b[0m\u001b[0;34m.\u001b[0m\u001b[0mpatch\u001b[0m\u001b[0;34m)\u001b[0m\u001b[0;34m\u001b[0m\u001b[0;34m\u001b[0m\u001b[0m\n\u001b[1;32m   2287\u001b[0m \u001b[0;34m\u001b[0m\u001b[0m\n\u001b[0;32m-> 2288\u001b[0;31m         \u001b[0mself\u001b[0m\u001b[0;34m.\u001b[0m\u001b[0m_update_line_limits\u001b[0m\u001b[0;34m(\u001b[0m\u001b[0mline\u001b[0m\u001b[0;34m)\u001b[0m\u001b[0;34m\u001b[0m\u001b[0;34m\u001b[0m\u001b[0m\n\u001b[0m\u001b[1;32m   2289\u001b[0m         \u001b[0;32mif\u001b[0m \u001b[0;32mnot\u001b[0m \u001b[0mline\u001b[0m\u001b[0;34m.\u001b[0m\u001b[0mget_label\u001b[0m\u001b[0;34m(\u001b[0m\u001b[0;34m)\u001b[0m\u001b[0;34m:\u001b[0m\u001b[0;34m\u001b[0m\u001b[0;34m\u001b[0m\u001b[0m\n\u001b[1;32m   2290\u001b[0m             \u001b[0mline\u001b[0m\u001b[0;34m.\u001b[0m\u001b[0mset_label\u001b[0m\u001b[0;34m(\u001b[0m\u001b[0;34mf'_child{len(self._children)}'\u001b[0m\u001b[0;34m)\u001b[0m\u001b[0;34m\u001b[0m\u001b[0;34m\u001b[0m\u001b[0m\n",
      "\u001b[0;32m/usr/local/lib/python3.9/dist-packages/matplotlib/axes/_base.py\u001b[0m in \u001b[0;36m_update_line_limits\u001b[0;34m(self, line)\u001b[0m\n\u001b[1;32m   2309\u001b[0m         \u001b[0mFigures\u001b[0m \u001b[0mout\u001b[0m \u001b[0mthe\u001b[0m \u001b[0mdata\u001b[0m \u001b[0mlimit\u001b[0m \u001b[0mof\u001b[0m \u001b[0mthe\u001b[0m \u001b[0mgiven\u001b[0m \u001b[0mline\u001b[0m\u001b[0;34m,\u001b[0m \u001b[0mupdating\u001b[0m \u001b[0mself\u001b[0m\u001b[0;34m.\u001b[0m\u001b[0mdataLim\u001b[0m\u001b[0;34m.\u001b[0m\u001b[0;34m\u001b[0m\u001b[0;34m\u001b[0m\u001b[0m\n\u001b[1;32m   2310\u001b[0m         \"\"\"\n\u001b[0;32m-> 2311\u001b[0;31m         \u001b[0mpath\u001b[0m \u001b[0;34m=\u001b[0m \u001b[0mline\u001b[0m\u001b[0;34m.\u001b[0m\u001b[0mget_path\u001b[0m\u001b[0;34m(\u001b[0m\u001b[0;34m)\u001b[0m\u001b[0;34m\u001b[0m\u001b[0;34m\u001b[0m\u001b[0m\n\u001b[0m\u001b[1;32m   2312\u001b[0m         \u001b[0;32mif\u001b[0m \u001b[0mpath\u001b[0m\u001b[0;34m.\u001b[0m\u001b[0mvertices\u001b[0m\u001b[0;34m.\u001b[0m\u001b[0msize\u001b[0m \u001b[0;34m==\u001b[0m \u001b[0;36m0\u001b[0m\u001b[0;34m:\u001b[0m\u001b[0;34m\u001b[0m\u001b[0;34m\u001b[0m\u001b[0m\n\u001b[1;32m   2313\u001b[0m             \u001b[0;32mreturn\u001b[0m\u001b[0;34m\u001b[0m\u001b[0;34m\u001b[0m\u001b[0m\n",
      "\u001b[0;32m/usr/local/lib/python3.9/dist-packages/matplotlib/lines.py\u001b[0m in \u001b[0;36mget_path\u001b[0;34m(self)\u001b[0m\n\u001b[1;32m    997\u001b[0m         \u001b[0;34m\"\"\"Return the `~matplotlib.path.Path` associated with this line.\"\"\"\u001b[0m\u001b[0;34m\u001b[0m\u001b[0;34m\u001b[0m\u001b[0m\n\u001b[1;32m    998\u001b[0m         \u001b[0;32mif\u001b[0m \u001b[0mself\u001b[0m\u001b[0;34m.\u001b[0m\u001b[0m_invalidy\u001b[0m \u001b[0;32mor\u001b[0m \u001b[0mself\u001b[0m\u001b[0;34m.\u001b[0m\u001b[0m_invalidx\u001b[0m\u001b[0;34m:\u001b[0m\u001b[0;34m\u001b[0m\u001b[0;34m\u001b[0m\u001b[0m\n\u001b[0;32m--> 999\u001b[0;31m             \u001b[0mself\u001b[0m\u001b[0;34m.\u001b[0m\u001b[0mrecache\u001b[0m\u001b[0;34m(\u001b[0m\u001b[0;34m)\u001b[0m\u001b[0;34m\u001b[0m\u001b[0;34m\u001b[0m\u001b[0m\n\u001b[0m\u001b[1;32m   1000\u001b[0m         \u001b[0;32mreturn\u001b[0m \u001b[0mself\u001b[0m\u001b[0;34m.\u001b[0m\u001b[0m_path\u001b[0m\u001b[0;34m\u001b[0m\u001b[0;34m\u001b[0m\u001b[0m\n\u001b[1;32m   1001\u001b[0m \u001b[0;34m\u001b[0m\u001b[0m\n",
      "\u001b[0;32m/usr/local/lib/python3.9/dist-packages/matplotlib/lines.py\u001b[0m in \u001b[0;36mrecache\u001b[0;34m(self, always)\u001b[0m\n\u001b[1;32m    650\u001b[0m         \u001b[0;32mif\u001b[0m \u001b[0malways\u001b[0m \u001b[0;32mor\u001b[0m \u001b[0mself\u001b[0m\u001b[0;34m.\u001b[0m\u001b[0m_invalidx\u001b[0m\u001b[0;34m:\u001b[0m\u001b[0;34m\u001b[0m\u001b[0;34m\u001b[0m\u001b[0m\n\u001b[1;32m    651\u001b[0m             \u001b[0mxconv\u001b[0m \u001b[0;34m=\u001b[0m \u001b[0mself\u001b[0m\u001b[0;34m.\u001b[0m\u001b[0mconvert_xunits\u001b[0m\u001b[0;34m(\u001b[0m\u001b[0mself\u001b[0m\u001b[0;34m.\u001b[0m\u001b[0m_xorig\u001b[0m\u001b[0;34m)\u001b[0m\u001b[0;34m\u001b[0m\u001b[0;34m\u001b[0m\u001b[0m\n\u001b[0;32m--> 652\u001b[0;31m             \u001b[0mx\u001b[0m \u001b[0;34m=\u001b[0m \u001b[0m_to_unmasked_float_array\u001b[0m\u001b[0;34m(\u001b[0m\u001b[0mxconv\u001b[0m\u001b[0;34m)\u001b[0m\u001b[0;34m.\u001b[0m\u001b[0mravel\u001b[0m\u001b[0;34m(\u001b[0m\u001b[0;34m)\u001b[0m\u001b[0;34m\u001b[0m\u001b[0;34m\u001b[0m\u001b[0m\n\u001b[0m\u001b[1;32m    653\u001b[0m         \u001b[0;32melse\u001b[0m\u001b[0;34m:\u001b[0m\u001b[0;34m\u001b[0m\u001b[0;34m\u001b[0m\u001b[0m\n\u001b[1;32m    654\u001b[0m             \u001b[0mx\u001b[0m \u001b[0;34m=\u001b[0m \u001b[0mself\u001b[0m\u001b[0;34m.\u001b[0m\u001b[0m_x\u001b[0m\u001b[0;34m\u001b[0m\u001b[0;34m\u001b[0m\u001b[0m\n",
      "\u001b[0;32m/usr/local/lib/python3.9/dist-packages/matplotlib/cbook/__init__.py\u001b[0m in \u001b[0;36m_to_unmasked_float_array\u001b[0;34m(x)\u001b[0m\n\u001b[1;32m   1296\u001b[0m         \u001b[0;32mreturn\u001b[0m \u001b[0mnp\u001b[0m\u001b[0;34m.\u001b[0m\u001b[0mma\u001b[0m\u001b[0;34m.\u001b[0m\u001b[0masarray\u001b[0m\u001b[0;34m(\u001b[0m\u001b[0mx\u001b[0m\u001b[0;34m,\u001b[0m \u001b[0mfloat\u001b[0m\u001b[0;34m)\u001b[0m\u001b[0;34m.\u001b[0m\u001b[0mfilled\u001b[0m\u001b[0;34m(\u001b[0m\u001b[0mnp\u001b[0m\u001b[0;34m.\u001b[0m\u001b[0mnan\u001b[0m\u001b[0;34m)\u001b[0m\u001b[0;34m\u001b[0m\u001b[0;34m\u001b[0m\u001b[0m\n\u001b[1;32m   1297\u001b[0m     \u001b[0;32melse\u001b[0m\u001b[0;34m:\u001b[0m\u001b[0;34m\u001b[0m\u001b[0;34m\u001b[0m\u001b[0m\n\u001b[0;32m-> 1298\u001b[0;31m         \u001b[0;32mreturn\u001b[0m \u001b[0mnp\u001b[0m\u001b[0;34m.\u001b[0m\u001b[0masarray\u001b[0m\u001b[0;34m(\u001b[0m\u001b[0mx\u001b[0m\u001b[0;34m,\u001b[0m \u001b[0mfloat\u001b[0m\u001b[0;34m)\u001b[0m\u001b[0;34m\u001b[0m\u001b[0;34m\u001b[0m\u001b[0m\n\u001b[0m\u001b[1;32m   1299\u001b[0m \u001b[0;34m\u001b[0m\u001b[0m\n\u001b[1;32m   1300\u001b[0m \u001b[0;34m\u001b[0m\u001b[0m\n",
      "\u001b[0;31mTypeError\u001b[0m: float() argument must be a string or a number, not 'pandas._libs.interval.Interval'"
     ]
    },
    {
     "data": {
      "image/png": "[encoded data removed]",
      "text/plain": [
       "<Figure size 432x288 with 1 Axes>"
      ]
     },
     "metadata": {
      "needs_background": "light"
     },
     "output_type": "display_data"
    }
   ],
   "source": [
    "plot(qcut(ingresos_rurales['ingreso mensual'],10).values,ingresos_rurales['ingreso mensual'].values)"
   ]
  },
  {
   "cell_type": "code",
   "execution_count": 8,
   "metadata": {},
   "outputs": [
    {
     "data": {
      "application/vnd.jupyter.widget-view+json": {
       "model_id": "1b32654d151749bfac6bd6fbfee61bc2"
      },
      "text/plain": [
       "                         CUmun2                                       \\\n",
       "                          count  mean   std  min  25%  50%  75%  max   \n",
       "ingreso mensual                                                        \n",
       "(-0.001, 3645.728]       2992.0  3.15  0.92  0.0  3.0  3.0  4.0  4.0   \n",
       "(3645.728, 5095.498]     2992.0  3.04  0.97  0.0  3.0  3.0  4.0  4.0   \n",
       "(5095.498, 6427.774]     2992.0  2.89  1.00  0.0  3.0  3.0  4.0  4.0   \n",
       "(6427.774, 7805.05]      2997.0  2.88  1.01  0.0  3.0  3.0  4.0  4.0   \n",
       "(7805.05, 9361.33]       2987.0  2.82  1.05  0.0  3.0  3.0  4.0  4.0   \n",
       "(9361.33, 11184.422]     2992.0  2.77  1.06  0.0  3.0  3.0  3.0  4.0   \n",
       "(11184.422, 13590.062]   2992.0  2.77  1.06  0.0  2.0  3.0  3.0  4.0   \n",
       "(13590.062, 17197.118]   2992.0  2.68  1.10  0.0  1.0  3.0  3.0  4.0   \n",
       "(17197.118, 23692.369]   2992.0  2.69  1.10  0.0  1.0  3.0  3.0  4.0   \n",
       "(23692.369, 3567369.13]  2992.0  2.66  1.11  0.0  1.0  3.0  3.0  4.0   \n",
       "\n",
       "                        ingreso mensual                                \\\n",
       "                                  count      mean       std       min   \n",
       "ingreso mensual                                                         \n",
       "(-0.001, 3645.728]               2992.0   2661.86    693.18      0.00   \n",
       "(3645.728, 5095.498]             2992.0   4400.26    417.00   3645.83   \n",
       "(5095.498, 6427.774]             2992.0   5771.56    391.68   5095.63   \n",
       "(6427.774, 7805.05]              2997.0   7105.66    401.03   6427.78   \n",
       "(7805.05, 9361.33]               2987.0   8566.94    450.56   7805.10   \n",
       "(9361.33, 11184.422]             2992.0  10235.09    525.40   9361.56   \n",
       "(11184.422, 13590.062]           2992.0  12334.46    684.38  11184.62   \n",
       "(13590.062, 17197.118]           2992.0  15293.12   1050.45  13591.07   \n",
       "(17197.118, 23692.369]           2992.0  20036.11   1860.26  17198.71   \n",
       "(23692.369, 3567369.13]          2992.0  42252.94  81703.29  23693.62   \n",
       "\n",
       "                                                                   \n",
       "                              25%       50%       75%         max  \n",
       "ingreso mensual                                                    \n",
       "(-0.001, 3645.728]        2209.64   2783.40   3222.09     3644.81  \n",
       "(3645.728, 5095.498]      4057.02   4409.85   4761.76     5094.97  \n",
       "(5095.498, 6427.774]      5426.96   5778.52   6114.10     6427.76  \n",
       "(6427.774, 7805.05]       6747.39   7098.17   7458.59     7805.05  \n",
       "(7805.05, 9361.33]        8176.96   8565.56   8951.44     9361.10  \n",
       "(9361.33, 11184.422]      9760.59  10234.06  10680.58    11184.29  \n",
       "(11184.422, 13590.062]   11733.71  12307.72  12919.08    13589.63  \n",
       "(13590.062, 17197.118]   14339.10  15257.84  16195.06    17196.72  \n",
       "(17197.118, 23692.369]   18365.66  19905.44  21527.82    23692.23  \n",
       "(23692.369, 3567369.13]  26617.83  31411.46  41674.72  3567369.13  "
      ]
     },
     "metadata": {},
     "output_type": "display_data"
    }
   ],
   "source": [
    "ingresos_rurales.groupby(qcut(ingresos_rurales['ingreso mensual'],10)).describe().round(2)"
   ]
  },
  {
   "cell_type": "code",
   "execution_count": 24,
   "metadata": {},
   "outputs": [],
   "source": [
    "T7=data.filter(['Region','folioviv','ingreso mensual','tipo_hogar'])"
   ]
  },
  {
   "cell_type": "code",
   "execution_count": 25,
   "metadata": {},
   "outputs": [],
   "source": [
    "T7['rango_ingresos_1']=cut(T7['ingreso mensual'],400)"
   ]
  },
  {
   "cell_type": "code",
   "execution_count": 11,
   "metadata": {},
   "outputs": [
    {
     "data": {
      "text/plain": [
       "<AxesSubplot:xlabel='rango_ingresos_1'>"
      ]
     },
     "execution_count": 11,
     "metadata": {},
     "output_type": "execute_result"
    },
    {
     "data": {
      "image/png": "[encoded data removed]",
      "text/plain": [
       "<Figure size 432x288 with 1 Axes>"
      ]
     },
     "metadata": {
      "needs_background": "light"
     },
     "output_type": "display_data"
    }
   ],
   "source": [
    "T7.filter(['ingreso mensual','Region','rango_ingresos_1']).pivot_table(index='rango_ingresos_1',columns='Region',aggfunc='count',margins=True, margins_name='Total').fillna(0).loc[:'Total'].plot()"
   ]
  },
  {
   "cell_type": "code",
   "execution_count": 12,
   "metadata": {},
   "outputs": [
    {
     "data": {
      "text/plain": [
       "<AxesSubplot:xlabel='rango_ingresos_1'>"
      ]
     },
     "execution_count": 12,
     "metadata": {},
     "output_type": "execute_result"
    },
    {
     "data": {
      "image/png": "[encoded data removed]",
      "text/plain": [
       "<Figure size 432x288 with 1 Axes>"
      ]
     },
     "metadata": {
      "needs_background": "light"
     },
     "output_type": "display_data"
    }
   ],
   "source": [
    "T7.filter(['ingreso mensual','Region','rango_ingresos_1']).pivot_table(index='rango_ingresos_1',columns='Region',aggfunc='count').fillna(0).plot()"
   ]
  },
  {
   "cell_type": "code",
   "execution_count": 76,
   "metadata": {},
   "outputs": [
    {
     "data": {
      "text/plain": [
       "<Figure size 432x288 with 0 Axes>"
      ]
     },
     "metadata": {},
     "output_type": "display_data"
    },
    {
     "data": {
      "image/png": "[encoded data removed]",
      "text/plain": [
       "<Figure size 432x288 with 1 Axes>"
      ]
     },
     "metadata": {
      "needs_background": "light"
     },
     "output_type": "display_data"
    },
    {
     "data": {
      "image/png": "[encoded data removed]",
      "text/plain": [
       "<Figure size 432x288 with 1 Axes>"
      ]
     },
     "metadata": {
      "needs_background": "light"
     },
     "output_type": "display_data"
    },
    {
     "data": {
      "image/png": "[encoded data removed]",
      "text/plain": [
       "<Figure size 432x288 with 1 Axes>"
      ]
     },
     "metadata": {
      "needs_background": "light"
     },
     "output_type": "display_data"
    }
   ],
   "source": [
    "figure()\n",
    "ingresos_rurales['rango_ingresos_1']=cut(T7['ingreso mensual'],400)\n",
    "ingresos_rurales.filter(['ingreso mensual','Region','rango_ingresos_1']).pivot_table(index='rango_ingresos_1',columns='Region',aggfunc='count').fillna(0).plot()\n",
    "savefig('distribucion_ingresos por region.png')\n",
    "ingresos_rurales.filter(['ingreso mensual','CUmun2','rango_ingresos_1']).pivot_table(index='rango_ingresos_1',columns='CUmun2',aggfunc='count').fillna(0).plot()\n",
    "savefig('distribucion_ingresos por ubicacion.png')\n",
    "ingresos_rurales.filter(['ingreso mensual','tipo_hogar','rango_ingresos_1']).pivot_table(index='rango_ingresos_1',columns='tipo_hogar',aggfunc='count').fillna(0).plot()\n",
    "savefig('distribucion_ingresos por tipo de hohgar.png')"
   ]
  },
  {
   "cell_type": "code",
   "execution_count": 16,
   "metadata": {},
   "outputs": [
    {
     "data": {
      "application/vnd.jupyter.widget-view+json": {
       "model_id": "c58f4672b1ee42b1ba9a9ac504f2958d"
      },
      "text/plain": [
       "       Region    folioviv  ingreso mensual       rango_ingresos_1\n",
       "0      Centro   160009403     16203.990000  (8918.423, 17836.846]\n",
       "1      Centro   160009407     10305.463333  (8918.423, 17836.846]\n",
       "2      Centro   160009411      6900.413333  (-3567.369, 8918.423]\n",
       "3      Centro   160009415     16267.646667  (8918.423, 17836.846]\n",
       "4      Centro   160009419     11449.063333  (8918.423, 17836.846]\n",
       "...       ...         ...              ...                    ...\n",
       "29915   Norte  3260770714      4742.616667  (-3567.369, 8918.423]\n",
       "29916   Norte  3260770715      4626.223333  (-3567.369, 8918.423]\n",
       "29917   Norte  3260770716      6701.613333  (-3567.369, 8918.423]\n",
       "29918   Norte  3260770717      8655.733333  (-3567.369, 8918.423]\n",
       "29919   Norte  3260770718     15138.386667  (8918.423, 17836.846]\n",
       "\n",
       "[29920 rows x 4 columns]"
      ]
     },
     "metadata": {},
     "output_type": "display_data"
    }
   ],
   "source": [
    "T7."
   ]
  },
  {
   "cell_type": "code",
   "execution_count": 17,
   "metadata": {},
   "outputs": [
    {
     "data": {
      "application/vnd.jupyter.widget-view+json": {
       "model_id": "72d08e115c6b4d27aa42b51c484432c6"
      },
      "text/plain": [
       "                          ingreso mensual                        \n",
       "Region                             Centro    Norte     Sur  Total\n",
       "rango_ingresos_1                                                 \n",
       "(-3567.369, 8918.423]              4721.0   5038.0  4400.0  14159\n",
       "(8918.423, 17836.846]              4085.0   4430.0  1677.0  10192\n",
       "(17836.846, 26755.269]             1409.0   1584.0   366.0   3359\n",
       "(26755.269, 35673.691]              454.0    566.0    99.0   1119\n",
       "(35673.691, 44592.114]              179.0    244.0    51.0    474\n",
       "(44592.114, 53510.537]               88.0    121.0    19.0    228\n",
       "(53510.537, 62428.96]                51.0     66.0    11.0    128\n",
       "(62428.96, 71347.383]                20.0     48.0     4.0     72\n",
       "(71347.383, 80265.806]               16.0     22.0     5.0     43\n",
       "(80265.806, 89184.228]               11.0     18.0     4.0     33\n",
       "(89184.228, 98102.651]                5.0      9.0     1.0     15\n",
       "(98102.651, 107021.074]               5.0      7.0     2.0     14\n",
       "(107021.074, 115939.497]              1.0      4.0     2.0      7\n",
       "(115939.497, 124857.92]               2.0      3.0     1.0      6\n",
       "(124857.92, 133776.342]               1.0      5.0     2.0      8\n",
       "(133776.342, 142694.765]              4.0      7.0     0.0     11\n",
       "(142694.765, 151613.188]              2.0      6.0     0.0      8\n",
       "(151613.188, 160531.611]              2.0      1.0     1.0      4\n",
       "(160531.611, 169450.034]              2.0      3.0     0.0      5\n",
       "(169450.034, 178368.457]              1.0      1.0     0.0      2\n",
       "(178368.457, 187286.88]               0.0      2.0     0.0      2\n",
       "(187286.88, 196205.302]               0.0      2.0     0.0      2\n",
       "(196205.302, 205123.725]              1.0      2.0     0.0      3\n",
       "(205123.725, 214042.148]              0.0      3.0     0.0      3\n",
       "(214042.148, 222960.571]              1.0      1.0     0.0      2\n",
       "(222960.571, 231878.994]              0.0      3.0     0.0      3\n",
       "(231878.994, 240797.417]              1.0      2.0     0.0      3\n",
       "(258634.262, 267552.685]              0.0      2.0     0.0      2\n",
       "(276471.108, 285389.531]              0.0      1.0     0.0      1\n",
       "(303226.376, 312144.799]              1.0      0.0     0.0      1\n",
       "(312144.799, 321063.222]              0.0      1.0     0.0      1\n",
       "(321063.222, 329981.645]              1.0      0.0     0.0      1\n",
       "(347818.49, 356736.913]               0.0      1.0     0.0      1\n",
       "(374573.759, 383492.182]              0.0      1.0     0.0      1\n",
       "(419165.873, 428084.296]              0.0      1.0     0.0      1\n",
       "(428084.296, 437002.719]              0.0      1.0     0.0      1\n",
       "(535105.37, 544023.793]               0.0      1.0     0.0      1\n",
       "(544023.793, 552942.216]              1.0      0.0     0.0      1\n",
       "(802658.055, 811576.478]              0.0      1.0     0.0      1\n",
       "(2006645.138, 2015563.56]             0.0      1.0     0.0      1\n",
       "(3558450.71, 3567369.133]             0.0      1.0     0.0      1\n",
       "Total                             11065.0  12210.0  6645.0  29920"
      ]
     },
     "metadata": {},
     "output_type": "display_data"
    }
   ],
   "source": [
    "T7.filter(['ingreso mensual','Region','rango_ingresos_1']).pivot_table(index='rango_ingresos_1',columns='Region',aggfunc='count',margins=True, margins_name='Total').fillna(0)"
   ]
  },
  {
   "cell_type": "code",
   "execution_count": 27,
   "metadata": {},
   "outputs": [],
   "source": [
    "T7['rango_ingresos_2']=cut(T7['ingreso mensual'],20)"
   ]
  },
  {
   "cell_type": "code",
   "execution_count": 18,
   "metadata": {},
   "outputs": [],
   "source": [
    "T7['rango_ingresos_1']=cut(T7['ingreso mensual'],400)"
   ]
  },
  {
   "cell_type": "code",
   "execution_count": 22,
   "metadata": {},
   "outputs": [
    {
     "data": {
      "application/vnd.jupyter.widget-view+json": {
       "model_id": "2b1071b03cc242d886a5c64e1c3f8a5f"
      },
      "text/plain": [
       "       Region    folioviv  ingreso mensual         rango_ingresos_2  \\\n",
       "0      Centro   160009403     16203.990000  (-3567.369, 178368.457]   \n",
       "1      Centro   160009407     10305.463333  (-3567.369, 178368.457]   \n",
       "2      Centro   160009411      6900.413333  (-3567.369, 178368.457]   \n",
       "3      Centro   160009415     16267.646667  (-3567.369, 178368.457]   \n",
       "4      Centro   160009419     11449.063333  (-3567.369, 178368.457]   \n",
       "...       ...         ...              ...                      ...   \n",
       "29915   Norte  3260770714      4742.616667  (-3567.369, 178368.457]   \n",
       "29916   Norte  3260770715      4626.223333  (-3567.369, 178368.457]   \n",
       "29917   Norte  3260770716      6701.613333  (-3567.369, 178368.457]   \n",
       "29918   Norte  3260770717      8655.733333  (-3567.369, 178368.457]   \n",
       "29919   Norte  3260770718     15138.386667  (-3567.369, 178368.457]   \n",
       "\n",
       "            rango_ingresos_1  \n",
       "0      (8918.423, 17836.846]  \n",
       "1      (8918.423, 17836.846]  \n",
       "2      (-3567.369, 8918.423]  \n",
       "3      (8918.423, 17836.846]  \n",
       "4      (8918.423, 17836.846]  \n",
       "...                      ...  \n",
       "29915  (-3567.369, 8918.423]  \n",
       "29916  (-3567.369, 8918.423]  \n",
       "29917  (-3567.369, 8918.423]  \n",
       "29918  (-3567.369, 8918.423]  \n",
       "29919  (8918.423, 17836.846]  \n",
       "\n",
       "[29920 rows x 5 columns]"
      ]
     },
     "metadata": {},
     "output_type": "display_data"
    }
   ],
   "source": [
    "T7"
   ]
  },
  {
   "cell_type": "code",
   "execution_count": 22,
   "metadata": {},
   "outputs": [
    {
     "data": {
      "application/vnd.jupyter.widget-view+json": {
       "model_id": "e37b219b2c104d8cb3f19bf4a8e6929e"
      },
      "text/plain": [
       "                           ingreso mensual                        \n",
       "Region                              Centro    Norte     Sur  Total\n",
       "rango_ingresos_2                                                  \n",
       "(-3567.369, 178368.457]            11059.0  12183.0  6645.0  29887\n",
       "(178368.457, 356736.913]               5.0     20.0     0.0     25\n",
       "(356736.913, 535105.37]                0.0      3.0     0.0      3\n",
       "(535105.37, 713473.827]                1.0      1.0     0.0      2\n",
       "(713473.827, 891842.283]               0.0      1.0     0.0      1\n",
       "(1962053.023, 2140421.48]              0.0      1.0     0.0      1\n",
       "(3389000.677, 3567369.133]             0.0      1.0     0.0      1\n",
       "Total                              11065.0  12210.0  6645.0  29920"
      ]
     },
     "metadata": {},
     "output_type": "display_data"
    }
   ],
   "source": [
    "T7.filter(['ingreso mensual','Region','rango_ingresos_2']).pivot_table(index='rango_ingresos_2',columns='Region',aggfunc='count',margins=True, margins_name='Total').fillna(0)"
   ]
  },
  {
   "cell_type": "code",
   "execution_count": 24,
   "metadata": {},
   "outputs": [
    {
     "data": {
      "application/vnd.jupyter.widget-view+json": {
       "model_id": "eb8c7968b0d44a73b1b07a5f1f8ccbd3"
      },
      "text/plain": [
       "                         ingreso mensual                        \n",
       "Region                            Centro    Norte     Sur  Total\n",
       "rango_ingresos_2                                                \n",
       "(-3567.369, 178368.457]          11059.0  12183.0  6645.0  29887\n",
       "(178368.457, 356736.913]             3.0     18.0     0.0     21\n",
       "Total                            11062.0  12201.0  6645.0  29908"
      ]
     },
     "metadata": {},
     "output_type": "display_data"
    }
   ],
   "source": [
    "T7.loc[T7['ingreso mensual']<=300000].filter(['ingreso mensual','Region','rango_ingresos_2']).pivot_table(index='rango_ingresos_2',columns='Region',aggfunc='count',margins=True, margins_name='Total').fillna(0)"
   ]
  },
  {
   "cell_type": "code",
   "execution_count": 26,
   "metadata": {},
   "outputs": [
    {
     "data": {
      "text/plain": [
       "12535.844394810712"
      ]
     },
     "execution_count": 26,
     "metadata": {},
     "output_type": "execute_result"
    }
   ],
   "source": [
    "T7.loc[T7['ingreso mensual']<=300000]['ingreso mensual'].mean()"
   ]
  },
  {
   "cell_type": "code",
   "execution_count": 21,
   "metadata": {},
   "outputs": [
    {
     "ename": "KeyError",
     "evalue": "'tipo_hogar'",
     "output_type": "error",
     "traceback": [
      "\u001b[0;31m---------------------------------------------------------------------------\u001b[0m",
      "\u001b[0;31mKeyError\u001b[0m                                  Traceback (most recent call last)",
      "\u001b[0;32m<ipython-input-21-07053518d27c>\u001b[0m in \u001b[0;36m<module>\u001b[0;34m\u001b[0m\n\u001b[0;32m----> 1\u001b[0;31m \u001b[0mT7\u001b[0m\u001b[0;34m.\u001b[0m\u001b[0mloc\u001b[0m\u001b[0;34m[\u001b[0m\u001b[0mT7\u001b[0m\u001b[0;34m[\u001b[0m\u001b[0;34m'ingreso mensual'\u001b[0m\u001b[0;34m]\u001b[0m\u001b[0;34m<=\u001b[0m\u001b[0;36m10000\u001b[0m\u001b[0;34m]\u001b[0m\u001b[0;34m.\u001b[0m\u001b[0mfilter\u001b[0m\u001b[0;34m(\u001b[0m\u001b[0;34m[\u001b[0m\u001b[0;34m'ingreso mensual'\u001b[0m\u001b[0;34m,\u001b[0m\u001b[0;34m'tipo_hogar'\u001b[0m\u001b[0;34m,\u001b[0m\u001b[0;34m'rango_ingresos_1'\u001b[0m\u001b[0;34m]\u001b[0m\u001b[0;34m)\u001b[0m\u001b[0;34m.\u001b[0m\u001b[0mpivot_table\u001b[0m\u001b[0;34m(\u001b[0m\u001b[0mindex\u001b[0m\u001b[0;34m=\u001b[0m\u001b[0;34m'rango_ingresos_1'\u001b[0m\u001b[0;34m,\u001b[0m\u001b[0mcolumns\u001b[0m\u001b[0;34m=\u001b[0m\u001b[0;34m'tipo_hogar'\u001b[0m\u001b[0;34m,\u001b[0m\u001b[0maggfunc\u001b[0m\u001b[0;34m=\u001b[0m\u001b[0;34m'count'\u001b[0m\u001b[0;34m)\u001b[0m\u001b[0;34m.\u001b[0m\u001b[0mfillna\u001b[0m\u001b[0;34m(\u001b[0m\u001b[0;36m0\u001b[0m\u001b[0;34m)\u001b[0m\u001b[0;31m#.plot.hist()\u001b[0m\u001b[0;34m\u001b[0m\u001b[0;34m\u001b[0m\u001b[0m\n\u001b[0m",
      "\u001b[0;32m/usr/lib/python3/dist-packages/pandas/core/frame.py\u001b[0m in \u001b[0;36mpivot_table\u001b[0;34m(self, values, index, columns, aggfunc, fill_value, margins, dropna, margins_name, observed)\u001b[0m\n\u001b[1;32m   6824\u001b[0m         \u001b[0;32mfrom\u001b[0m \u001b[0mpandas\u001b[0m\u001b[0;34m.\u001b[0m\u001b[0mcore\u001b[0m\u001b[0;34m.\u001b[0m\u001b[0mreshape\u001b[0m\u001b[0;34m.\u001b[0m\u001b[0mpivot\u001b[0m \u001b[0;32mimport\u001b[0m \u001b[0mpivot_table\u001b[0m\u001b[0;34m\u001b[0m\u001b[0;34m\u001b[0m\u001b[0m\n\u001b[1;32m   6825\u001b[0m \u001b[0;34m\u001b[0m\u001b[0m\n\u001b[0;32m-> 6826\u001b[0;31m         return pivot_table(\n\u001b[0m\u001b[1;32m   6827\u001b[0m             \u001b[0mself\u001b[0m\u001b[0;34m,\u001b[0m\u001b[0;34m\u001b[0m\u001b[0;34m\u001b[0m\u001b[0m\n\u001b[1;32m   6828\u001b[0m             \u001b[0mvalues\u001b[0m\u001b[0;34m=\u001b[0m\u001b[0mvalues\u001b[0m\u001b[0;34m,\u001b[0m\u001b[0;34m\u001b[0m\u001b[0;34m\u001b[0m\u001b[0m\n",
      "\u001b[0;32m/usr/lib/python3/dist-packages/pandas/core/reshape/pivot.py\u001b[0m in \u001b[0;36mpivot_table\u001b[0;34m(data, values, index, columns, aggfunc, fill_value, margins, dropna, margins_name, observed)\u001b[0m\n\u001b[1;32m    109\u001b[0m         \u001b[0mvalues\u001b[0m \u001b[0;34m=\u001b[0m \u001b[0mlist\u001b[0m\u001b[0;34m(\u001b[0m\u001b[0mvalues\u001b[0m\u001b[0;34m)\u001b[0m\u001b[0;34m\u001b[0m\u001b[0;34m\u001b[0m\u001b[0m\n\u001b[1;32m    110\u001b[0m \u001b[0;34m\u001b[0m\u001b[0m\n\u001b[0;32m--> 111\u001b[0;31m     \u001b[0mgrouped\u001b[0m \u001b[0;34m=\u001b[0m \u001b[0mdata\u001b[0m\u001b[0;34m.\u001b[0m\u001b[0mgroupby\u001b[0m\u001b[0;34m(\u001b[0m\u001b[0mkeys\u001b[0m\u001b[0;34m,\u001b[0m \u001b[0mobserved\u001b[0m\u001b[0;34m=\u001b[0m\u001b[0mobserved\u001b[0m\u001b[0;34m)\u001b[0m\u001b[0;34m\u001b[0m\u001b[0;34m\u001b[0m\u001b[0m\n\u001b[0m\u001b[1;32m    112\u001b[0m     \u001b[0magged\u001b[0m \u001b[0;34m=\u001b[0m \u001b[0mgrouped\u001b[0m\u001b[0;34m.\u001b[0m\u001b[0magg\u001b[0m\u001b[0;34m(\u001b[0m\u001b[0maggfunc\u001b[0m\u001b[0;34m)\u001b[0m\u001b[0;34m\u001b[0m\u001b[0;34m\u001b[0m\u001b[0m\n\u001b[1;32m    113\u001b[0m     \u001b[0;32mif\u001b[0m \u001b[0mdropna\u001b[0m \u001b[0;32mand\u001b[0m \u001b[0misinstance\u001b[0m\u001b[0;34m(\u001b[0m\u001b[0magged\u001b[0m\u001b[0;34m,\u001b[0m \u001b[0mABCDataFrame\u001b[0m\u001b[0;34m)\u001b[0m \u001b[0;32mand\u001b[0m \u001b[0mlen\u001b[0m\u001b[0;34m(\u001b[0m\u001b[0magged\u001b[0m\u001b[0;34m.\u001b[0m\u001b[0mcolumns\u001b[0m\u001b[0;34m)\u001b[0m\u001b[0;34m:\u001b[0m\u001b[0;34m\u001b[0m\u001b[0;34m\u001b[0m\u001b[0m\n",
      "\u001b[0;32m/usr/lib/python3/dist-packages/pandas/core/frame.py\u001b[0m in \u001b[0;36mgroupby\u001b[0;34m(self, by, axis, level, as_index, sort, group_keys, squeeze, observed, dropna)\u001b[0m\n\u001b[1;32m   6513\u001b[0m         \u001b[0maxis\u001b[0m \u001b[0;34m=\u001b[0m \u001b[0mself\u001b[0m\u001b[0;34m.\u001b[0m\u001b[0m_get_axis_number\u001b[0m\u001b[0;34m(\u001b[0m\u001b[0maxis\u001b[0m\u001b[0;34m)\u001b[0m\u001b[0;34m\u001b[0m\u001b[0;34m\u001b[0m\u001b[0m\n\u001b[1;32m   6514\u001b[0m \u001b[0;34m\u001b[0m\u001b[0m\n\u001b[0;32m-> 6515\u001b[0;31m         return DataFrameGroupBy(\n\u001b[0m\u001b[1;32m   6516\u001b[0m             \u001b[0mobj\u001b[0m\u001b[0;34m=\u001b[0m\u001b[0mself\u001b[0m\u001b[0;34m,\u001b[0m\u001b[0;34m\u001b[0m\u001b[0;34m\u001b[0m\u001b[0m\n\u001b[1;32m   6517\u001b[0m             \u001b[0mkeys\u001b[0m\u001b[0;34m=\u001b[0m\u001b[0mby\u001b[0m\u001b[0;34m,\u001b[0m\u001b[0;34m\u001b[0m\u001b[0;34m\u001b[0m\u001b[0m\n",
      "\u001b[0;32m/usr/lib/python3/dist-packages/pandas/core/groupby/groupby.py\u001b[0m in \u001b[0;36m__init__\u001b[0;34m(self, obj, keys, axis, level, grouper, exclusions, selection, as_index, sort, group_keys, squeeze, observed, mutated, dropna)\u001b[0m\n\u001b[1;32m    523\u001b[0m             \u001b[0;32mfrom\u001b[0m \u001b[0mpandas\u001b[0m\u001b[0;34m.\u001b[0m\u001b[0mcore\u001b[0m\u001b[0;34m.\u001b[0m\u001b[0mgroupby\u001b[0m\u001b[0;34m.\u001b[0m\u001b[0mgrouper\u001b[0m \u001b[0;32mimport\u001b[0m \u001b[0mget_grouper\u001b[0m\u001b[0;34m\u001b[0m\u001b[0;34m\u001b[0m\u001b[0m\n\u001b[1;32m    524\u001b[0m \u001b[0;34m\u001b[0m\u001b[0m\n\u001b[0;32m--> 525\u001b[0;31m             grouper, exclusions, obj = get_grouper(\n\u001b[0m\u001b[1;32m    526\u001b[0m                 \u001b[0mobj\u001b[0m\u001b[0;34m,\u001b[0m\u001b[0;34m\u001b[0m\u001b[0;34m\u001b[0m\u001b[0m\n\u001b[1;32m    527\u001b[0m                 \u001b[0mkeys\u001b[0m\u001b[0;34m,\u001b[0m\u001b[0;34m\u001b[0m\u001b[0;34m\u001b[0m\u001b[0m\n",
      "\u001b[0;32m/usr/lib/python3/dist-packages/pandas/core/groupby/grouper.py\u001b[0m in \u001b[0;36mget_grouper\u001b[0;34m(obj, key, axis, level, sort, observed, mutated, validate, dropna)\u001b[0m\n\u001b[1;32m    784\u001b[0m                 \u001b[0min_axis\u001b[0m\u001b[0;34m,\u001b[0m \u001b[0mname\u001b[0m\u001b[0;34m,\u001b[0m \u001b[0mlevel\u001b[0m\u001b[0;34m,\u001b[0m \u001b[0mgpr\u001b[0m \u001b[0;34m=\u001b[0m \u001b[0;32mFalse\u001b[0m\u001b[0;34m,\u001b[0m \u001b[0;32mNone\u001b[0m\u001b[0;34m,\u001b[0m \u001b[0mgpr\u001b[0m\u001b[0;34m,\u001b[0m \u001b[0;32mNone\u001b[0m\u001b[0;34m\u001b[0m\u001b[0;34m\u001b[0m\u001b[0m\n\u001b[1;32m    785\u001b[0m             \u001b[0;32melse\u001b[0m\u001b[0;34m:\u001b[0m\u001b[0;34m\u001b[0m\u001b[0;34m\u001b[0m\u001b[0m\n\u001b[0;32m--> 786\u001b[0;31m                 \u001b[0;32mraise\u001b[0m \u001b[0mKeyError\u001b[0m\u001b[0;34m(\u001b[0m\u001b[0mgpr\u001b[0m\u001b[0;34m)\u001b[0m\u001b[0;34m\u001b[0m\u001b[0;34m\u001b[0m\u001b[0m\n\u001b[0m\u001b[1;32m    787\u001b[0m         \u001b[0;32melif\u001b[0m \u001b[0misinstance\u001b[0m\u001b[0;34m(\u001b[0m\u001b[0mgpr\u001b[0m\u001b[0;34m,\u001b[0m \u001b[0mGrouper\u001b[0m\u001b[0;34m)\u001b[0m \u001b[0;32mand\u001b[0m \u001b[0mgpr\u001b[0m\u001b[0;34m.\u001b[0m\u001b[0mkey\u001b[0m \u001b[0;32mis\u001b[0m \u001b[0;32mnot\u001b[0m \u001b[0;32mNone\u001b[0m\u001b[0;34m:\u001b[0m\u001b[0;34m\u001b[0m\u001b[0;34m\u001b[0m\u001b[0m\n\u001b[1;32m    788\u001b[0m             \u001b[0;31m# Add key to exclusions\u001b[0m\u001b[0;34m\u001b[0m\u001b[0;34m\u001b[0m\u001b[0;34m\u001b[0m\u001b[0m\n",
      "\u001b[0;31mKeyError\u001b[0m: 'tipo_hogar'"
     ]
    }
   ],
   "source": [
    "T7.loc[T7['ingreso mensual']<=10000].filter(['ingreso mensual','tipo_hogar','rango_ingresos_1']).pivot_table(index='rango_ingresos_1',columns='tipo_hogar',aggfunc='count').fillna(0)#.plot.hist()"
   ]
  },
  {
   "cell_type": "code",
   "execution_count": 15,
   "metadata": {},
   "outputs": [
    {
     "data": {
      "application/vnd.jupyter.widget-view+json": {
       "model_id": "8ed23fb35858494ea7653005f8e34c10"
      },
      "text/plain": [
       "       Region    folioviv  ingreso mensual\n",
       "0      Centro   160009403     16203.990000\n",
       "1      Centro   160009407     10305.463333\n",
       "2      Centro   160009411      6900.413333\n",
       "3      Centro   160009415     16267.646667\n",
       "4      Centro   160009419     11449.063333\n",
       "...       ...         ...              ...\n",
       "29915   Norte  3260770714      4742.616667\n",
       "29916   Norte  3260770715      4626.223333\n",
       "29917   Norte  3260770716      6701.613333\n",
       "29918   Norte  3260770717      8655.733333\n",
       "29919   Norte  3260770718     15138.386667\n",
       "\n",
       "[29920 rows x 3 columns]"
      ]
     },
     "metadata": {},
     "output_type": "display_data"
    }
   ],
   "source": [
    "T7"
   ]
  },
  {
   "cell_type": "code",
   "execution_count": 50,
   "metadata": {},
   "outputs": [
    {
     "data": {
      "text/plain": [
       "<AxesSubplot:ylabel='Frequency'>"
      ]
     },
     "execution_count": 50,
     "metadata": {},
     "output_type": "execute_result"
    },
    {
     "data": {
      "image/png": "[encoded data removed]",
      "text/plain": [
       "<Figure size 432x288 with 1 Axes>"
      ]
     },
     "metadata": {
      "needs_background": "light"
     },
     "output_type": "display_data"
    }
   ],
   "source": [
    "ingresos_rurales.loc[ingresos_rurales['ingreso mensual']<=10000].filter(['ingreso mensual','tipo_hogar','rango_ingresos_1']).pivot_table(index='rango_ingresos_1',columns='tipo_hogar',aggfunc=sum).fillna(0).plot.hist()"
   ]
  },
  {
   "cell_type": "code",
   "execution_count": 51,
   "metadata": {},
   "outputs": [
    {
     "data": {
      "text/plain": [
       "<AxesSubplot:ylabel='Frequency'>"
      ]
     },
     "execution_count": 51,
     "metadata": {},
     "output_type": "execute_result"
    },
    {
     "data": {
      "image/png": "[encoded data removed]",
      "text/plain": [
       "<Figure size 432x288 with 1 Axes>"
      ]
     },
     "metadata": {
      "needs_background": "light"
     },
     "output_type": "display_data"
    }
   ],
   "source": [
    "ingresos_rurales.filter(['ingreso mensual','tipo_hogar','rango_ingresos_1']).pivot_table(index='rango_ingresos_1',columns='tipo_hogar',aggfunc=sum).fillna(0).plot.hist()"
   ]
  },
  {
   "cell_type": "code",
   "execution_count": 59,
   "metadata": {},
   "outputs": [],
   "source": [
    "T8=ingresos_rurales.loc[ingresos_rurales['ingreso mensual']<=35000].pivot_table(index=['Region','CUmun2'],columns='tipo_hogar',aggfunc=[mean],margins=True,margins_name='Total').astype(float).round(2).fillna(0).rename(index={0:'Mixtas',1:'Cercano a ciudad',2:'Cercano a mixta',3:'Cercano a carretera',4:'Aisladas'})\n"
   ]
  },
  {
   "cell_type": "code",
   "execution_count": 60,
   "metadata": {},
   "outputs": [],
   "source": [
    "T8=T8.droplevel(axis=1,level=0)"
   ]
  },
  {
   "cell_type": "code",
   "execution_count": 63,
   "metadata": {},
   "outputs": [],
   "source": [
    "t10=ingresos_rurales.loc[ingresos_rurales['ingreso mensual']<=35000]"
   ]
  },
  {
   "cell_type": "code",
   "execution_count": 64,
   "metadata": {},
   "outputs": [
    {
     "data": {
      "application/vnd.jupyter.widget-view+json": {
       "model_id": "e4f5490d535e4b78bbb173b0d73efa4c"
      },
      "text/plain": [
       "       Region            tipo_hogar  CUmun2  ingreso mensual\n",
       "0      Centro  Sin ingresos propios       1         16203.99\n",
       "1      Centro  Sin ingresos propios       1         10305.46\n",
       "2      Centro  Sin ingresos propios       1          6900.41\n",
       "3      Centro                   UFR       1         16267.65\n",
       "4      Centro                   UFR       1         11449.06\n",
       "...       ...                   ...     ...              ...\n",
       "29915   Norte  Sin ingresos propios       3          4742.62\n",
       "29916   Norte                   UFR       3          4626.22\n",
       "29917   Norte  Sin ingresos propios       3          6701.61\n",
       "29918   Norte  Sin ingresos propios       3          8655.73\n",
       "29919   Norte  Sin ingresos propios       3         15138.39\n",
       "\n",
       "[28786 rows x 4 columns]"
      ]
     },
     "metadata": {},
     "output_type": "display_data"
    }
   ],
   "source": [
    "t10"
   ]
  },
  {
   "cell_type": "code",
   "execution_count": 61,
   "metadata": {},
   "outputs": [],
   "source": [
    "T8=T8.rename(columns={'ingreso mensual':'Ingreso mensual promedio'})"
   ]
  },
  {
   "cell_type": "code",
   "execution_count": 52,
   "metadata": {},
   "outputs": [],
   "source": [
    "T8.to_excel('Ingreso corriente mensual_ponderado_por tipo de hogar por region y ubicacion_2020.xls')"
   ]
  },
  {
   "cell_type": "code",
   "execution_count": 33,
   "metadata": {},
   "outputs": [
    {
     "data": {
      "application/vnd.jupyter.widget-view+json": {
       "model_id": "bdf2871c6dcb458a82a12c00f32561d8"
      },
      "text/plain": [
       "                           Ingreso mensual promedio                      \\\n",
       "tipo_hogar                     Sin ingresos propios       UCE      UCEP   \n",
       "Region CUmun2                                                             \n",
       "Centro Mixtas                              15121.92  12588.85      0.00   \n",
       "       Cercano a ciudad                    13818.66  13006.43  15092.23   \n",
       "       Cercano a mixta                     13101.77   9899.58  17801.66   \n",
       "       Cercano a carretera                 11706.49  11875.44  14001.95   \n",
       "       Aisladas                            11111.05  10080.50  12066.50   \n",
       "Norte  Cercano a ciudad                    15457.97  11252.79  16415.20   \n",
       "       Cercano a mixta                     10310.28  12048.03      0.00   \n",
       "       Cercano a carretera                 13075.91  12030.44  14147.07   \n",
       "       Aisladas                            13311.55  10040.55  14576.24   \n",
       "Sur    Cercano a ciudad                    11146.21  10215.49  12334.90   \n",
       "       Cercano a mixta                     11389.85  10227.39  11570.15   \n",
       "       Cercano a carretera                  8886.18   7510.98   9875.28   \n",
       "       Aisladas                             8180.93   6342.99   9124.09   \n",
       "Total                                      12529.29   9567.89  11866.17   \n",
       "\n",
       "                                                \n",
       "tipo_hogar                       UFR     Total  \n",
       "Region CUmun2                                   \n",
       "Centro Mixtas               12405.79  14600.16  \n",
       "       Cercano a ciudad     14634.08  13947.13  \n",
       "       Cercano a mixta      15440.15  13560.59  \n",
       "       Cercano a carretera  14134.66  12226.05  \n",
       "       Aisladas             11819.50  11024.26  \n",
       "Norte  Cercano a ciudad     15091.62  15269.41  \n",
       "       Cercano a mixta      12530.66  11196.68  \n",
       "       Cercano a carretera  15150.13  13309.38  \n",
       "       Aisladas             14805.02  13025.90  \n",
       "Sur    Cercano a ciudad     10938.33  11047.28  \n",
       "       Cercano a mixta      13211.92  11602.61  \n",
       "       Cercano a carretera  10511.16   8885.71  \n",
       "       Aisladas             10062.18   7722.93  \n",
       "Total                       13659.60  12140.04  "
      ]
     },
     "metadata": {},
     "output_type": "display_data"
    }
   ],
   "source": [
    "T8.columns = [\"_\".join([str(index) for index in multi_index]) for multi_index in T8.columns.ravel()]\n",
    "T8 = T8.reset_index()\n",
    "T8"
   ]
  },
  {
   "cell_type": "code",
   "execution_count": 53,
   "metadata": {},
   "outputs": [],
   "source": [
    "T9=ingresos_rurales.loc[ingresos_rurales['ingreso mensual']<=35000].pivot_table(index=['Region','CUmun2'],columns='tipo_hogar',aggfunc=[mean],margins=True,margins_name='Total').astype(float).round(2).fillna(0).rename(index={0:'Mixtas',1:'Cercano a ciudad',2:'Cercano a mixta',3:'Cercano a carretera',4:'Aisladas'})\n"
   ]
  },
  {
   "cell_type": "code",
   "execution_count": 54,
   "metadata": {},
   "outputs": [
    {
     "data": {
      "application/vnd.jupyter.widget-view+json": {
       "model_id": "1dcbc7edc9b74d97b23e6d37aa727bb4"
      },
      "text/plain": [
       "                                           mean                                \\\n",
       "                                ingreso mensual                                 \n",
       "tipo_hogar                 Sin ingresos propios       UCE      UCEP       UFR   \n",
       "Region CUmun2                                                                   \n",
       "Centro Mixtas                          13916.16  12588.85      0.00  12405.79   \n",
       "       Cercano a ciudad                12244.65  11290.24  12052.00  13021.09   \n",
       "       Cercano a mixta                 12021.10   9899.58  14691.62  13985.48   \n",
       "       Cercano a carretera             10887.36  10628.44  11886.69  12198.09   \n",
       "       Aisladas                        10198.97   8972.59  10513.32  10868.41   \n",
       "Norte  Cercano a ciudad                13284.65  11252.79  13872.81  12766.11   \n",
       "       Cercano a mixta                 10310.28  12048.03      0.00  12530.66   \n",
       "       Cercano a carretera             11404.80  10329.11  12290.71  13139.76   \n",
       "       Aisladas                        11687.07   8963.64  12200.20  12659.43   \n",
       "Sur    Cercano a ciudad                10517.43   9809.89   9508.85  10767.82   \n",
       "       Cercano a mixta                 10724.85   8881.17  11570.15  12735.34   \n",
       "       Cercano a carretera              8210.16   7150.54   8824.87   9843.85   \n",
       "       Aisladas                         7430.89   6131.32   8381.05   9326.47   \n",
       "Total                                  11159.27   8647.84  10279.71  12080.21   \n",
       "\n",
       "                                      \n",
       "                                      \n",
       "tipo_hogar                     Total  \n",
       "Region CUmun2                         \n",
       "Centro Mixtas               13618.16  \n",
       "       Cercano a ciudad     12322.80  \n",
       "       Cercano a mixta      12384.39  \n",
       "       Cercano a carretera  11092.93  \n",
       "       Aisladas              9999.03  \n",
       "Norte  Cercano a ciudad     13132.12  \n",
       "       Cercano a mixta      11196.68  \n",
       "       Cercano a carretera  11569.81  \n",
       "       Aisladas             11383.57  \n",
       "Sur    Cercano a ciudad     10374.69  \n",
       "       Cercano a mixta      10915.22  \n",
       "       Cercano a carretera   8255.31  \n",
       "       Aisladas              7218.13  \n",
       "Total                       10797.17  "
      ]
     },
     "metadata": {},
     "output_type": "display_data"
    }
   ],
   "source": [
    "\n",
    "T9.columns = [\"_\".join([str(index) for index in multi_index]) for multi_index in T9.columns.ravel()]\n",
    "T9 = T9.reset_index()\n",
    "T9"
   ]
  },
  {
   "cell_type": "code",
   "execution_count": 48,
   "metadata": {},
   "outputs": [
    {
     "data": {
      "application/vnd.jupyter.widget-view+json": {
       "model_id": "9058b73240ff4ef8b45aee916cf099f8"
      },
      "text/plain": [
       "       Region    folioviv  ingreso mensual            tipo_hogar  \\\n",
       "0      Centro   160009403     16203.990000  Sin ingresos propios   \n",
       "1      Centro   160009407     10305.463333  Sin ingresos propios   \n",
       "2      Centro   160009411      6900.413333  Sin ingresos propios   \n",
       "3      Centro   160009415     16267.646667                   UFR   \n",
       "4      Centro   160009419     11449.063333                   UFR   \n",
       "...       ...         ...              ...                   ...   \n",
       "29915   Norte  3260770714      4742.616667  Sin ingresos propios   \n",
       "29916   Norte  3260770715      4626.223333                   UFR   \n",
       "29917   Norte  3260770716      6701.613333  Sin ingresos propios   \n",
       "29918   Norte  3260770717      8655.733333  Sin ingresos propios   \n",
       "29919   Norte  3260770718     15138.386667  Sin ingresos propios   \n",
       "\n",
       "            rango_ingresos_1         rango_ingresos_2  \n",
       "0      (8918.423, 17836.846]  (-3567.369, 178368.457]  \n",
       "1      (8918.423, 17836.846]  (-3567.369, 178368.457]  \n",
       "2      (-3567.369, 8918.423]  (-3567.369, 178368.457]  \n",
       "3      (8918.423, 17836.846]  (-3567.369, 178368.457]  \n",
       "4      (8918.423, 17836.846]  (-3567.369, 178368.457]  \n",
       "...                      ...                      ...  \n",
       "29915  (-3567.369, 8918.423]  (-3567.369, 178368.457]  \n",
       "29916  (-3567.369, 8918.423]  (-3567.369, 178368.457]  \n",
       "29917  (-3567.369, 8918.423]  (-3567.369, 178368.457]  \n",
       "29918  (-3567.369, 8918.423]  (-3567.369, 178368.457]  \n",
       "29919  (8918.423, 17836.846]  (-3567.369, 178368.457]  \n",
       "\n",
       "[28786 rows x 6 columns]"
      ]
     },
     "metadata": {},
     "output_type": "display_data"
    }
   ],
   "source": [
    "T7.loc[ingresos_rurales['ingreso mensual']<=35000]"
   ]
  },
  {
   "cell_type": "code",
   "execution_count": 37,
   "metadata": {},
   "outputs": [
    {
     "data": {
      "application/vnd.jupyter.widget-view+json": {
       "model_id": "5e86c336757e407a9841a1969ee2238a"
      },
      "text/plain": [
       "       Region    folioviv  ingreso mensual            tipo_hogar  \\\n",
       "0      Centro   160009403     16203.990000  Sin ingresos propios   \n",
       "1      Centro   160009407     10305.463333  Sin ingresos propios   \n",
       "2      Centro   160009411      6900.413333  Sin ingresos propios   \n",
       "3      Centro   160009415     16267.646667                   UFR   \n",
       "4      Centro   160009419     11449.063333                   UFR   \n",
       "...       ...         ...              ...                   ...   \n",
       "29915   Norte  3260770714      4742.616667  Sin ingresos propios   \n",
       "29916   Norte  3260770715      4626.223333                   UFR   \n",
       "29917   Norte  3260770716      6701.613333  Sin ingresos propios   \n",
       "29918   Norte  3260770717      8655.733333  Sin ingresos propios   \n",
       "29919   Norte  3260770718     15138.386667  Sin ingresos propios   \n",
       "\n",
       "            rango_ingresos_1         rango_ingresos_2  \n",
       "0      (8918.423, 17836.846]  (-3567.369, 178368.457]  \n",
       "1      (8918.423, 17836.846]  (-3567.369, 178368.457]  \n",
       "2      (-3567.369, 8918.423]  (-3567.369, 178368.457]  \n",
       "3      (8918.423, 17836.846]  (-3567.369, 178368.457]  \n",
       "4      (8918.423, 17836.846]  (-3567.369, 178368.457]  \n",
       "...                      ...                      ...  \n",
       "29915  (-3567.369, 8918.423]  (-3567.369, 178368.457]  \n",
       "29916  (-3567.369, 8918.423]  (-3567.369, 178368.457]  \n",
       "29917  (-3567.369, 8918.423]  (-3567.369, 178368.457]  \n",
       "29918  (-3567.369, 8918.423]  (-3567.369, 178368.457]  \n",
       "29919  (8918.423, 17836.846]  (-3567.369, 178368.457]  \n",
       "\n",
       "[29920 rows x 6 columns]"
      ]
     },
     "metadata": {},
     "output_type": "display_data"
    }
   ],
   "source": [
    "T7"
   ]
  },
  {
   "cell_type": "code",
   "execution_count": 68,
   "metadata": {},
   "outputs": [],
   "source": [
    "T11= data.loc[data['ingreso mensual']<=35000]"
   ]
  },
  {
   "cell_type": "code",
   "execution_count": 89,
   "metadata": {},
   "outputs": [
    {
     "data": {
      "text/plain": [
       "6136149"
      ]
     },
     "execution_count": 89,
     "metadata": {},
     "output_type": "execute_result"
    }
   ],
   "source": [
    "T11.filter(['factor','Region','tocupa','CUmun2','tipo_hogar'])['factor'].sum()"
   ]
  },
  {
   "cell_type": "code",
   "execution_count": 92,
   "metadata": {},
   "outputs": [],
   "source": [
    "T12=T11.filter(['factor','Region','tocupa','CUmun2','tipo_hogar','ingreso mensual', \n",
    "       'ingtrab', 'trabajo', 'sueldos', 'horas_extr', 'comisiones',\n",
    "       'aguinaldo', 'indemtrab', 'otra_rem', 'remu_espec', 'negocio',\n",
    "       'noagrop', 'industria', 'comercio', 'servicios', 'agrope',\n",
    "       'agricolas', 'pecuarios', 'reproducc', 'pesca', 'otros_trab',\n",
    "       'rentas', 'utilidad', 'arrenda', 'transfer', 'jubilacion', 'becas',\n",
    "       'donativos', 'remesas', 'bene_gob', 'transf_hog', 'trans_inst',\n",
    "       'estim_alqu', 'otros_ing']).groupby(['Region','tipo_hogar','CUmun2']).describe()"
   ]
  },
  {
   "cell_type": "code",
   "execution_count": 128,
   "metadata": {},
   "outputs": [],
   "source": [
    "T13=T11.filter(['Region','CUmun2','tipo_hogar','ingreso mensual', \n",
    "       'ingtrab', 'trabajo', 'sueldos', 'horas_extr', 'comisiones',\n",
    "       'aguinaldo', 'indemtrab', 'otra_rem', 'remu_espec', 'negocio',\n",
    "       'noagrop', 'industria', 'comercio', 'servicios', 'agrope',\n",
    "       'agricolas', 'pecuarios', 'reproducc', 'pesca', 'otros_trab',\n",
    "       'rentas', 'utilidad', 'arrenda', 'transfer', 'jubilacion', 'becas',\n",
    "       'donativos', 'remesas', 'bene_gob', 'transf_hog', 'trans_inst',\n",
    "       'estim_alqu', 'otros_ing']).groupby(['tipo_hogar'])"
   ]
  },
  {
   "cell_type": "code",
   "execution_count": 150,
   "metadata": {},
   "outputs": [
    {
     "name": "stdout",
     "output_type": "stream",
     "text": [
      "Sin ingresos propios\n",
      "UCE\n",
      "UCEP\n",
      "UFR\n"
     ]
    }
   ],
   "source": [
    "for i in DataFrame(T13)[0]:\n",
    "    print(i)\n",
    "    T13.get_group(i).pivot_table(index=['Region', 'CUmun2'],aggfunc=mean).round(2).to_excel(i+'_ingresos_por_region_y_tipo_de_hogar.xls')"
   ]
  },
  {
   "cell_type": "code",
   "execution_count": null,
   "metadata": {},
   "outputs": [],
   "source": []
  }
 ],
 "metadata": {
  "kernelspec": {
   "display_name": "Python 3",
   "language": "python",
   "name": "python3"
  },
  "language_info": {
   "codemirror_mode": {
    "name": "ipython",
    "version": 3
   },
   "file_extension": ".py",
   "mimetype": "text/x-python",
   "name": "python",
   "nbconvert_exporter": "python",
   "pygments_lexer": "ipython3",
   "version": "3.9.2"
  },
  "vscode": {
   "interpreter": {
    "hash": "e7370f93d1d0cde622a1f8e1c04877d8463912d04d973331ad4851f04de6915a"
   }
  }
 },
 "nbformat": 4,
 "nbformat_minor": 2
}
