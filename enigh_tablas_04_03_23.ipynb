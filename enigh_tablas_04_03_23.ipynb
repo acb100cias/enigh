{
 "cells": [
  {
   "cell_type": "code",
   "execution_count": 1,
   "id": "cc1d2156-1591-44f4-9bcc-ec675c3f3e5f",
   "metadata": {
    "tags": []
   },
   "outputs": [
    {
     "name": "stderr",
     "output_type": "stream",
     "text": [
      "/usr/local/lib/python3.9/dist-packages/pandas/compat/_optional.py:149: UserWarning: Pandas requires version '1.3.1' or newer of 'bottleneck' (version '1.2.1' currently installed).\n",
      "  warnings.warn(msg, UserWarning)\n"
     ]
    }
   ],
   "source": [
    "from pandas import *\n",
    "from numpy import *\n",
    "rurales=read_csv('rurales_04_03_23.csv')"
   ]
  },
  {
   "cell_type": "code",
   "execution_count": 6,
   "id": "9371f42a-6782-47af-8818-991390d9a7e5",
   "metadata": {
    "tags": []
   },
   "outputs": [
    {
     "name": "stderr",
     "output_type": "stream",
     "text": [
      "<ipython-input-6-3e31b16b51b3>:1: FutureWarning: Dropping invalid columns in DataFrameGroupBy.agg is deprecated. In a future version, a TypeError will be raised. Before calling .agg, select only columns which should be valid for the function.\n",
      "  TIng=rurales.filter(['IngresoTrab','agrope','noagrop','rentas','Trans','otros_ing','tipo_hogar','CUmun2','Region']).pivot_table(index=['tipo_hogar','CUmun2'],aggfunc=lambda x:0.3*x.mean(),margins=True,margins_name='Total Ingresos Mensual').round(2)\n"
     ]
    }
   ],
   "source": [
    "TIng=rurales.filter(['IngresoTrab','agrope','noagrop','rentas','Trans','otros_ing','tipo_hogar','CUmun2','Region']).pivot_table(index=['tipo_hogar','CUmun2'],aggfunc=lambda x:0.3*x.mean(),margins=True,margins_name='Total Ingresos Mensual').round(2)"
   ]
  },
  {
   "cell_type": "code",
   "execution_count": 7,
   "id": "7119da0a-26ac-45d0-8c11-b7cb67f8cb7e",
   "metadata": {
    "tags": []
   },
   "outputs": [],
   "source": [
    "TIng=TIng.T.rename(columns={0:'Localidad mixta',1:'Cercana a ciudad',2:'Cercana a localidad mixta',3:'Cercano a carretera',4:'Aislada'}).T"
   ]
  },
  {
   "cell_type": "code",
   "execution_count": 9,
   "id": "08dc7604-0d91-492e-96d0-401ddd8cc7b0",
   "metadata": {
    "tags": []
   },
   "outputs": [],
   "source": [
    "TIng['Total Ingresos Mensual']=TIng.T.sum()"
   ]
  },
  {
   "cell_type": "code",
   "execution_count": 11,
   "id": "541f9f98-42e3-45da-8e5c-d70e2274234b",
   "metadata": {
    "tags": []
   },
   "outputs": [],
   "source": [
    "TIng=TIng.rename(columns={'IngresoTrab':'Ingresos por Trabajo','agrope':'Agropecuarios','noagrop':'No agropecuarios','otros_ing':'Otros Ingresos','rentas':'Rentas','transfer':'Transferencias'})"
   ]
  },
  {
   "cell_type": "code",
   "execution_count": 12,
   "id": "f96536da-55b8-4539-97b9-d96d541a76dd",
   "metadata": {
    "tags": []
   },
   "outputs": [
    {
     "name": "stderr",
     "output_type": "stream",
     "text": [
      "<ipython-input-12-e9974257cc3c>:1: FutureWarning: Dropping invalid columns in DataFrameGroupBy.mean is deprecated. In a future version, a TypeError will be raised. Before calling .mean, select only columns which should be valid for the function.\n",
      "  TIng2=rurales.filter(['tipo_hogar','CUmun2','Region']).pivot_table(index=['tipo_hogar','CUmun2'],aggfunc=mean,margins=True,margins_name='Total Ingresos Mensual').round(2)\n"
     ]
    }
   ],
   "source": [
    "TIng2=rurales.filter(['tipo_hogar','CUmun2','Region']).pivot_table(index=['tipo_hogar','CUmun2'],aggfunc=mean,margins=True,margins_name='Total Ingresos Mensual').round(2)"
   ]
  },
  {
   "cell_type": "code",
   "execution_count": 13,
   "id": "86623ae1-0dec-45c0-88f1-0f5355550f78",
   "metadata": {
    "tags": []
   },
   "outputs": [],
   "source": [
    "TIng2['Total Ingresos Mensual %']=TIng['Total Ingresos Mensual'].values"
   ]
  },
  {
   "cell_type": "code",
   "execution_count": 14,
   "id": "a11bc0d5-3909-4abd-9007-bbf21a72282b",
   "metadata": {
    "tags": []
   },
   "outputs": [],
   "source": [
    "for i in TIng.keys():\n",
    "    TIng2[i+' %']=100*(TIng[i].values/TIng['Total Ingresos Mensual'].values)"
   ]
  },
  {
   "cell_type": "code",
   "execution_count": 15,
   "id": "cd4a7703-64c7-4e4d-a13c-04f4b9318224",
   "metadata": {
    "tags": []
   },
   "outputs": [],
   "source": [
    "TIng2=TIng2.round(2)"
   ]
  },
  {
   "cell_type": "code",
   "execution_count": 16,
   "id": "3ad7b35e-3e1a-4eb7-b888-056bc434b823",
   "metadata": {
    "tags": []
   },
   "outputs": [],
   "source": [
    "TIng2=TIng2.T.rename(columns={0:'Localidad mixta',1:'Cercana a ciudad',2:'Cercana a localidad mixta',3:'Cercano a carretera',4:'Aislada'}).T"
   ]
  },
  {
   "cell_type": "code",
   "execution_count": 18,
   "id": "ced46588-2c47-4c31-9863-e415a5d06fdd",
   "metadata": {
    "tags": []
   },
   "outputs": [],
   "source": [
    "TIng.to_excel('Ingresos mensuales promedio por tipo de hogar y ubicacion.xlsx')\n",
    "TIng2.to_excel('Ingresos mensuales promedio por tipo de hogar y ubicacion porcentaje.xlsx')"
   ]
  },
  {
   "cell_type": "code",
   "execution_count": 19,
   "id": "11e1e3a9-bfc8-4371-8b5e-264d56332bac",
   "metadata": {
    "tags": []
   },
   "outputs": [
    {
     "name": "stderr",
     "output_type": "stream",
     "text": [
      "<ipython-input-19-e08af1e37b0a>:1: FutureWarning: Dropping invalid columns in DataFrameGroupBy.agg is deprecated. In a future version, a TypeError will be raised. Before calling .agg, select only columns which should be valid for the function.\n",
      "  TIng3=rurales.filter(['jubilacion', 'becas','donativos', 'remesas', 'bene_gob','tipo_hogar','CUmun2','Region']).pivot_table(index=['tipo_hogar','CUmun2'],aggfunc=lambda x:0.3*x.mean(),margins=True,margins_name='Total Ingresos Transfer').round(2)\n"
     ]
    }
   ],
   "source": [
    "TIng3=rurales.filter(['jubilacion', 'becas','donativos', 'remesas', 'bene_gob','tipo_hogar','CUmun2','Region']).pivot_table(index=['tipo_hogar','CUmun2'],aggfunc=lambda x:0.3*x.mean(),margins=True,margins_name='Total Ingresos Transfer').round(2)"
   ]
  },
  {
   "cell_type": "code",
   "execution_count": 20,
   "id": "05cf2471-6ced-4725-8ef9-a92e624064a3",
   "metadata": {
    "tags": []
   },
   "outputs": [],
   "source": [
    "TIng3['Total Ingresos Transfer']=TIng3.T.sum()"
   ]
  },
  {
   "cell_type": "code",
   "execution_count": 21,
   "id": "158c8124-a300-477d-8781-1e5eea95254d",
   "metadata": {
    "tags": []
   },
   "outputs": [],
   "source": [
    "TIng3=TIng3.T.rename(columns={0:'Localidad mixta',1:'Cercana a ciudad',2:'Cercana a localidad mixta',3:'Cercano a carretera',4:'Aislada'}).T"
   ]
  },
  {
   "cell_type": "code",
   "execution_count": 22,
   "id": "23c73afd-0dab-4c4c-a401-0a97d79533c0",
   "metadata": {
    "tags": []
   },
   "outputs": [
    {
     "name": "stderr",
     "output_type": "stream",
     "text": [
      "<ipython-input-22-a1ae2acf99e1>:1: FutureWarning: Dropping invalid columns in DataFrameGroupBy.mean is deprecated. In a future version, a TypeError will be raised. Before calling .mean, select only columns which should be valid for the function.\n",
      "  TIng4=rurales.filter(['tipo_hogar','CUmun2','Region']).pivot_table(index=['tipo_hogar','CUmun2'],aggfunc=mean,margins=True,margins_name='Total Ingresos Mensual').round(2)\n"
     ]
    }
   ],
   "source": [
    "TIng4=rurales.filter(['tipo_hogar','CUmun2','Region']).pivot_table(index=['tipo_hogar','CUmun2'],aggfunc=mean,margins=True,margins_name='Total Ingresos Mensual').round(2)"
   ]
  },
  {
   "cell_type": "code",
   "execution_count": 23,
   "id": "fdbf3246-2e55-413e-ba20-4ceaf17ee77a",
   "metadata": {
    "tags": []
   },
   "outputs": [],
   "source": [
    "TIng4['Total Ingresos Transfer %']=TIng3['Total Ingresos Transfer'].values"
   ]
  },
  {
   "cell_type": "code",
   "execution_count": 24,
   "id": "77de16b2-720e-4f78-86bf-8b8cf542dd77",
   "metadata": {
    "tags": []
   },
   "outputs": [],
   "source": [
    "for i in TIng3.keys():\n",
    "    TIng4[i+' %']=100*(TIng3[i].values/TIng3['Total Ingresos Transfer'].values)"
   ]
  },
  {
   "cell_type": "code",
   "execution_count": 25,
   "id": "cdd480c4-e349-4f56-9765-557dabf1d2c1",
   "metadata": {
    "tags": []
   },
   "outputs": [],
   "source": [
    "TIng4=TIng4.round(2)"
   ]
  },
  {
   "cell_type": "code",
   "execution_count": 26,
   "id": "ac80d096-a061-4824-888d-e38a9c3a837b",
   "metadata": {
    "tags": []
   },
   "outputs": [],
   "source": [
    "TIng4=TIng4.T.rename(columns={0:'Localidad mixta',1:'Cercana a ciudad',2:'Cercana a localidad mixta',3:'Cercano a carretera',4:'Aislada'}).T"
   ]
  },
  {
   "cell_type": "code",
   "execution_count": 27,
   "id": "ba7dc691-23cd-483c-b645-2e381dc4b3ee",
   "metadata": {
    "tags": []
   },
   "outputs": [],
   "source": [
    "TIng3.to_excel('Ingresos mensuales promedio por transferencias por tipo de hogar y ubicacion.xlsx')\n",
    "TIng4.to_excel('Ingresos mensuales promedio por transferencias por tipo de hogar y ubicacion porcentaje.xlsx')"
   ]
  },
  {
   "cell_type": "code",
   "execution_count": null,
   "id": "b7a37f62-260c-4a16-a71c-03a5af2f7886",
   "metadata": {},
   "outputs": [],
   "source": []
  }
 ],
 "metadata": {
  "kernelspec": {
   "display_name": "Python 3",
   "language": "python",
   "name": "python3"
  },
  "language_info": {
   "codemirror_mode": {
    "name": "ipython",
    "version": 3
   },
   "file_extension": ".py",
   "mimetype": "text/x-python",
   "name": "python",
   "nbconvert_exporter": "python",
   "pygments_lexer": "ipython3",
   "version": "3.9.2"
  }
 },
 "nbformat": 4,
 "nbformat_minor": 5
}
