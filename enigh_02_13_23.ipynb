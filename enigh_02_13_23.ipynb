{
 "cells": [
  {
   "cell_type": "code",
   "execution_count": 2,
   "id": "small-baker",
   "metadata": {},
   "outputs": [],
   "source": [
    "from pandas import *\n",
    "from numpy import *\n",
    "rurales=read_csv('rurales_12_02_23.csv').drop('Unnamed: 0',axis=1)"
   ]
  },
  {
   "cell_type": "code",
   "execution_count": 3,
   "id": "miniature-addition",
   "metadata": {},
   "outputs": [
    {
     "data": {
      "text/html": [
       "<div>\n",
       "<style scoped>\n",
       "    .dataframe tbody tr th:only-of-type {\n",
       "        vertical-align: middle;\n",
       "    }\n",
       "\n",
       "    .dataframe tbody tr th {\n",
       "        vertical-align: top;\n",
       "    }\n",
       "\n",
       "    .dataframe thead th {\n",
       "        text-align: right;\n",
       "    }\n",
       "</style>\n",
       "<table border=\"1\" class=\"dataframe\">\n",
       "  <thead>\n",
       "    <tr style=\"text-align: right;\">\n",
       "      <th></th>\n",
       "      <th>folioviv</th>\n",
       "      <th>foliohog</th>\n",
       "      <th>pertenece a etnia</th>\n",
       "      <th>no pertenece a etnia</th>\n",
       "      <th>15 o menos</th>\n",
       "      <th>16-29</th>\n",
       "      <th>30-59</th>\n",
       "      <th>60 o mas</th>\n",
       "      <th>numren</th>\n",
       "      <th>ubica_geo</th>\n",
       "      <th>...</th>\n",
       "      <th>LPI</th>\n",
       "      <th>LPEI</th>\n",
       "      <th>tasa ocupacional</th>\n",
       "      <th>tocupa</th>\n",
       "      <th>CUmun</th>\n",
       "      <th>CUmun2</th>\n",
       "      <th>CUmun3</th>\n",
       "      <th>LP</th>\n",
       "      <th>Ingreso mensual</th>\n",
       "      <th>ingreso mensual</th>\n",
       "    </tr>\n",
       "  </thead>\n",
       "  <tbody>\n",
       "    <tr>\n",
       "      <th>0</th>\n",
       "      <td>160009403</td>\n",
       "      <td>1</td>\n",
       "      <td>0</td>\n",
       "      <td>3</td>\n",
       "      <td>0</td>\n",
       "      <td>0</td>\n",
       "      <td>1</td>\n",
       "      <td>2</td>\n",
       "      <td>3</td>\n",
       "      <td>1001</td>\n",
       "      <td>...</td>\n",
       "      <td>sobre</td>\n",
       "      <td>sobre</td>\n",
       "      <td>66.67</td>\n",
       "      <td>Alta</td>\n",
       "      <td>NaN</td>\n",
       "      <td>1</td>\n",
       "      <td>NaN</td>\n",
       "      <td>sobre</td>\n",
       "      <td>9.722394e+05</td>\n",
       "      <td>16203.990000</td>\n",
       "    </tr>\n",
       "    <tr>\n",
       "      <th>1</th>\n",
       "      <td>160009407</td>\n",
       "      <td>1</td>\n",
       "      <td>0</td>\n",
       "      <td>4</td>\n",
       "      <td>1</td>\n",
       "      <td>1</td>\n",
       "      <td>2</td>\n",
       "      <td>0</td>\n",
       "      <td>4</td>\n",
       "      <td>1001</td>\n",
       "      <td>...</td>\n",
       "      <td>sobre</td>\n",
       "      <td>sobre</td>\n",
       "      <td>75.00</td>\n",
       "      <td>Alta</td>\n",
       "      <td>NaN</td>\n",
       "      <td>1</td>\n",
       "      <td>NaN</td>\n",
       "      <td>sobre</td>\n",
       "      <td>6.183278e+05</td>\n",
       "      <td>10305.463333</td>\n",
       "    </tr>\n",
       "    <tr>\n",
       "      <th>2</th>\n",
       "      <td>160009411</td>\n",
       "      <td>1</td>\n",
       "      <td>0</td>\n",
       "      <td>4</td>\n",
       "      <td>2</td>\n",
       "      <td>0</td>\n",
       "      <td>2</td>\n",
       "      <td>0</td>\n",
       "      <td>4</td>\n",
       "      <td>1001</td>\n",
       "      <td>...</td>\n",
       "      <td>sobre</td>\n",
       "      <td>sobre</td>\n",
       "      <td>50.00</td>\n",
       "      <td>Media</td>\n",
       "      <td>NaN</td>\n",
       "      <td>1</td>\n",
       "      <td>NaN</td>\n",
       "      <td>sobre</td>\n",
       "      <td>4.140248e+05</td>\n",
       "      <td>6900.413333</td>\n",
       "    </tr>\n",
       "    <tr>\n",
       "      <th>3</th>\n",
       "      <td>160009415</td>\n",
       "      <td>1</td>\n",
       "      <td>0</td>\n",
       "      <td>3</td>\n",
       "      <td>0</td>\n",
       "      <td>2</td>\n",
       "      <td>1</td>\n",
       "      <td>0</td>\n",
       "      <td>3</td>\n",
       "      <td>1001</td>\n",
       "      <td>...</td>\n",
       "      <td>sobre</td>\n",
       "      <td>sobre</td>\n",
       "      <td>100.00</td>\n",
       "      <td>Alta</td>\n",
       "      <td>NaN</td>\n",
       "      <td>1</td>\n",
       "      <td>NaN</td>\n",
       "      <td>sobre</td>\n",
       "      <td>9.760588e+05</td>\n",
       "      <td>16267.646667</td>\n",
       "    </tr>\n",
       "    <tr>\n",
       "      <th>4</th>\n",
       "      <td>160009419</td>\n",
       "      <td>1</td>\n",
       "      <td>0</td>\n",
       "      <td>5</td>\n",
       "      <td>3</td>\n",
       "      <td>0</td>\n",
       "      <td>2</td>\n",
       "      <td>0</td>\n",
       "      <td>5</td>\n",
       "      <td>1001</td>\n",
       "      <td>...</td>\n",
       "      <td>sobre</td>\n",
       "      <td>sobre</td>\n",
       "      <td>60.00</td>\n",
       "      <td>Media</td>\n",
       "      <td>NaN</td>\n",
       "      <td>1</td>\n",
       "      <td>NaN</td>\n",
       "      <td>sobre</td>\n",
       "      <td>6.869438e+05</td>\n",
       "      <td>11449.063333</td>\n",
       "    </tr>\n",
       "    <tr>\n",
       "      <th>...</th>\n",
       "      <td>...</td>\n",
       "      <td>...</td>\n",
       "      <td>...</td>\n",
       "      <td>...</td>\n",
       "      <td>...</td>\n",
       "      <td>...</td>\n",
       "      <td>...</td>\n",
       "      <td>...</td>\n",
       "      <td>...</td>\n",
       "      <td>...</td>\n",
       "      <td>...</td>\n",
       "      <td>...</td>\n",
       "      <td>...</td>\n",
       "      <td>...</td>\n",
       "      <td>...</td>\n",
       "      <td>...</td>\n",
       "      <td>...</td>\n",
       "      <td>...</td>\n",
       "      <td>...</td>\n",
       "      <td>...</td>\n",
       "      <td>...</td>\n",
       "    </tr>\n",
       "    <tr>\n",
       "      <th>28781</th>\n",
       "      <td>3260770714</td>\n",
       "      <td>1</td>\n",
       "      <td>0</td>\n",
       "      <td>2</td>\n",
       "      <td>0</td>\n",
       "      <td>0</td>\n",
       "      <td>0</td>\n",
       "      <td>2</td>\n",
       "      <td>2</td>\n",
       "      <td>32012</td>\n",
       "      <td>...</td>\n",
       "      <td>sobre</td>\n",
       "      <td>sobre</td>\n",
       "      <td>50.00</td>\n",
       "      <td>Media</td>\n",
       "      <td>NaN</td>\n",
       "      <td>3</td>\n",
       "      <td>3.0</td>\n",
       "      <td>sobre</td>\n",
       "      <td>6.070549e+05</td>\n",
       "      <td>4742.616667</td>\n",
       "    </tr>\n",
       "    <tr>\n",
       "      <th>28782</th>\n",
       "      <td>3260770715</td>\n",
       "      <td>1</td>\n",
       "      <td>0</td>\n",
       "      <td>2</td>\n",
       "      <td>0</td>\n",
       "      <td>0</td>\n",
       "      <td>0</td>\n",
       "      <td>2</td>\n",
       "      <td>2</td>\n",
       "      <td>32012</td>\n",
       "      <td>...</td>\n",
       "      <td>sobre</td>\n",
       "      <td>sobre</td>\n",
       "      <td>100.00</td>\n",
       "      <td>Alta</td>\n",
       "      <td>NaN</td>\n",
       "      <td>3</td>\n",
       "      <td>3.0</td>\n",
       "      <td>sobre</td>\n",
       "      <td>5.921566e+05</td>\n",
       "      <td>4626.223333</td>\n",
       "    </tr>\n",
       "    <tr>\n",
       "      <th>28783</th>\n",
       "      <td>3260770716</td>\n",
       "      <td>1</td>\n",
       "      <td>0</td>\n",
       "      <td>3</td>\n",
       "      <td>1</td>\n",
       "      <td>0</td>\n",
       "      <td>2</td>\n",
       "      <td>0</td>\n",
       "      <td>3</td>\n",
       "      <td>32012</td>\n",
       "      <td>...</td>\n",
       "      <td>sobre</td>\n",
       "      <td>sobre</td>\n",
       "      <td>66.67</td>\n",
       "      <td>Alta</td>\n",
       "      <td>NaN</td>\n",
       "      <td>3</td>\n",
       "      <td>3.0</td>\n",
       "      <td>sobre</td>\n",
       "      <td>8.578065e+05</td>\n",
       "      <td>6701.613333</td>\n",
       "    </tr>\n",
       "    <tr>\n",
       "      <th>28784</th>\n",
       "      <td>3260770717</td>\n",
       "      <td>1</td>\n",
       "      <td>0</td>\n",
       "      <td>7</td>\n",
       "      <td>3</td>\n",
       "      <td>2</td>\n",
       "      <td>2</td>\n",
       "      <td>0</td>\n",
       "      <td>7</td>\n",
       "      <td>32012</td>\n",
       "      <td>...</td>\n",
       "      <td>sobre</td>\n",
       "      <td>sobre</td>\n",
       "      <td>28.57</td>\n",
       "      <td>Baja</td>\n",
       "      <td>NaN</td>\n",
       "      <td>3</td>\n",
       "      <td>3.0</td>\n",
       "      <td>sobre</td>\n",
       "      <td>1.107934e+06</td>\n",
       "      <td>8655.733333</td>\n",
       "    </tr>\n",
       "    <tr>\n",
       "      <th>28785</th>\n",
       "      <td>3260770718</td>\n",
       "      <td>1</td>\n",
       "      <td>0</td>\n",
       "      <td>3</td>\n",
       "      <td>0</td>\n",
       "      <td>0</td>\n",
       "      <td>2</td>\n",
       "      <td>1</td>\n",
       "      <td>3</td>\n",
       "      <td>32012</td>\n",
       "      <td>...</td>\n",
       "      <td>sobre</td>\n",
       "      <td>sobre</td>\n",
       "      <td>66.67</td>\n",
       "      <td>Alta</td>\n",
       "      <td>NaN</td>\n",
       "      <td>3</td>\n",
       "      <td>3.0</td>\n",
       "      <td>sobre</td>\n",
       "      <td>1.937713e+06</td>\n",
       "      <td>15138.386667</td>\n",
       "    </tr>\n",
       "  </tbody>\n",
       "</table>\n",
       "<p>28786 rows × 162 columns</p>\n",
       "</div>"
      ],
      "text/plain": [
       "         folioviv  foliohog  pertenece a etnia  no pertenece a etnia  \\\n",
       "0       160009403         1                  0                     3   \n",
       "1       160009407         1                  0                     4   \n",
       "2       160009411         1                  0                     4   \n",
       "3       160009415         1                  0                     3   \n",
       "4       160009419         1                  0                     5   \n",
       "...           ...       ...                ...                   ...   \n",
       "28781  3260770714         1                  0                     2   \n",
       "28782  3260770715         1                  0                     2   \n",
       "28783  3260770716         1                  0                     3   \n",
       "28784  3260770717         1                  0                     7   \n",
       "28785  3260770718         1                  0                     3   \n",
       "\n",
       "       15 o menos  16-29  30-59  60 o mas  numren  ubica_geo  ...    LPI  \\\n",
       "0               0      0      1         2       3       1001  ...  sobre   \n",
       "1               1      1      2         0       4       1001  ...  sobre   \n",
       "2               2      0      2         0       4       1001  ...  sobre   \n",
       "3               0      2      1         0       3       1001  ...  sobre   \n",
       "4               3      0      2         0       5       1001  ...  sobre   \n",
       "...           ...    ...    ...       ...     ...        ...  ...    ...   \n",
       "28781           0      0      0         2       2      32012  ...  sobre   \n",
       "28782           0      0      0         2       2      32012  ...  sobre   \n",
       "28783           1      0      2         0       3      32012  ...  sobre   \n",
       "28784           3      2      2         0       7      32012  ...  sobre   \n",
       "28785           0      0      2         1       3      32012  ...  sobre   \n",
       "\n",
       "        LPEI  tasa ocupacional  tocupa  CUmun  CUmun2  CUmun3     LP  \\\n",
       "0      sobre             66.67    Alta    NaN       1     NaN  sobre   \n",
       "1      sobre             75.00    Alta    NaN       1     NaN  sobre   \n",
       "2      sobre             50.00   Media    NaN       1     NaN  sobre   \n",
       "3      sobre            100.00    Alta    NaN       1     NaN  sobre   \n",
       "4      sobre             60.00   Media    NaN       1     NaN  sobre   \n",
       "...      ...               ...     ...    ...     ...     ...    ...   \n",
       "28781  sobre             50.00   Media    NaN       3     3.0  sobre   \n",
       "28782  sobre            100.00    Alta    NaN       3     3.0  sobre   \n",
       "28783  sobre             66.67    Alta    NaN       3     3.0  sobre   \n",
       "28784  sobre             28.57    Baja    NaN       3     3.0  sobre   \n",
       "28785  sobre             66.67    Alta    NaN       3     3.0  sobre   \n",
       "\n",
       "       Ingreso mensual  ingreso mensual  \n",
       "0         9.722394e+05     16203.990000  \n",
       "1         6.183278e+05     10305.463333  \n",
       "2         4.140248e+05      6900.413333  \n",
       "3         9.760588e+05     16267.646667  \n",
       "4         6.869438e+05     11449.063333  \n",
       "...                ...              ...  \n",
       "28781     6.070549e+05      4742.616667  \n",
       "28782     5.921566e+05      4626.223333  \n",
       "28783     8.578065e+05      6701.613333  \n",
       "28784     1.107934e+06      8655.733333  \n",
       "28785     1.937713e+06     15138.386667  \n",
       "\n",
       "[28786 rows x 162 columns]"
      ]
     },
     "execution_count": 3,
     "metadata": {},
     "output_type": "execute_result"
    }
   ],
   "source": [
    "rurales"
   ]
  },
  {
   "cell_type": "code",
   "execution_count": 12,
   "id": "every-payroll",
   "metadata": {},
   "outputs": [],
   "source": [
    "data=rurales.filter([ 'ing_cor',\n",
    "        'trabajo', 'sueldos', 'horas_extr', 'comisiones',\n",
    "       'aguinaldo', 'indemtrab', 'otra_rem', 'remu_espec', 'noagrop', 'industria', 'comercio', 'servicios', 'agrope',\n",
    "       'agricolas', 'pecuarios', 'reproducc', 'pesca', 'otros_trab',\n",
    "       'rentas', 'utilidad', 'arrenda', 'transfer', 'jubilacion', 'becas',\n",
    "       'donativos', 'remesas', 'bene_gob', 'transf_hog', 'trans_inst','otros_ing'])"
   ]
  },
  {
   "cell_type": "code",
   "execution_count": 14,
   "id": "outside-guitar",
   "metadata": {},
   "outputs": [],
   "source": []
  },
  {
   "cell_type": "code",
   "execution_count": 22,
   "id": "superior-utilization",
   "metadata": {},
   "outputs": [],
   "source": [
    "data2=data.filter([ 'ing_cor','trabajo', 'noagrop', 'agrope','rentas', 'transfer', 'otros_ing'])"
   ]
  },
  {
   "cell_type": "code",
   "execution_count": 69,
   "id": "chicken-tuesday",
   "metadata": {},
   "outputs": [],
   "source": [
    "data1=DataFrame()\n",
    "data1['SumaIngresos']=data['trabajo']+data['noagrop']+data['agrope']+data['rentas']+data['transfer']+data['otros_ing']+data['otros_trab']\n",
    "data1['IngresoCorriente']=data['ing_cor']\n",
    "data1['Diferencia']=data1['IngresoCorriente']-data1['SumaIngresos']\n",
    "data1['EstAlq']=rurales['estim_alqu']\n",
    "data1['Diferencia2']=round(data1['Diferencia']-data1['EstAlq'])"
   ]
  },
  {
   "cell_type": "code",
   "execution_count": 71,
   "id": "thermal-export",
   "metadata": {},
   "outputs": [
    {
     "data": {
      "text/html": [
       "<div>\n",
       "<style scoped>\n",
       "    .dataframe tbody tr th:only-of-type {\n",
       "        vertical-align: middle;\n",
       "    }\n",
       "\n",
       "    .dataframe tbody tr th {\n",
       "        vertical-align: top;\n",
       "    }\n",
       "\n",
       "    .dataframe thead th {\n",
       "        text-align: right;\n",
       "    }\n",
       "</style>\n",
       "<table border=\"1\" class=\"dataframe\">\n",
       "  <thead>\n",
       "    <tr style=\"text-align: right;\">\n",
       "      <th></th>\n",
       "      <th>SumaIngresos</th>\n",
       "      <th>IngresoCorriente</th>\n",
       "      <th>Diferencia</th>\n",
       "      <th>EstAlq</th>\n",
       "      <th>Diferencia2</th>\n",
       "    </tr>\n",
       "  </thead>\n",
       "  <tbody>\n",
       "    <tr>\n",
       "      <th>0</th>\n",
       "      <td>39902.3</td>\n",
       "      <td>48611.97</td>\n",
       "      <td>8709.67</td>\n",
       "      <td>8709.67</td>\n",
       "      <td>-0.0</td>\n",
       "    </tr>\n",
       "    <tr>\n",
       "      <th>0</th>\n",
       "      <td>39902.3</td>\n",
       "      <td>48611.97</td>\n",
       "      <td>8709.67</td>\n",
       "      <td>8709.67</td>\n",
       "      <td>-0.0</td>\n",
       "    </tr>\n",
       "    <tr>\n",
       "      <th>0</th>\n",
       "      <td>39902.3</td>\n",
       "      <td>48611.97</td>\n",
       "      <td>8709.67</td>\n",
       "      <td>8709.67</td>\n",
       "      <td>-0.0</td>\n",
       "    </tr>\n",
       "    <tr>\n",
       "      <th>0</th>\n",
       "      <td>39902.3</td>\n",
       "      <td>48611.97</td>\n",
       "      <td>8709.67</td>\n",
       "      <td>8709.67</td>\n",
       "      <td>-0.0</td>\n",
       "    </tr>\n",
       "    <tr>\n",
       "      <th>0</th>\n",
       "      <td>39902.3</td>\n",
       "      <td>48611.97</td>\n",
       "      <td>8709.67</td>\n",
       "      <td>8709.67</td>\n",
       "      <td>-0.0</td>\n",
       "    </tr>\n",
       "    <tr>\n",
       "      <th>...</th>\n",
       "      <td>...</td>\n",
       "      <td>...</td>\n",
       "      <td>...</td>\n",
       "      <td>...</td>\n",
       "      <td>...</td>\n",
       "    </tr>\n",
       "    <tr>\n",
       "      <th>0</th>\n",
       "      <td>39902.3</td>\n",
       "      <td>48611.97</td>\n",
       "      <td>8709.67</td>\n",
       "      <td>8709.67</td>\n",
       "      <td>-0.0</td>\n",
       "    </tr>\n",
       "    <tr>\n",
       "      <th>0</th>\n",
       "      <td>39902.3</td>\n",
       "      <td>48611.97</td>\n",
       "      <td>8709.67</td>\n",
       "      <td>8709.67</td>\n",
       "      <td>-0.0</td>\n",
       "    </tr>\n",
       "    <tr>\n",
       "      <th>0</th>\n",
       "      <td>39902.3</td>\n",
       "      <td>48611.97</td>\n",
       "      <td>8709.67</td>\n",
       "      <td>8709.67</td>\n",
       "      <td>-0.0</td>\n",
       "    </tr>\n",
       "    <tr>\n",
       "      <th>0</th>\n",
       "      <td>39902.3</td>\n",
       "      <td>48611.97</td>\n",
       "      <td>8709.67</td>\n",
       "      <td>8709.67</td>\n",
       "      <td>-0.0</td>\n",
       "    </tr>\n",
       "    <tr>\n",
       "      <th>0</th>\n",
       "      <td>39902.3</td>\n",
       "      <td>48611.97</td>\n",
       "      <td>8709.67</td>\n",
       "      <td>8709.67</td>\n",
       "      <td>-0.0</td>\n",
       "    </tr>\n",
       "  </tbody>\n",
       "</table>\n",
       "<p>28786 rows × 5 columns</p>\n",
       "</div>"
      ],
      "text/plain": [
       "    SumaIngresos  IngresoCorriente  Diferencia   EstAlq  Diferencia2\n",
       "0        39902.3          48611.97     8709.67  8709.67         -0.0\n",
       "0        39902.3          48611.97     8709.67  8709.67         -0.0\n",
       "0        39902.3          48611.97     8709.67  8709.67         -0.0\n",
       "0        39902.3          48611.97     8709.67  8709.67         -0.0\n",
       "0        39902.3          48611.97     8709.67  8709.67         -0.0\n",
       "..           ...               ...         ...      ...          ...\n",
       "0        39902.3          48611.97     8709.67  8709.67         -0.0\n",
       "0        39902.3          48611.97     8709.67  8709.67         -0.0\n",
       "0        39902.3          48611.97     8709.67  8709.67         -0.0\n",
       "0        39902.3          48611.97     8709.67  8709.67         -0.0\n",
       "0        39902.3          48611.97     8709.67  8709.67         -0.0\n",
       "\n",
       "[28786 rows x 5 columns]"
      ]
     },
     "execution_count": 71,
     "metadata": {},
     "output_type": "execute_result"
    }
   ],
   "source": [
    "data1.loc[data1['Diferencia2']]"
   ]
  },
  {
   "cell_type": "code",
   "execution_count": 80,
   "id": "reliable-angle",
   "metadata": {},
   "outputs": [],
   "source": [
    "chafa=round(len(data1.loc[data1['Diferencia2']!=0])/len(rurales)*100,2)"
   ]
  },
  {
   "cell_type": "code",
   "execution_count": 81,
   "id": "pleasant-thunder",
   "metadata": {},
   "outputs": [
    {
     "data": {
      "text/plain": [
       "100.0"
      ]
     },
     "execution_count": 81,
     "metadata": {},
     "output_type": "execute_result"
    }
   ],
   "source": [
    "100-chafa"
   ]
  },
  {
   "cell_type": "code",
   "execution_count": 82,
   "id": "starting-thanksgiving",
   "metadata": {},
   "outputs": [
    {
     "data": {
      "text/plain": [
       "20.53"
      ]
     },
     "execution_count": 82,
     "metadata": {},
     "output_type": "execute_result"
    }
   ],
   "source": [
    "100-79.47"
   ]
  },
  {
   "cell_type": "code",
   "execution_count": 67,
   "id": "optional-barbados",
   "metadata": {},
   "outputs": [],
   "source": [
    "data3=DataFrame()\n",
    "data3['trabajo']=data['trabajo']\n",
    "data3['SumaDesacopladaTrabajo']=data['sueldos']+data['horas_extr']+data['comisiones']+data['aguinaldo']+data['indemtrab']+data['otra_rem']+data['remu_espec']\n",
    "data3['Dif']=round(data3['trabajo']-data3['SumaDesacopladaTrabajo'],2)"
   ]
  },
  {
   "cell_type": "code",
   "execution_count": 68,
   "id": "found-black",
   "metadata": {},
   "outputs": [
    {
     "data": {
      "text/plain": [
       "0.0"
      ]
     },
     "execution_count": 68,
     "metadata": {},
     "output_type": "execute_result"
    }
   ],
   "source": [
    "data3.Dif.sum()"
   ]
  },
  {
   "cell_type": "code",
   "execution_count": 56,
   "id": "aboriginal-coating",
   "metadata": {},
   "outputs": [],
   "source": [
    "data4=DataFrame()\n",
    "#'noagrop', 'industria', 'comercio', 'servicios'\n",
    "data4['noagrop']=data['noagrop']\n",
    "data4['SumaDesacopladaNoAgrop']=data['industria']+data['comercio']+data['servicios']#+data['aguinaldo']+data['indemtrab']+data['otra_rem']+data['remu_espec']\n",
    "data4['Dif']=round(data4['noagrop']-data4['SumaDesacopladaNoAgrop'],2)"
   ]
  },
  {
   "cell_type": "code",
   "execution_count": 58,
   "id": "committed-suite",
   "metadata": {},
   "outputs": [
    {
     "data": {
      "text/plain": [
       "0.0"
      ]
     },
     "execution_count": 58,
     "metadata": {},
     "output_type": "execute_result"
    }
   ],
   "source": [
    "data4.Dif.sum()"
   ]
  },
  {
   "cell_type": "code",
   "execution_count": 63,
   "id": "middle-manchester",
   "metadata": {},
   "outputs": [],
   "source": [
    "#'agrope','agricolas', 'pecuarios', 'reproducc', 'pesca', 'otros_trab'\n",
    "data5=DataFrame()\n",
    "data5['agrope']=data['agrope']\n",
    "data5['SumaDesacopladaAgrope']=data['agricolas']+data['pecuarios']+data['reproducc']+data['pesca']#+data['otros_trab']\n",
    "data5['Dif']=round(data5['agrope']-data5['SumaDesacopladaAgrope'],2)"
   ]
  },
  {
   "cell_type": "code",
   "execution_count": 64,
   "id": "covered-depth",
   "metadata": {},
   "outputs": [
    {
     "data": {
      "text/plain": [
       "0        0.0\n",
       "1        0.0\n",
       "2        0.0\n",
       "3        0.0\n",
       "4        0.0\n",
       "        ... \n",
       "28781    0.0\n",
       "28782    0.0\n",
       "28783    0.0\n",
       "28784    0.0\n",
       "28785    0.0\n",
       "Name: Dif, Length: 28786, dtype: float64"
      ]
     },
     "execution_count": 64,
     "metadata": {},
     "output_type": "execute_result"
    }
   ],
   "source": [
    "data5.Dif"
   ]
  },
  {
   "cell_type": "code",
   "execution_count": 72,
   "id": "iraqi-avenue",
   "metadata": {},
   "outputs": [],
   "source": [
    "'rentas', 'utilidad', 'arrenda'\n",
    "data6=DataFrame()\n",
    "data6['rentas']=data['rentas']\n",
    "data6['SumaDesacopladaRentas']=data['utilidad']+data['arrenda']#+data['reproducc']+data['pesca']#+data['otros_trab']\n",
    "data6['Dif']=round(data6['rentas']-data6['SumaDesacopladaRentas'],2)"
   ]
  },
  {
   "cell_type": "code",
   "execution_count": 74,
   "id": "outdoor-preservation",
   "metadata": {},
   "outputs": [
    {
     "data": {
      "text/plain": [
       "0.0"
      ]
     },
     "execution_count": 74,
     "metadata": {},
     "output_type": "execute_result"
    }
   ],
   "source": [
    "data6.Dif.sum()"
   ]
  },
  {
   "cell_type": "code",
   "execution_count": 76,
   "id": "synthetic-poster",
   "metadata": {},
   "outputs": [],
   "source": [
    "#'transfer', 'jubilacion', 'becas',\n",
    " #      'donativos', 'remesas', 'bene_gob', 'transf_hog', 'trans_inst'\n",
    "data7=DataFrame()\n",
    "data7['transfer']=data['transfer']\n",
    "data7['SumaDesacopladaTransfer']=data['jubilacion']+data['becas']+data['donativos']+data['remesas']+data['bene_gob']+data['transf_hog']+data['trans_inst']\n",
    "data7['Dif']=round(data7['transfer']-data7['SumaDesacopladaTransfer'],2)"
   ]
  },
  {
   "cell_type": "code",
   "execution_count": 78,
   "id": "nonprofit-montgomery",
   "metadata": {},
   "outputs": [
    {
     "data": {
      "text/plain": [
       "0.0"
      ]
     },
     "execution_count": 78,
     "metadata": {},
     "output_type": "execute_result"
    }
   ],
   "source": [
    "data7.Dif.sum()"
   ]
  },
  {
   "cell_type": "code",
   "execution_count": 83,
   "id": "stopped-fraction",
   "metadata": {},
   "outputs": [],
   "source": [
    "rurales['IngresoCorriente']=data['trabajo']+data['noagrop']+data['agrope']+data['rentas']+data['transfer']+data['otros_ing']+data['otros_trab']"
   ]
  },
  {
   "cell_type": "code",
   "execution_count": 84,
   "id": "collect-conjunction",
   "metadata": {},
   "outputs": [],
   "source": [
    "rurales.to_csv('rurales_13_02_23.csv')"
   ]
  },
  {
   "cell_type": "code",
   "execution_count": 91,
   "id": "fatty-novelty",
   "metadata": {},
   "outputs": [
    {
     "data": {
      "text/plain": [
       "-87096.77"
      ]
     },
     "execution_count": 91,
     "metadata": {},
     "output_type": "execute_result"
    }
   ],
   "source": [
    "(rurales['IngresoCorriente']-rurales['ing_cor']).min().round(2)"
   ]
  },
  {
   "cell_type": "code",
   "execution_count": 93,
   "id": "sonic-pepper",
   "metadata": {},
   "outputs": [],
   "source": [
    "def tri_mean(A):\n",
    "    return 0.3*A.mean()\n",
    "    "
   ]
  },
  {
   "cell_type": "code",
   "execution_count": 94,
   "id": "distinct-massachusetts",
   "metadata": {},
   "outputs": [],
   "source": [
    "T3=rurales.filter(['trabajo','noagrop','agrope','rentas','transfer','otros_ing','otros_trab','tipo_hogar']).pivot_table(index=['tipo_hogar'],aggfunc=tri_mean,margins=True,margins_name='''Total Ingresos Promedio Mensuales por Fuente ''').round(2)"
   ]
  },
  {
   "cell_type": "code",
   "execution_count": 99,
   "id": "mysterious-timothy",
   "metadata": {},
   "outputs": [],
   "source": [
    "T3.T.to_csv('exploracion_ingresos_por_fuente.csv')"
   ]
  },
  {
   "cell_type": "code",
   "execution_count": null,
   "id": "adopted-photography",
   "metadata": {},
   "outputs": [],
   "source": []
  }
 ],
 "metadata": {
  "kernelspec": {
   "display_name": "Python 3",
   "language": "python",
   "name": "python3"
  },
  "language_info": {
   "codemirror_mode": {
    "name": "ipython",
    "version": 3
   },
   "file_extension": ".py",
   "mimetype": "text/x-python",
   "name": "python",
   "nbconvert_exporter": "python",
   "pygments_lexer": "ipython3",
   "version": "3.9.2"
  }
 },
 "nbformat": 4,
 "nbformat_minor": 5
}
