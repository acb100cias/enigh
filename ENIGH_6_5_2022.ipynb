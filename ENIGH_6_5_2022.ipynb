{
 "cells": [
  {
   "cell_type": "code",
   "execution_count": 1,
   "id": "horizontal-baltimore",
   "metadata": {},
   "outputs": [],
   "source": [
    "from pandas import *\n",
    "from numpy import *"
   ]
  },
  {
   "cell_type": "code",
   "execution_count": 2,
   "id": "permanent-january",
   "metadata": {},
   "outputs": [],
   "source": [
    "hogares=read_csv('../conjunto_de_datos_enigh_ns_2020_csv/conjunto_de_datos_concentradohogar_enigh_2020_ns/conjunto_de_datos/conjunto_de_datos_concentradohogar_enigh_2020_ns.csv',low_memory=False)\n",
    "poblacion=read_csv('../conjunto_de_datos_enigh_ns_2020_csv/conjunto_de_datos_poblacion_enigh_2020_ns/conjunto_de_datos/conjunto_de_datos_poblacion_enigh_2020_ns.csv',low_memory=False)\n",
    "agro=read_csv('../conjunto_de_datos_enigh_ns_2020_csv/conjunto_de_datos_agro_enigh_2020_ns/conjunto_de_datos/conjunto_de_datos_agro_enigh_2020_ns.csv',low_memory=False)\n",
    "UBICA=read_csv('../conjunto_de_datos_enigh_ns_2020_csv/conjunto_de_datos_concentradohogar_enigh_2020_ns/catalogos/ubica_geo.csv',encoding='utf8',low_memory=False)\n",
    "CU=read_csv('CU_municipios.csv',encoding='latin1')\n",
    "region=read_excel('Regionalizacion para la ENIGH.xls')\n",
    "tamLoc=read_csv('../conjunto_de_datos_enigh_ns_2020_csv/conjunto_de_datos_concentradohogar_enigh_2020_ns/catalogos/tam_loc.csv',encoding='utf8')"
   ]
  },
  {
   "cell_type": "code",
   "execution_count": 3,
   "id": "interesting-warning",
   "metadata": {},
   "outputs": [],
   "source": [
    "tamLoc=tamLoc.rename(columns={'descripcion':'TamLoc'})"
   ]
  },
  {
   "cell_type": "code",
   "execution_count": 4,
   "id": "coated-staff",
   "metadata": {},
   "outputs": [],
   "source": [
    "hogares=hogares.merge(tamLoc,on='tam_loc')"
   ]
  },
  {
   "cell_type": "code",
   "execution_count": 5,
   "id": "steady-improvement",
   "metadata": {},
   "outputs": [],
   "source": [
    "hogares=hogares.merge(UBICA,on='ubica_geo')\n",
    "hogares=hogares.merge(region,on='desc_ent')\n"
   ]
  },
  {
   "cell_type": "code",
   "execution_count": 6,
   "id": "meaningful-fantasy",
   "metadata": {},
   "outputs": [],
   "source": [
    "hogares['pob_aprox']=hogares['tot_integ']*hogares['factor']"
   ]
  },
  {
   "cell_type": "code",
   "execution_count": 7,
   "id": "frequent-collectible",
   "metadata": {},
   "outputs": [],
   "source": [
    "dic1={'Redad':[]}\n",
    "for i in range(len(poblacion)):\n",
    "    if poblacion.edad[i]<16:\n",
    "        dic1['Redad'].append('15 o menos')\n",
    "    elif poblacion.edad[i]>=16 and poblacion.edad[i]<30:\n",
    "        dic1['Redad'].append('16-29')\n",
    "    elif poblacion.edad[i]>=30 and poblacion.edad[i]<60:\n",
    "        dic1['Redad'].append('30-60')\n",
    "    else:\n",
    "        dic1['Redad'].append('60 o mas')"
   ]
  },
  {
   "cell_type": "code",
   "execution_count": 8,
   "id": "wicked-manhattan",
   "metadata": {},
   "outputs": [
    {
     "name": "stderr",
     "output_type": "stream",
     "text": [
      "/usr/lib/python3/dist-packages/pandas/core/reshape/merge.py:643: UserWarning: merging between different levels can give an unintended result (2 levels on the left,1 on the right)\n",
      "  warnings.warn(msg, UserWarning)\n"
     ]
    }
   ],
   "source": [
    "hogares=poblacion.join(DataFrame(dic1)).filter(['folioviv','foliohog','Redad','numren']).pivot_table(index=['folioviv','foliohog'],columns='Redad',aggfunc='count',margins=True,margins_name='Total').fillna(0).astype('int').drop(['Total'],axis=0).reset_index().merge(hogares,on=['folioviv','foliohog']).drop([('folioviv',''),('foliohog','')],axis=1).rename(columns={('numren', '15 o menos'):'15 o menos',('numren', '16-29'):'16-29',('numren', '30-60'):'30-59',('numren', '60 o mas'):'60 o mas',('numren','Total'):'numren'})"
   ]
  },
  {
   "cell_type": "code",
   "execution_count": 9,
   "id": "selected-taxation",
   "metadata": {},
   "outputs": [],
   "source": [
    "hogares['total_mujeres']=hogares['mujeres']*hogares['factor']\n",
    "hogares['total_hombres']=hogares['hombres']*hogares['factor']\n",
    "hogares['T_15 o menos']=hogares['15 o menos']*hogares['factor']\n",
    "hogares['T_16-29']=hogares['16-29']*hogares['factor']\n",
    "hogares['T_30-59']=hogares['30-59']*hogares['factor']\n",
    "hogares['T_60 o mas']=hogares['60 o mas']*hogares['factor']\n",
    "hogares['T_numren']=hogares['numren']*hogares['factor']"
   ]
  },
  {
   "cell_type": "code",
   "execution_count": 10,
   "id": "fatty-industry",
   "metadata": {},
   "outputs": [],
   "source": [
    "dic={'tipo_hogar':[]}\n",
    "rurales=hogares.loc[hogares['tam_loc']==4]\n",
    "rurales=rurales.reset_index()\n"
   ]
  },
  {
   "cell_type": "code",
   "execution_count": 11,
   "id": "raised-provider",
   "metadata": {},
   "outputs": [],
   "source": [
    "for i in range(len(rurales)):\n",
    "    if rurales['agrope'][i]>0 and rurales['noagrop'][i]==0:\n",
    "        dic['tipo_hogar'].append('UCE')\n",
    "    elif rurales['agrope'][i]>0 and rurales['noagrop'][i]>0:\n",
    "        dic['tipo_hogar'].append('UCEP')\n",
    "    elif rurales['agrope'][i]==0 and rurales['noagrop'][i]>0:\n",
    "        dic['tipo_hogar'].append('UFR')\n",
    "    else:\n",
    "        dic['tipo_hogar'].append('Sin ingresos propios')"
   ]
  },
  {
   "cell_type": "code",
   "execution_count": 12,
   "id": "central-craps",
   "metadata": {},
   "outputs": [],
   "source": [
    "rurales=rurales.join(DataFrame(dic))"
   ]
  },
  {
   "cell_type": "code",
   "execution_count": 13,
   "id": "comprehensive-wells",
   "metadata": {},
   "outputs": [],
   "source": [
    "rurales=rurales.drop('index',axis=1)"
   ]
  },
  {
   "cell_type": "code",
   "execution_count": 14,
   "id": "sitting-duplicate",
   "metadata": {},
   "outputs": [],
   "source": [
    "autoconsumo=agro.filter(['folioviv','foliohog','autocons']).merge(rurales,on=['folioviv','foliohog'])"
   ]
  },
  {
   "cell_type": "code",
   "execution_count": 15,
   "id": "honey-flash",
   "metadata": {},
   "outputs": [],
   "source": [
    "hogares.to_csv('hogares20_6_5_2022.csv',index=False)\n",
    "rurales.to_csv('rurales20_6_5_2022.csv',index=False)\n",
    "autoconsumo.to_csv('autoconsumo20_6_5_2022.csv',index=False)"
   ]
  },
  {
   "cell_type": "code",
   "execution_count": 16,
   "id": "previous-berkeley",
   "metadata": {},
   "outputs": [],
   "source": [
    "cu=CU.filter(['CVE_MUN','LOC_0','LOC_1','LOC_2','LOC_3','LOC_4','LOC_TOTAL'])\n",
    "cu=cu.astype('int')\n",
    "cu['ploc_0']=round((cu['LOC_0']/cu['LOC_TOTAL'])*100,2)\n",
    "cu['ploc_1']=round((cu['LOC_1']/cu['LOC_TOTAL'])*100,2)\n",
    "cu['ploc_2']=round((cu['LOC_2']/cu['LOC_TOTAL'])*100,2)\n",
    "cu['ploc_3']=round((cu['LOC_3']/cu['LOC_TOTAL'])*100,2)\n",
    "cu['ploc_4']=round((cu['LOC_4']/cu['LOC_TOTAL'])*100,2)"
   ]
  },
  {
   "cell_type": "code",
   "execution_count": 17,
   "id": "utility-assets",
   "metadata": {},
   "outputs": [],
   "source": [
    "cu=cu.rename(columns={'CVE_MUN':'ubica_geo'})"
   ]
  },
  {
   "cell_type": "code",
   "execution_count": 18,
   "id": "chief-significance",
   "metadata": {},
   "outputs": [],
   "source": [
    "dic2={'pcu':[]}\n",
    "for i in range(len(cu)):\n",
    "    M=max(cu['ploc_0'][i],cu['ploc_1'][i],cu['ploc_2'][i],cu['ploc_3'][i],cu['ploc_4'][i])\n",
    "    if cu['ploc_0'][i]==M:\n",
    "        dic2['pcu'].append(0)\n",
    "    elif cu['ploc_1'][i]==M:\n",
    "        dic2['pcu'].append(1)\n",
    "    elif cu['ploc_2'][i]==M:\n",
    "        dic2['pcu'].append(2)\n",
    "    elif cu['ploc_3'][i]==M:\n",
    "        dic2['pcu'].append(3)\n",
    "    else: \n",
    "        dic2['pcu'].append(4)\n",
    "cu=cu.join(DataFrame(dic2))"
   ]
  },
  {
   "cell_type": "code",
   "execution_count": 19,
   "id": "processed-prospect",
   "metadata": {},
   "outputs": [
    {
     "data": {
      "text/html": [
       "<div>\n",
       "<style scoped>\n",
       "    .dataframe tbody tr th:only-of-type {\n",
       "        vertical-align: middle;\n",
       "    }\n",
       "\n",
       "    .dataframe tbody tr th {\n",
       "        vertical-align: top;\n",
       "    }\n",
       "\n",
       "    .dataframe thead th {\n",
       "        text-align: right;\n",
       "    }\n",
       "</style>\n",
       "<table border=\"1\" class=\"dataframe\">\n",
       "  <thead>\n",
       "    <tr style=\"text-align: right;\">\n",
       "      <th></th>\n",
       "      <th>ubica_geo</th>\n",
       "      <th>LOC_0</th>\n",
       "      <th>LOC_1</th>\n",
       "      <th>LOC_2</th>\n",
       "      <th>LOC_3</th>\n",
       "      <th>LOC_4</th>\n",
       "      <th>LOC_TOTAL</th>\n",
       "      <th>ploc_0</th>\n",
       "      <th>ploc_1</th>\n",
       "      <th>ploc_2</th>\n",
       "      <th>ploc_3</th>\n",
       "      <th>ploc_4</th>\n",
       "      <th>pcu</th>\n",
       "    </tr>\n",
       "  </thead>\n",
       "  <tbody>\n",
       "    <tr>\n",
       "      <th>0</th>\n",
       "      <td>1001</td>\n",
       "      <td>6</td>\n",
       "      <td>279</td>\n",
       "      <td>29</td>\n",
       "      <td>233</td>\n",
       "      <td>42</td>\n",
       "      <td>589</td>\n",
       "      <td>1.02</td>\n",
       "      <td>47.37</td>\n",
       "      <td>4.92</td>\n",
       "      <td>39.56</td>\n",
       "      <td>7.13</td>\n",
       "      <td>1</td>\n",
       "    </tr>\n",
       "    <tr>\n",
       "      <th>1</th>\n",
       "      <td>1002</td>\n",
       "      <td>3</td>\n",
       "      <td>27</td>\n",
       "      <td>27</td>\n",
       "      <td>109</td>\n",
       "      <td>2</td>\n",
       "      <td>168</td>\n",
       "      <td>1.79</td>\n",
       "      <td>16.07</td>\n",
       "      <td>16.07</td>\n",
       "      <td>64.88</td>\n",
       "      <td>1.19</td>\n",
       "      <td>3</td>\n",
       "    </tr>\n",
       "    <tr>\n",
       "      <th>2</th>\n",
       "      <td>1003</td>\n",
       "      <td>2</td>\n",
       "      <td>52</td>\n",
       "      <td>7</td>\n",
       "      <td>60</td>\n",
       "      <td>34</td>\n",
       "      <td>155</td>\n",
       "      <td>1.29</td>\n",
       "      <td>33.55</td>\n",
       "      <td>4.52</td>\n",
       "      <td>38.71</td>\n",
       "      <td>21.94</td>\n",
       "      <td>3</td>\n",
       "    </tr>\n",
       "    <tr>\n",
       "      <th>3</th>\n",
       "      <td>1004</td>\n",
       "      <td>1</td>\n",
       "      <td>0</td>\n",
       "      <td>15</td>\n",
       "      <td>37</td>\n",
       "      <td>1</td>\n",
       "      <td>54</td>\n",
       "      <td>1.85</td>\n",
       "      <td>0.00</td>\n",
       "      <td>27.78</td>\n",
       "      <td>68.52</td>\n",
       "      <td>1.85</td>\n",
       "      <td>3</td>\n",
       "    </tr>\n",
       "    <tr>\n",
       "      <th>4</th>\n",
       "      <td>1005</td>\n",
       "      <td>6</td>\n",
       "      <td>142</td>\n",
       "      <td>16</td>\n",
       "      <td>61</td>\n",
       "      <td>10</td>\n",
       "      <td>235</td>\n",
       "      <td>2.55</td>\n",
       "      <td>60.43</td>\n",
       "      <td>6.81</td>\n",
       "      <td>25.96</td>\n",
       "      <td>4.26</td>\n",
       "      <td>1</td>\n",
       "    </tr>\n",
       "    <tr>\n",
       "      <th>...</th>\n",
       "      <td>...</td>\n",
       "      <td>...</td>\n",
       "      <td>...</td>\n",
       "      <td>...</td>\n",
       "      <td>...</td>\n",
       "      <td>...</td>\n",
       "      <td>...</td>\n",
       "      <td>...</td>\n",
       "      <td>...</td>\n",
       "      <td>...</td>\n",
       "      <td>...</td>\n",
       "      <td>...</td>\n",
       "      <td>...</td>\n",
       "    </tr>\n",
       "    <tr>\n",
       "      <th>2451</th>\n",
       "      <td>32054</td>\n",
       "      <td>1</td>\n",
       "      <td>0</td>\n",
       "      <td>2</td>\n",
       "      <td>37</td>\n",
       "      <td>8</td>\n",
       "      <td>48</td>\n",
       "      <td>2.08</td>\n",
       "      <td>0.00</td>\n",
       "      <td>4.17</td>\n",
       "      <td>77.08</td>\n",
       "      <td>16.67</td>\n",
       "      <td>3</td>\n",
       "    </tr>\n",
       "    <tr>\n",
       "      <th>2452</th>\n",
       "      <td>32055</td>\n",
       "      <td>2</td>\n",
       "      <td>0</td>\n",
       "      <td>11</td>\n",
       "      <td>47</td>\n",
       "      <td>52</td>\n",
       "      <td>112</td>\n",
       "      <td>1.79</td>\n",
       "      <td>0.00</td>\n",
       "      <td>9.82</td>\n",
       "      <td>41.96</td>\n",
       "      <td>46.43</td>\n",
       "      <td>4</td>\n",
       "    </tr>\n",
       "    <tr>\n",
       "      <th>2453</th>\n",
       "      <td>32056</td>\n",
       "      <td>1</td>\n",
       "      <td>25</td>\n",
       "      <td>0</td>\n",
       "      <td>40</td>\n",
       "      <td>2</td>\n",
       "      <td>68</td>\n",
       "      <td>1.47</td>\n",
       "      <td>36.76</td>\n",
       "      <td>0.00</td>\n",
       "      <td>58.82</td>\n",
       "      <td>2.94</td>\n",
       "      <td>3</td>\n",
       "    </tr>\n",
       "    <tr>\n",
       "      <th>2454</th>\n",
       "      <td>32057</td>\n",
       "      <td>1</td>\n",
       "      <td>0</td>\n",
       "      <td>4</td>\n",
       "      <td>14</td>\n",
       "      <td>0</td>\n",
       "      <td>19</td>\n",
       "      <td>5.26</td>\n",
       "      <td>0.00</td>\n",
       "      <td>21.05</td>\n",
       "      <td>73.68</td>\n",
       "      <td>0.00</td>\n",
       "      <td>3</td>\n",
       "    </tr>\n",
       "    <tr>\n",
       "      <th>2455</th>\n",
       "      <td>32058</td>\n",
       "      <td>0</td>\n",
       "      <td>0</td>\n",
       "      <td>0</td>\n",
       "      <td>6</td>\n",
       "      <td>15</td>\n",
       "      <td>21</td>\n",
       "      <td>0.00</td>\n",
       "      <td>0.00</td>\n",
       "      <td>0.00</td>\n",
       "      <td>28.57</td>\n",
       "      <td>71.43</td>\n",
       "      <td>4</td>\n",
       "    </tr>\n",
       "  </tbody>\n",
       "</table>\n",
       "<p>2456 rows × 13 columns</p>\n",
       "</div>"
      ],
      "text/plain": [
       "      ubica_geo  LOC_0  LOC_1  LOC_2  LOC_3  LOC_4  LOC_TOTAL  ploc_0  ploc_1  \\\n",
       "0          1001      6    279     29    233     42        589    1.02   47.37   \n",
       "1          1002      3     27     27    109      2        168    1.79   16.07   \n",
       "2          1003      2     52      7     60     34        155    1.29   33.55   \n",
       "3          1004      1      0     15     37      1         54    1.85    0.00   \n",
       "4          1005      6    142     16     61     10        235    2.55   60.43   \n",
       "...         ...    ...    ...    ...    ...    ...        ...     ...     ...   \n",
       "2451      32054      1      0      2     37      8         48    2.08    0.00   \n",
       "2452      32055      2      0     11     47     52        112    1.79    0.00   \n",
       "2453      32056      1     25      0     40      2         68    1.47   36.76   \n",
       "2454      32057      1      0      4     14      0         19    5.26    0.00   \n",
       "2455      32058      0      0      0      6     15         21    0.00    0.00   \n",
       "\n",
       "      ploc_2  ploc_3  ploc_4  pcu  \n",
       "0       4.92   39.56    7.13    1  \n",
       "1      16.07   64.88    1.19    3  \n",
       "2       4.52   38.71   21.94    3  \n",
       "3      27.78   68.52    1.85    3  \n",
       "4       6.81   25.96    4.26    1  \n",
       "...      ...     ...     ...  ...  \n",
       "2451    4.17   77.08   16.67    3  \n",
       "2452    9.82   41.96   46.43    4  \n",
       "2453    0.00   58.82    2.94    3  \n",
       "2454   21.05   73.68    0.00    3  \n",
       "2455    0.00   28.57   71.43    4  \n",
       "\n",
       "[2456 rows x 13 columns]"
      ]
     },
     "execution_count": 19,
     "metadata": {},
     "output_type": "execute_result"
    }
   ],
   "source": [
    "cu"
   ]
  },
  {
   "cell_type": "code",
   "execution_count": 20,
   "id": "nasty-dover",
   "metadata": {},
   "outputs": [],
   "source": [
    "hogares_cu=hogares.merge(cu,on='ubica_geo')\n",
    "rurales_cu=rurales.merge(cu,on='ubica_geo')"
   ]
  },
  {
   "cell_type": "code",
   "execution_count": 21,
   "id": "sharp-fight",
   "metadata": {},
   "outputs": [
    {
     "data": {
      "text/html": [
       "<div>\n",
       "<style scoped>\n",
       "    .dataframe tbody tr th:only-of-type {\n",
       "        vertical-align: middle;\n",
       "    }\n",
       "\n",
       "    .dataframe tbody tr th {\n",
       "        vertical-align: top;\n",
       "    }\n",
       "\n",
       "    .dataframe thead th {\n",
       "        text-align: right;\n",
       "    }\n",
       "</style>\n",
       "<table border=\"1\" class=\"dataframe\">\n",
       "  <thead>\n",
       "    <tr style=\"text-align: right;\">\n",
       "      <th></th>\n",
       "      <th>folioviv</th>\n",
       "      <th>foliohog</th>\n",
       "      <th>15 o menos</th>\n",
       "      <th>16-29</th>\n",
       "      <th>30-59</th>\n",
       "      <th>60 o mas</th>\n",
       "      <th>numren</th>\n",
       "      <th>ubica_geo</th>\n",
       "      <th>tam_loc</th>\n",
       "      <th>est_socio</th>\n",
       "      <th>...</th>\n",
       "      <th>LOC_2</th>\n",
       "      <th>LOC_3</th>\n",
       "      <th>LOC_4</th>\n",
       "      <th>LOC_TOTAL</th>\n",
       "      <th>ploc_0</th>\n",
       "      <th>ploc_1</th>\n",
       "      <th>ploc_2</th>\n",
       "      <th>ploc_3</th>\n",
       "      <th>ploc_4</th>\n",
       "      <th>pcu</th>\n",
       "    </tr>\n",
       "  </thead>\n",
       "  <tbody>\n",
       "    <tr>\n",
       "      <th>0</th>\n",
       "      <td>100013605</td>\n",
       "      <td>1</td>\n",
       "      <td>1</td>\n",
       "      <td>1</td>\n",
       "      <td>1</td>\n",
       "      <td>0</td>\n",
       "      <td>3</td>\n",
       "      <td>1001</td>\n",
       "      <td>1</td>\n",
       "      <td>3</td>\n",
       "      <td>...</td>\n",
       "      <td>29</td>\n",
       "      <td>233</td>\n",
       "      <td>42</td>\n",
       "      <td>589</td>\n",
       "      <td>1.02</td>\n",
       "      <td>47.37</td>\n",
       "      <td>4.92</td>\n",
       "      <td>39.56</td>\n",
       "      <td>7.13</td>\n",
       "      <td>1</td>\n",
       "    </tr>\n",
       "    <tr>\n",
       "      <th>1</th>\n",
       "      <td>100013606</td>\n",
       "      <td>1</td>\n",
       "      <td>1</td>\n",
       "      <td>1</td>\n",
       "      <td>2</td>\n",
       "      <td>0</td>\n",
       "      <td>4</td>\n",
       "      <td>1001</td>\n",
       "      <td>1</td>\n",
       "      <td>3</td>\n",
       "      <td>...</td>\n",
       "      <td>29</td>\n",
       "      <td>233</td>\n",
       "      <td>42</td>\n",
       "      <td>589</td>\n",
       "      <td>1.02</td>\n",
       "      <td>47.37</td>\n",
       "      <td>4.92</td>\n",
       "      <td>39.56</td>\n",
       "      <td>7.13</td>\n",
       "      <td>1</td>\n",
       "    </tr>\n",
       "    <tr>\n",
       "      <th>2</th>\n",
       "      <td>100017801</td>\n",
       "      <td>1</td>\n",
       "      <td>0</td>\n",
       "      <td>2</td>\n",
       "      <td>0</td>\n",
       "      <td>0</td>\n",
       "      <td>2</td>\n",
       "      <td>1001</td>\n",
       "      <td>1</td>\n",
       "      <td>3</td>\n",
       "      <td>...</td>\n",
       "      <td>29</td>\n",
       "      <td>233</td>\n",
       "      <td>42</td>\n",
       "      <td>589</td>\n",
       "      <td>1.02</td>\n",
       "      <td>47.37</td>\n",
       "      <td>4.92</td>\n",
       "      <td>39.56</td>\n",
       "      <td>7.13</td>\n",
       "      <td>1</td>\n",
       "    </tr>\n",
       "    <tr>\n",
       "      <th>3</th>\n",
       "      <td>100017802</td>\n",
       "      <td>1</td>\n",
       "      <td>1</td>\n",
       "      <td>1</td>\n",
       "      <td>0</td>\n",
       "      <td>0</td>\n",
       "      <td>2</td>\n",
       "      <td>1001</td>\n",
       "      <td>1</td>\n",
       "      <td>3</td>\n",
       "      <td>...</td>\n",
       "      <td>29</td>\n",
       "      <td>233</td>\n",
       "      <td>42</td>\n",
       "      <td>589</td>\n",
       "      <td>1.02</td>\n",
       "      <td>47.37</td>\n",
       "      <td>4.92</td>\n",
       "      <td>39.56</td>\n",
       "      <td>7.13</td>\n",
       "      <td>1</td>\n",
       "    </tr>\n",
       "    <tr>\n",
       "      <th>4</th>\n",
       "      <td>100017803</td>\n",
       "      <td>1</td>\n",
       "      <td>0</td>\n",
       "      <td>0</td>\n",
       "      <td>1</td>\n",
       "      <td>1</td>\n",
       "      <td>2</td>\n",
       "      <td>1001</td>\n",
       "      <td>1</td>\n",
       "      <td>3</td>\n",
       "      <td>...</td>\n",
       "      <td>29</td>\n",
       "      <td>233</td>\n",
       "      <td>42</td>\n",
       "      <td>589</td>\n",
       "      <td>1.02</td>\n",
       "      <td>47.37</td>\n",
       "      <td>4.92</td>\n",
       "      <td>39.56</td>\n",
       "      <td>7.13</td>\n",
       "      <td>1</td>\n",
       "    </tr>\n",
       "    <tr>\n",
       "      <th>...</th>\n",
       "      <td>...</td>\n",
       "      <td>...</td>\n",
       "      <td>...</td>\n",
       "      <td>...</td>\n",
       "      <td>...</td>\n",
       "      <td>...</td>\n",
       "      <td>...</td>\n",
       "      <td>...</td>\n",
       "      <td>...</td>\n",
       "      <td>...</td>\n",
       "      <td>...</td>\n",
       "      <td>...</td>\n",
       "      <td>...</td>\n",
       "      <td>...</td>\n",
       "      <td>...</td>\n",
       "      <td>...</td>\n",
       "      <td>...</td>\n",
       "      <td>...</td>\n",
       "      <td>...</td>\n",
       "      <td>...</td>\n",
       "      <td>...</td>\n",
       "    </tr>\n",
       "    <tr>\n",
       "      <th>77552</th>\n",
       "      <td>3260770714</td>\n",
       "      <td>1</td>\n",
       "      <td>0</td>\n",
       "      <td>0</td>\n",
       "      <td>0</td>\n",
       "      <td>2</td>\n",
       "      <td>2</td>\n",
       "      <td>32012</td>\n",
       "      <td>4</td>\n",
       "      <td>2</td>\n",
       "      <td>...</td>\n",
       "      <td>0</td>\n",
       "      <td>29</td>\n",
       "      <td>26</td>\n",
       "      <td>55</td>\n",
       "      <td>0.00</td>\n",
       "      <td>0.00</td>\n",
       "      <td>0.00</td>\n",
       "      <td>52.73</td>\n",
       "      <td>47.27</td>\n",
       "      <td>3</td>\n",
       "    </tr>\n",
       "    <tr>\n",
       "      <th>77553</th>\n",
       "      <td>3260770715</td>\n",
       "      <td>1</td>\n",
       "      <td>0</td>\n",
       "      <td>0</td>\n",
       "      <td>0</td>\n",
       "      <td>2</td>\n",
       "      <td>2</td>\n",
       "      <td>32012</td>\n",
       "      <td>4</td>\n",
       "      <td>2</td>\n",
       "      <td>...</td>\n",
       "      <td>0</td>\n",
       "      <td>29</td>\n",
       "      <td>26</td>\n",
       "      <td>55</td>\n",
       "      <td>0.00</td>\n",
       "      <td>0.00</td>\n",
       "      <td>0.00</td>\n",
       "      <td>52.73</td>\n",
       "      <td>47.27</td>\n",
       "      <td>3</td>\n",
       "    </tr>\n",
       "    <tr>\n",
       "      <th>77554</th>\n",
       "      <td>3260770716</td>\n",
       "      <td>1</td>\n",
       "      <td>1</td>\n",
       "      <td>0</td>\n",
       "      <td>2</td>\n",
       "      <td>0</td>\n",
       "      <td>3</td>\n",
       "      <td>32012</td>\n",
       "      <td>4</td>\n",
       "      <td>2</td>\n",
       "      <td>...</td>\n",
       "      <td>0</td>\n",
       "      <td>29</td>\n",
       "      <td>26</td>\n",
       "      <td>55</td>\n",
       "      <td>0.00</td>\n",
       "      <td>0.00</td>\n",
       "      <td>0.00</td>\n",
       "      <td>52.73</td>\n",
       "      <td>47.27</td>\n",
       "      <td>3</td>\n",
       "    </tr>\n",
       "    <tr>\n",
       "      <th>77555</th>\n",
       "      <td>3260770717</td>\n",
       "      <td>1</td>\n",
       "      <td>3</td>\n",
       "      <td>2</td>\n",
       "      <td>2</td>\n",
       "      <td>0</td>\n",
       "      <td>7</td>\n",
       "      <td>32012</td>\n",
       "      <td>4</td>\n",
       "      <td>2</td>\n",
       "      <td>...</td>\n",
       "      <td>0</td>\n",
       "      <td>29</td>\n",
       "      <td>26</td>\n",
       "      <td>55</td>\n",
       "      <td>0.00</td>\n",
       "      <td>0.00</td>\n",
       "      <td>0.00</td>\n",
       "      <td>52.73</td>\n",
       "      <td>47.27</td>\n",
       "      <td>3</td>\n",
       "    </tr>\n",
       "    <tr>\n",
       "      <th>77556</th>\n",
       "      <td>3260770718</td>\n",
       "      <td>1</td>\n",
       "      <td>0</td>\n",
       "      <td>0</td>\n",
       "      <td>2</td>\n",
       "      <td>1</td>\n",
       "      <td>3</td>\n",
       "      <td>32012</td>\n",
       "      <td>4</td>\n",
       "      <td>2</td>\n",
       "      <td>...</td>\n",
       "      <td>0</td>\n",
       "      <td>29</td>\n",
       "      <td>26</td>\n",
       "      <td>55</td>\n",
       "      <td>0.00</td>\n",
       "      <td>0.00</td>\n",
       "      <td>0.00</td>\n",
       "      <td>52.73</td>\n",
       "      <td>47.27</td>\n",
       "      <td>3</td>\n",
       "    </tr>\n",
       "  </tbody>\n",
       "</table>\n",
       "<p>77557 rows × 157 columns</p>\n",
       "</div>"
      ],
      "text/plain": [
       "         folioviv  foliohog  15 o menos  16-29  30-59  60 o mas  numren  \\\n",
       "0       100013605         1           1      1      1         0       3   \n",
       "1       100013606         1           1      1      2         0       4   \n",
       "2       100017801         1           0      2      0         0       2   \n",
       "3       100017802         1           1      1      0         0       2   \n",
       "4       100017803         1           0      0      1         1       2   \n",
       "...           ...       ...         ...    ...    ...       ...     ...   \n",
       "77552  3260770714         1           0      0      0         2       2   \n",
       "77553  3260770715         1           0      0      0         2       2   \n",
       "77554  3260770716         1           1      0      2         0       3   \n",
       "77555  3260770717         1           3      2      2         0       7   \n",
       "77556  3260770718         1           0      0      2         1       3   \n",
       "\n",
       "       ubica_geo  tam_loc  est_socio  ...  LOC_2  LOC_3  LOC_4  LOC_TOTAL  \\\n",
       "0           1001        1          3  ...     29    233     42        589   \n",
       "1           1001        1          3  ...     29    233     42        589   \n",
       "2           1001        1          3  ...     29    233     42        589   \n",
       "3           1001        1          3  ...     29    233     42        589   \n",
       "4           1001        1          3  ...     29    233     42        589   \n",
       "...          ...      ...        ...  ...    ...    ...    ...        ...   \n",
       "77552      32012        4          2  ...      0     29     26         55   \n",
       "77553      32012        4          2  ...      0     29     26         55   \n",
       "77554      32012        4          2  ...      0     29     26         55   \n",
       "77555      32012        4          2  ...      0     29     26         55   \n",
       "77556      32012        4          2  ...      0     29     26         55   \n",
       "\n",
       "       ploc_0  ploc_1  ploc_2  ploc_3  ploc_4  pcu  \n",
       "0        1.02   47.37    4.92   39.56    7.13    1  \n",
       "1        1.02   47.37    4.92   39.56    7.13    1  \n",
       "2        1.02   47.37    4.92   39.56    7.13    1  \n",
       "3        1.02   47.37    4.92   39.56    7.13    1  \n",
       "4        1.02   47.37    4.92   39.56    7.13    1  \n",
       "...       ...     ...     ...     ...     ...  ...  \n",
       "77552    0.00    0.00    0.00   52.73   47.27    3  \n",
       "77553    0.00    0.00    0.00   52.73   47.27    3  \n",
       "77554    0.00    0.00    0.00   52.73   47.27    3  \n",
       "77555    0.00    0.00    0.00   52.73   47.27    3  \n",
       "77556    0.00    0.00    0.00   52.73   47.27    3  \n",
       "\n",
       "[77557 rows x 157 columns]"
      ]
     },
     "execution_count": 21,
     "metadata": {},
     "output_type": "execute_result"
    }
   ],
   "source": [
    "hogares_cu"
   ]
  },
  {
   "cell_type": "code",
   "execution_count": 22,
   "id": "suited-stock",
   "metadata": {},
   "outputs": [],
   "source": [
    "rurales['TT_15 o menos']=round((rurales['T_15 o menos']/rurales['T_numren'])*rurales['pob_aprox'],2)\n",
    "rurales['TT_16-29']=round((rurales['T_16-29']/rurales['T_numren'])*rurales['pob_aprox'],2)\n",
    "rurales['TT_30-59']=round((rurales['T_30-59']/rurales['T_numren'])*rurales['pob_aprox'],2)\n",
    "rurales['TT_60 o mas']=round((rurales['T_60 o mas']/rurales['T_numren'])*rurales['pob_aprox'],2)"
   ]
  },
  {
   "cell_type": "code",
   "execution_count": 23,
   "id": "marked-lending",
   "metadata": {},
   "outputs": [],
   "source": [
    "hogares['TT_15 o menos']=(hogares['T_15 o menos']/hogares['T_numren'])*hogares['pob_aprox']\n",
    "hogares['TT_16-29']=(hogares['T_16-29']/hogares['T_numren'])*hogares['pob_aprox']\n",
    "hogares['TT_30-59']=(hogares['T_30-59']/hogares['T_numren'])*hogares['pob_aprox']\n",
    "hogares['TT_60 o mas']=(hogares['T_60 o mas']/hogares['T_numren'])*hogares['pob_aprox']"
   ]
  },
  {
   "cell_type": "code",
   "execution_count": 24,
   "id": "personalized-wilderness",
   "metadata": {},
   "outputs": [],
   "source": [
    "hogares.to_csv('hogares20_6_5_2022.csv',index=False)\n",
    "rurales.to_csv('rurales20_6_5_2022.csv',index=False)"
   ]
  },
  {
   "cell_type": "code",
   "execution_count": 25,
   "id": "floating-upper",
   "metadata": {},
   "outputs": [
    {
     "data": {
      "text/plain": [
       "array(['folioviv', 'foliohog', '15 o menos', '16-29', '30-59', '60 o mas',\n",
       "       'numren', 'ubica_geo', 'tam_loc', 'est_socio', 'est_dis', 'upm',\n",
       "       'factor', 'clase_hog', 'sexo_jefe', 'edad_jefe', 'educa_jefe',\n",
       "       'tot_integ', 'hombres', 'mujeres', 'mayores', 'menores', 'p12_64',\n",
       "       'p65mas', 'ocupados', 'percep_ing', 'perc_ocupa', 'ing_cor',\n",
       "       'ingtrab', 'trabajo', 'sueldos', 'horas_extr', 'comisiones',\n",
       "       'aguinaldo', 'indemtrab', 'otra_rem', 'remu_espec', 'negocio',\n",
       "       'noagrop', 'industria', 'comercio', 'servicios', 'agrope',\n",
       "       'agricolas', 'pecuarios', 'reproducc', 'pesca', 'otros_trab',\n",
       "       'rentas', 'utilidad', 'arrenda', 'transfer', 'jubilacion', 'becas',\n",
       "       'donativos', 'remesas', 'bene_gob', 'transf_hog', 'trans_inst',\n",
       "       'estim_alqu', 'otros_ing', 'gasto_mon', 'alimentos', 'ali_dentro',\n",
       "       'cereales', 'carnes', 'pescado', 'leche', 'huevo', 'aceites',\n",
       "       'tuberculo', 'verduras', 'frutas', 'azucar', 'cafe', 'especias',\n",
       "       'otros_alim', 'bebidas', 'ali_fuera', 'tabaco', 'vesti_calz',\n",
       "       'vestido', 'calzado', 'vivienda', 'alquiler', 'pred_cons', 'agua',\n",
       "       'energia', 'limpieza', 'cuidados', 'utensilios', 'enseres',\n",
       "       'salud', 'atenc_ambu', 'hospital', 'medicinas', 'transporte',\n",
       "       'publico', 'foraneo', 'adqui_vehi', 'mantenim', 'refaccion',\n",
       "       'combus', 'comunica', 'educa_espa', 'educacion', 'esparci',\n",
       "       'paq_turist', 'personales', 'cuida_pers', 'acces_pers',\n",
       "       'otros_gas', 'transf_gas', 'percep_tot', 'retiro_inv', 'prestamos',\n",
       "       'otras_perc', 'ero_nm_viv', 'ero_nm_hog', 'erogac_tot',\n",
       "       'cuota_viv', 'mater_serv', 'material', 'servicio', 'deposito',\n",
       "       'prest_terc', 'pago_tarje', 'deudas', 'balance', 'otras_erog',\n",
       "       'smg', 'TamLoc', 'entidad', 'desc_ent', 'municipio', 'des_mun',\n",
       "       'Region', 'pob_aprox', 'total_mujeres', 'total_hombres',\n",
       "       'T_15 o menos', 'T_16-29', 'T_30-59', 'T_60 o mas', 'T_numren',\n",
       "       'tipo_hogar', 'TT_15 o menos', 'TT_16-29', 'TT_30-59',\n",
       "       'TT_60 o mas'], dtype=object)"
      ]
     },
     "execution_count": 25,
     "metadata": {},
     "output_type": "execute_result"
    }
   ],
   "source": [
    "rurales.keys().values"
   ]
  },
  {
   "cell_type": "code",
   "execution_count": 26,
   "id": "existing-resort",
   "metadata": {},
   "outputs": [
    {
     "data": {
      "text/plain": [
       "0        Sin ingresos propios\n",
       "1        Sin ingresos propios\n",
       "2        Sin ingresos propios\n",
       "3                         UFR\n",
       "4                         UFR\n",
       "                 ...         \n",
       "30046    Sin ingresos propios\n",
       "30047                     UFR\n",
       "30048    Sin ingresos propios\n",
       "30049    Sin ingresos propios\n",
       "30050    Sin ingresos propios\n",
       "Name: tipo_hogar, Length: 30051, dtype: object"
      ]
     },
     "execution_count": 26,
     "metadata": {},
     "output_type": "execute_result"
    }
   ],
   "source": [
    "rurales.tipo_hogar"
   ]
  },
  {
   "cell_type": "code",
   "execution_count": 28,
   "id": "found-front",
   "metadata": {},
   "outputs": [],
   "source": [
    "linea=read_excel('lineaspobreza2020.xls')"
   ]
  },
  {
   "cell_type": "code",
   "execution_count": 30,
   "id": "whole-antique",
   "metadata": {},
   "outputs": [
    {
     "data": {
      "text/plain": [
       "2485.63"
      ]
     },
     "execution_count": 30,
     "metadata": {},
     "output_type": "execute_result"
    }
   ],
   "source": [
    "linea['LPI rural'][0]"
   ]
  },
  {
   "cell_type": "code",
   "execution_count": 31,
   "id": "diverse-daisy",
   "metadata": {},
   "outputs": [],
   "source": [
    "LPIRURAL=[]\n",
    "for i in linea['LPI rural']:\n",
    "    LPIRURAL.append(i)"
   ]
  },
  {
   "cell_type": "code",
   "execution_count": 32,
   "id": "mexican-ontario",
   "metadata": {},
   "outputs": [],
   "source": [
    "lpi_rural=round(array(LPIRURAL).mean(),2)"
   ]
  },
  {
   "cell_type": "code",
   "execution_count": 33,
   "id": "fundamental-ukraine",
   "metadata": {},
   "outputs": [],
   "source": [
    "LPEIRURAL=[]\n",
    "for i in linea['LPEI rural']:\n",
    "    LPEIRURAL.append(i)"
   ]
  },
  {
   "cell_type": "code",
   "execution_count": 34,
   "id": "juvenile-lightning",
   "metadata": {},
   "outputs": [],
   "source": [
    "lpei_rural=round(array(LPEIRURAL).mean(),2)"
   ]
  },
  {
   "cell_type": "code",
   "execution_count": 35,
   "id": "younger-rendering",
   "metadata": {},
   "outputs": [
    {
     "data": {
      "text/plain": [
       "1.0"
      ]
     },
     "execution_count": 35,
     "metadata": {},
     "output_type": "execute_result"
    }
   ],
   "source": [
    "sign((rurales['ing_cor'][0])/3-lpi_rural)"
   ]
  },
  {
   "cell_type": "code",
   "execution_count": 36,
   "id": "announced-fluid",
   "metadata": {},
   "outputs": [],
   "source": [
    "lpi={'LPI':[]}\n",
    "for i in range(len(rurales)):\n",
    "    if (rurales['ing_cor'][i])/3-lpi_rural > 0:\n",
    "        lpi['LPI'].append('sobre')\n",
    "    else:\n",
    "        lpi['LPI'].append('bajo')\n",
    "    "
   ]
  },
  {
   "cell_type": "code",
   "execution_count": 37,
   "id": "thousand-burst",
   "metadata": {},
   "outputs": [],
   "source": [
    "rurales=rurales.join(DataFrame(lpi))"
   ]
  },
  {
   "cell_type": "code",
   "execution_count": 38,
   "id": "activated-sunrise",
   "metadata": {},
   "outputs": [],
   "source": [
    "lpei={'LPEI':[]}\n",
    "for i in range(len(rurales)):\n",
    "    if (rurales['ing_cor'][i])/3-lpei_rural > 0:\n",
    "        lpei['LPEI'].append('sobre')\n",
    "    else:\n",
    "        lpei['LPEI'].append('bajo')"
   ]
  },
  {
   "cell_type": "code",
   "execution_count": 39,
   "id": "lyric-charity",
   "metadata": {},
   "outputs": [],
   "source": [
    "rurales=rurales.join(DataFrame(lpei))"
   ]
  },
  {
   "cell_type": "code",
   "execution_count": 40,
   "id": "accessible-circus",
   "metadata": {},
   "outputs": [],
   "source": [
    "rurales['tasa ocupacional']=round((rurales['ocupados']/rurales['tot_integ'])*100,2)"
   ]
  },
  {
   "cell_type": "code",
   "execution_count": 41,
   "id": "fifteen-invitation",
   "metadata": {},
   "outputs": [],
   "source": [
    "dic3={'tocupa':[]}\n",
    "for i in range(len(rurales)):\n",
    "    if rurales['tasa ocupacional'][i]<33.:\n",
    "        dic3['tocupa'].append('Baja')\n",
    "    elif rurales['tasa ocupacional'][i]>=33. and rurales['tasa ocupacional'][i]<66.:\n",
    "        dic3['tocupa'].append('Media')\n",
    "    elif rurales['tasa ocupacional'][i]>=66.:\n",
    "        dic3['tocupa'].append('Alta')"
   ]
  },
  {
   "cell_type": "code",
   "execution_count": 42,
   "id": "executed-radius",
   "metadata": {},
   "outputs": [],
   "source": [
    "rurales=rurales.join(DataFrame(dic3))"
   ]
  },
  {
   "cell_type": "code",
   "execution_count": 43,
   "id": "isolated-mirror",
   "metadata": {},
   "outputs": [],
   "source": [
    "rurales.to_csv('rurales20_6_5_2022.csv',index=False)"
   ]
  },
  {
   "cell_type": "code",
   "execution_count": 44,
   "id": "contained-malta",
   "metadata": {},
   "outputs": [],
   "source": [
    "T5=poblacion.filter(['folioviv', 'foliohog', 'sexo', 'etnia']).pivot_table(index=['folioviv','foliohog'],columns='etnia',aggfunc='count').fillna(0).astype('int').droplevel(level=0,axis=1).reset_index()"
   ]
  },
  {
   "cell_type": "code",
   "execution_count": 45,
   "id": "plastic-ireland",
   "metadata": {},
   "outputs": [],
   "source": [
    "T5=T5.rename(columns={'1':'pertenece a etnia','2':'no pertenece a etnia'}).drop(' ' ,axis=1)"
   ]
  },
  {
   "cell_type": "code",
   "execution_count": 46,
   "id": "sweet-volume",
   "metadata": {},
   "outputs": [],
   "source": [
    "rurales=T5.merge(rurales, on=['folioviv','foliohog'])"
   ]
  },
  {
   "cell_type": "code",
   "execution_count": 47,
   "id": "supported-saying",
   "metadata": {},
   "outputs": [],
   "source": [
    "cumun2=[]\n",
    "for i in range(len(cu)):\n",
    "    cumun2.append(max(cu['ploc_0'].loc[i],cu['ploc_1'].loc[i],cu['ploc_2'].loc[i],cu['ploc_3'].loc[i],cu['ploc_4'].loc[i]))"
   ]
  },
  {
   "cell_type": "code",
   "execution_count": null,
   "id": "excellent-distribution",
   "metadata": {},
   "outputs": [],
   "source": []
  },
  {
   "cell_type": "code",
   "execution_count": 107,
   "id": "oriental-insulin",
   "metadata": {},
   "outputs": [],
   "source": [
    "cu['CUmun2']=cumun2"
   ]
  },
  {
   "cell_type": "code",
   "execution_count": 108,
   "id": "satisfactory-tonight",
   "metadata": {},
   "outputs": [
    {
     "data": {
      "text/plain": [
       "0       47.37\n",
       "1       64.88\n",
       "2       38.71\n",
       "3       68.52\n",
       "4       60.43\n",
       "        ...  \n",
       "2451    77.08\n",
       "2452    46.43\n",
       "2453    58.82\n",
       "2454    73.68\n",
       "2455    71.43\n",
       "Name: CUmun2, Length: 2456, dtype: float64"
      ]
     },
     "execution_count": 108,
     "metadata": {},
     "output_type": "execute_result"
    }
   ],
   "source": [
    "cu['CUmun2']"
   ]
  },
  {
   "cell_type": "code",
   "execution_count": 48,
   "id": "powered-diploma",
   "metadata": {},
   "outputs": [],
   "source": [
    "dic={'CUmun':[]}\n",
    "for i in range(len(cu)):\n",
    "    if cu['ploc_0'][i]>=60:\n",
    "        dic['CUmun'].append(0)\n",
    "    elif cu['ploc_1'][i]>=60:\n",
    "        dic['CUmun'].append(1)\n",
    "    elif cu['ploc_2'][i]>=60:\n",
    "        dic['CUmun'].append(2)\n",
    "    elif cu['ploc_3'][i]>=60:\n",
    "        dic['CUmun'].append(3)\n",
    "    elif cu['ploc_4'][i]>=60:\n",
    "        dic['CUmun'].append(4)\n",
    "    else:\n",
    "        dic['CUmun'].append('NA')"
   ]
  },
  {
   "cell_type": "code",
   "execution_count": 49,
   "id": "funny-visit",
   "metadata": {},
   "outputs": [],
   "source": [
    "cu=cu.join(DataFrame(dic))"
   ]
  },
  {
   "cell_type": "code",
   "execution_count": 50,
   "id": "regional-porter",
   "metadata": {},
   "outputs": [],
   "source": [
    "dic2={'CUmun3':[]}\n",
    "for i in range(len(cu)):\n",
    "    if cu['ploc_0'][i]>=50:\n",
    "        dic2['CUmun3'].append(0)\n",
    "    elif cu['ploc_1'][i]>=50:\n",
    "        dic2['CUmun3'].append(1)\n",
    "    elif cu['ploc_2'][i]>=50:\n",
    "        dic2['CUmun3'].append(2)\n",
    "    elif cu['ploc_3'][i]>=50:\n",
    "        dic2['CUmun3'].append(3)\n",
    "    elif cu['ploc_4'][i]>=50:\n",
    "        dic2['CUmun3'].append(4)\n",
    "    else:\n",
    "        dic2['CUmun3'].append('NA')"
   ]
  },
  {
   "cell_type": "code",
   "execution_count": 54,
   "id": "dimensional-diagram",
   "metadata": {},
   "outputs": [
    {
     "ename": "ValueError",
     "evalue": "columns overlap but no suffix specified: Index(['CUmun3'], dtype='object')",
     "output_type": "error",
     "traceback": [
      "\u001b[0;31m---------------------------------------------------------------------------\u001b[0m",
      "\u001b[0;31mValueError\u001b[0m                                Traceback (most recent call last)",
      "\u001b[0;32m<ipython-input-54-339233f567ce>\u001b[0m in \u001b[0;36m<module>\u001b[0;34m\u001b[0m\n\u001b[0;32m----> 1\u001b[0;31m \u001b[0mcu\u001b[0m\u001b[0;34m=\u001b[0m\u001b[0mcu\u001b[0m\u001b[0;34m.\u001b[0m\u001b[0mjoin\u001b[0m\u001b[0;34m(\u001b[0m\u001b[0mDataFrame\u001b[0m\u001b[0;34m(\u001b[0m\u001b[0mdic2\u001b[0m\u001b[0;34m)\u001b[0m\u001b[0;34m)\u001b[0m\u001b[0;34m\u001b[0m\u001b[0;34m\u001b[0m\u001b[0m\n\u001b[0m",
      "\u001b[0;32m/usr/lib/python3/dist-packages/pandas/core/frame.py\u001b[0m in \u001b[0;36mjoin\u001b[0;34m(self, other, on, how, lsuffix, rsuffix, sort)\u001b[0m\n\u001b[1;32m   7872\u001b[0m         \u001b[0;36m5\u001b[0m  \u001b[0mK5\u001b[0m  \u001b[0mA5\u001b[0m  \u001b[0mNaN\u001b[0m\u001b[0;34m\u001b[0m\u001b[0;34m\u001b[0m\u001b[0m\n\u001b[1;32m   7873\u001b[0m         \"\"\"\n\u001b[0;32m-> 7874\u001b[0;31m         return self._join_compat(\n\u001b[0m\u001b[1;32m   7875\u001b[0m             \u001b[0mother\u001b[0m\u001b[0;34m,\u001b[0m \u001b[0mon\u001b[0m\u001b[0;34m=\u001b[0m\u001b[0mon\u001b[0m\u001b[0;34m,\u001b[0m \u001b[0mhow\u001b[0m\u001b[0;34m=\u001b[0m\u001b[0mhow\u001b[0m\u001b[0;34m,\u001b[0m \u001b[0mlsuffix\u001b[0m\u001b[0;34m=\u001b[0m\u001b[0mlsuffix\u001b[0m\u001b[0;34m,\u001b[0m \u001b[0mrsuffix\u001b[0m\u001b[0;34m=\u001b[0m\u001b[0mrsuffix\u001b[0m\u001b[0;34m,\u001b[0m \u001b[0msort\u001b[0m\u001b[0;34m=\u001b[0m\u001b[0msort\u001b[0m\u001b[0;34m\u001b[0m\u001b[0;34m\u001b[0m\u001b[0m\n\u001b[1;32m   7876\u001b[0m         )\n",
      "\u001b[0;32m/usr/lib/python3/dist-packages/pandas/core/frame.py\u001b[0m in \u001b[0;36m_join_compat\u001b[0;34m(self, other, on, how, lsuffix, rsuffix, sort)\u001b[0m\n\u001b[1;32m   7888\u001b[0m \u001b[0;34m\u001b[0m\u001b[0m\n\u001b[1;32m   7889\u001b[0m         \u001b[0;32mif\u001b[0m \u001b[0misinstance\u001b[0m\u001b[0;34m(\u001b[0m\u001b[0mother\u001b[0m\u001b[0;34m,\u001b[0m \u001b[0mDataFrame\u001b[0m\u001b[0;34m)\u001b[0m\u001b[0;34m:\u001b[0m\u001b[0;34m\u001b[0m\u001b[0;34m\u001b[0m\u001b[0m\n\u001b[0;32m-> 7890\u001b[0;31m             return merge(\n\u001b[0m\u001b[1;32m   7891\u001b[0m                 \u001b[0mself\u001b[0m\u001b[0;34m,\u001b[0m\u001b[0;34m\u001b[0m\u001b[0;34m\u001b[0m\u001b[0m\n\u001b[1;32m   7892\u001b[0m                 \u001b[0mother\u001b[0m\u001b[0;34m,\u001b[0m\u001b[0;34m\u001b[0m\u001b[0;34m\u001b[0m\u001b[0m\n",
      "\u001b[0;32m/usr/lib/python3/dist-packages/pandas/core/reshape/merge.py\u001b[0m in \u001b[0;36mmerge\u001b[0;34m(left, right, how, on, left_on, right_on, left_index, right_index, sort, suffixes, copy, indicator, validate)\u001b[0m\n\u001b[1;32m     87\u001b[0m         \u001b[0mvalidate\u001b[0m\u001b[0;34m=\u001b[0m\u001b[0mvalidate\u001b[0m\u001b[0;34m,\u001b[0m\u001b[0;34m\u001b[0m\u001b[0;34m\u001b[0m\u001b[0m\n\u001b[1;32m     88\u001b[0m     )\n\u001b[0;32m---> 89\u001b[0;31m     \u001b[0;32mreturn\u001b[0m \u001b[0mop\u001b[0m\u001b[0;34m.\u001b[0m\u001b[0mget_result\u001b[0m\u001b[0;34m(\u001b[0m\u001b[0;34m)\u001b[0m\u001b[0;34m\u001b[0m\u001b[0;34m\u001b[0m\u001b[0m\n\u001b[0m\u001b[1;32m     90\u001b[0m \u001b[0;34m\u001b[0m\u001b[0m\n\u001b[1;32m     91\u001b[0m \u001b[0;34m\u001b[0m\u001b[0m\n",
      "\u001b[0;32m/usr/lib/python3/dist-packages/pandas/core/reshape/merge.py\u001b[0m in \u001b[0;36mget_result\u001b[0;34m(self)\u001b[0m\n\u001b[1;32m    668\u001b[0m         \u001b[0mjoin_index\u001b[0m\u001b[0;34m,\u001b[0m \u001b[0mleft_indexer\u001b[0m\u001b[0;34m,\u001b[0m \u001b[0mright_indexer\u001b[0m \u001b[0;34m=\u001b[0m \u001b[0mself\u001b[0m\u001b[0;34m.\u001b[0m\u001b[0m_get_join_info\u001b[0m\u001b[0;34m(\u001b[0m\u001b[0;34m)\u001b[0m\u001b[0;34m\u001b[0m\u001b[0;34m\u001b[0m\u001b[0m\n\u001b[1;32m    669\u001b[0m \u001b[0;34m\u001b[0m\u001b[0m\n\u001b[0;32m--> 670\u001b[0;31m         llabels, rlabels = _items_overlap_with_suffix(\n\u001b[0m\u001b[1;32m    671\u001b[0m             \u001b[0mself\u001b[0m\u001b[0;34m.\u001b[0m\u001b[0mleft\u001b[0m\u001b[0;34m.\u001b[0m\u001b[0m_info_axis\u001b[0m\u001b[0;34m,\u001b[0m \u001b[0mself\u001b[0m\u001b[0;34m.\u001b[0m\u001b[0mright\u001b[0m\u001b[0;34m.\u001b[0m\u001b[0m_info_axis\u001b[0m\u001b[0;34m,\u001b[0m \u001b[0mself\u001b[0m\u001b[0;34m.\u001b[0m\u001b[0msuffixes\u001b[0m\u001b[0;34m\u001b[0m\u001b[0;34m\u001b[0m\u001b[0m\n\u001b[1;32m    672\u001b[0m         )\n",
      "\u001b[0;32m/usr/lib/python3/dist-packages/pandas/core/reshape/merge.py\u001b[0m in \u001b[0;36m_items_overlap_with_suffix\u001b[0;34m(left, right, suffixes)\u001b[0m\n\u001b[1;32m   2094\u001b[0m \u001b[0;34m\u001b[0m\u001b[0m\n\u001b[1;32m   2095\u001b[0m     \u001b[0;32mif\u001b[0m \u001b[0;32mnot\u001b[0m \u001b[0mlsuffix\u001b[0m \u001b[0;32mand\u001b[0m \u001b[0;32mnot\u001b[0m \u001b[0mrsuffix\u001b[0m\u001b[0;34m:\u001b[0m\u001b[0;34m\u001b[0m\u001b[0;34m\u001b[0m\u001b[0m\n\u001b[0;32m-> 2096\u001b[0;31m         \u001b[0;32mraise\u001b[0m \u001b[0mValueError\u001b[0m\u001b[0;34m(\u001b[0m\u001b[0;34mf\"columns overlap but no suffix specified: {to_rename}\"\u001b[0m\u001b[0;34m)\u001b[0m\u001b[0;34m\u001b[0m\u001b[0;34m\u001b[0m\u001b[0m\n\u001b[0m\u001b[1;32m   2097\u001b[0m \u001b[0;34m\u001b[0m\u001b[0m\n\u001b[1;32m   2098\u001b[0m     \u001b[0;32mdef\u001b[0m \u001b[0mrenamer\u001b[0m\u001b[0;34m(\u001b[0m\u001b[0mx\u001b[0m\u001b[0;34m,\u001b[0m \u001b[0msuffix\u001b[0m\u001b[0;34m)\u001b[0m\u001b[0;34m:\u001b[0m\u001b[0;34m\u001b[0m\u001b[0;34m\u001b[0m\u001b[0m\n",
      "\u001b[0;31mValueError\u001b[0m: columns overlap but no suffix specified: Index(['CUmun3'], dtype='object')"
     ]
    }
   ],
   "source": [
    "cu=cu.join(DataFrame(dic2))"
   ]
  },
  {
   "cell_type": "code",
   "execution_count": 53,
   "id": "juvenile-garlic",
   "metadata": {},
   "outputs": [
    {
     "ename": "KeyError",
     "evalue": "\"['CUmun2'] not found in axis\"",
     "output_type": "error",
     "traceback": [
      "\u001b[0;31m---------------------------------------------------------------------------\u001b[0m",
      "\u001b[0;31mKeyError\u001b[0m                                  Traceback (most recent call last)",
      "\u001b[0;32m<ipython-input-53-31b53ef8b9a5>\u001b[0m in \u001b[0;36m<module>\u001b[0;34m\u001b[0m\n\u001b[0;32m----> 1\u001b[0;31m \u001b[0mcu\u001b[0m\u001b[0;34m=\u001b[0m\u001b[0mcu\u001b[0m\u001b[0;34m.\u001b[0m\u001b[0mdrop\u001b[0m\u001b[0;34m(\u001b[0m\u001b[0;34m'CUmun2'\u001b[0m\u001b[0;34m,\u001b[0m\u001b[0maxis\u001b[0m\u001b[0;34m=\u001b[0m\u001b[0;36m1\u001b[0m\u001b[0;34m)\u001b[0m\u001b[0;34m\u001b[0m\u001b[0;34m\u001b[0m\u001b[0m\n\u001b[0m",
      "\u001b[0;32m/usr/lib/python3/dist-packages/pandas/core/frame.py\u001b[0m in \u001b[0;36mdrop\u001b[0;34m(self, labels, axis, index, columns, level, inplace, errors)\u001b[0m\n\u001b[1;32m   4165\u001b[0m                 \u001b[0mweight\u001b[0m  \u001b[0;36m1.0\u001b[0m     \u001b[0;36m0.8\u001b[0m\u001b[0;34m\u001b[0m\u001b[0;34m\u001b[0m\u001b[0m\n\u001b[1;32m   4166\u001b[0m         \"\"\"\n\u001b[0;32m-> 4167\u001b[0;31m         return super().drop(\n\u001b[0m\u001b[1;32m   4168\u001b[0m             \u001b[0mlabels\u001b[0m\u001b[0;34m=\u001b[0m\u001b[0mlabels\u001b[0m\u001b[0;34m,\u001b[0m\u001b[0;34m\u001b[0m\u001b[0;34m\u001b[0m\u001b[0m\n\u001b[1;32m   4169\u001b[0m             \u001b[0maxis\u001b[0m\u001b[0;34m=\u001b[0m\u001b[0maxis\u001b[0m\u001b[0;34m,\u001b[0m\u001b[0;34m\u001b[0m\u001b[0;34m\u001b[0m\u001b[0m\n",
      "\u001b[0;32m/usr/lib/python3/dist-packages/pandas/core/generic.py\u001b[0m in \u001b[0;36mdrop\u001b[0;34m(self, labels, axis, index, columns, level, inplace, errors)\u001b[0m\n\u001b[1;32m   3887\u001b[0m         \u001b[0;32mfor\u001b[0m \u001b[0maxis\u001b[0m\u001b[0;34m,\u001b[0m \u001b[0mlabels\u001b[0m \u001b[0;32min\u001b[0m \u001b[0maxes\u001b[0m\u001b[0;34m.\u001b[0m\u001b[0mitems\u001b[0m\u001b[0;34m(\u001b[0m\u001b[0;34m)\u001b[0m\u001b[0;34m:\u001b[0m\u001b[0;34m\u001b[0m\u001b[0;34m\u001b[0m\u001b[0m\n\u001b[1;32m   3888\u001b[0m             \u001b[0;32mif\u001b[0m \u001b[0mlabels\u001b[0m \u001b[0;32mis\u001b[0m \u001b[0;32mnot\u001b[0m \u001b[0;32mNone\u001b[0m\u001b[0;34m:\u001b[0m\u001b[0;34m\u001b[0m\u001b[0;34m\u001b[0m\u001b[0m\n\u001b[0;32m-> 3889\u001b[0;31m                 \u001b[0mobj\u001b[0m \u001b[0;34m=\u001b[0m \u001b[0mobj\u001b[0m\u001b[0;34m.\u001b[0m\u001b[0m_drop_axis\u001b[0m\u001b[0;34m(\u001b[0m\u001b[0mlabels\u001b[0m\u001b[0;34m,\u001b[0m \u001b[0maxis\u001b[0m\u001b[0;34m,\u001b[0m \u001b[0mlevel\u001b[0m\u001b[0;34m=\u001b[0m\u001b[0mlevel\u001b[0m\u001b[0;34m,\u001b[0m \u001b[0merrors\u001b[0m\u001b[0;34m=\u001b[0m\u001b[0merrors\u001b[0m\u001b[0;34m)\u001b[0m\u001b[0;34m\u001b[0m\u001b[0;34m\u001b[0m\u001b[0m\n\u001b[0m\u001b[1;32m   3890\u001b[0m \u001b[0;34m\u001b[0m\u001b[0m\n\u001b[1;32m   3891\u001b[0m         \u001b[0;32mif\u001b[0m \u001b[0minplace\u001b[0m\u001b[0;34m:\u001b[0m\u001b[0;34m\u001b[0m\u001b[0;34m\u001b[0m\u001b[0m\n",
      "\u001b[0;32m/usr/lib/python3/dist-packages/pandas/core/generic.py\u001b[0m in \u001b[0;36m_drop_axis\u001b[0;34m(self, labels, axis, level, errors)\u001b[0m\n\u001b[1;32m   3921\u001b[0m                 \u001b[0mnew_axis\u001b[0m \u001b[0;34m=\u001b[0m \u001b[0maxis\u001b[0m\u001b[0;34m.\u001b[0m\u001b[0mdrop\u001b[0m\u001b[0;34m(\u001b[0m\u001b[0mlabels\u001b[0m\u001b[0;34m,\u001b[0m \u001b[0mlevel\u001b[0m\u001b[0;34m=\u001b[0m\u001b[0mlevel\u001b[0m\u001b[0;34m,\u001b[0m \u001b[0merrors\u001b[0m\u001b[0;34m=\u001b[0m\u001b[0merrors\u001b[0m\u001b[0;34m)\u001b[0m\u001b[0;34m\u001b[0m\u001b[0;34m\u001b[0m\u001b[0m\n\u001b[1;32m   3922\u001b[0m             \u001b[0;32melse\u001b[0m\u001b[0;34m:\u001b[0m\u001b[0;34m\u001b[0m\u001b[0;34m\u001b[0m\u001b[0m\n\u001b[0;32m-> 3923\u001b[0;31m                 \u001b[0mnew_axis\u001b[0m \u001b[0;34m=\u001b[0m \u001b[0maxis\u001b[0m\u001b[0;34m.\u001b[0m\u001b[0mdrop\u001b[0m\u001b[0;34m(\u001b[0m\u001b[0mlabels\u001b[0m\u001b[0;34m,\u001b[0m \u001b[0merrors\u001b[0m\u001b[0;34m=\u001b[0m\u001b[0merrors\u001b[0m\u001b[0;34m)\u001b[0m\u001b[0;34m\u001b[0m\u001b[0;34m\u001b[0m\u001b[0m\n\u001b[0m\u001b[1;32m   3924\u001b[0m             \u001b[0mresult\u001b[0m \u001b[0;34m=\u001b[0m \u001b[0mself\u001b[0m\u001b[0;34m.\u001b[0m\u001b[0mreindex\u001b[0m\u001b[0;34m(\u001b[0m\u001b[0;34m**\u001b[0m\u001b[0;34m{\u001b[0m\u001b[0maxis_name\u001b[0m\u001b[0;34m:\u001b[0m \u001b[0mnew_axis\u001b[0m\u001b[0;34m}\u001b[0m\u001b[0;34m)\u001b[0m\u001b[0;34m\u001b[0m\u001b[0;34m\u001b[0m\u001b[0m\n\u001b[1;32m   3925\u001b[0m \u001b[0;34m\u001b[0m\u001b[0m\n",
      "\u001b[0;32m/usr/lib/python3/dist-packages/pandas/core/indexes/base.py\u001b[0m in \u001b[0;36mdrop\u001b[0;34m(self, labels, errors)\u001b[0m\n\u001b[1;32m   5285\u001b[0m         \u001b[0;32mif\u001b[0m \u001b[0mmask\u001b[0m\u001b[0;34m.\u001b[0m\u001b[0many\u001b[0m\u001b[0;34m(\u001b[0m\u001b[0;34m)\u001b[0m\u001b[0;34m:\u001b[0m\u001b[0;34m\u001b[0m\u001b[0;34m\u001b[0m\u001b[0m\n\u001b[1;32m   5286\u001b[0m             \u001b[0;32mif\u001b[0m \u001b[0merrors\u001b[0m \u001b[0;34m!=\u001b[0m \u001b[0;34m\"ignore\"\u001b[0m\u001b[0;34m:\u001b[0m\u001b[0;34m\u001b[0m\u001b[0;34m\u001b[0m\u001b[0m\n\u001b[0;32m-> 5287\u001b[0;31m                 \u001b[0;32mraise\u001b[0m \u001b[0mKeyError\u001b[0m\u001b[0;34m(\u001b[0m\u001b[0;34mf\"{labels[mask]} not found in axis\"\u001b[0m\u001b[0;34m)\u001b[0m\u001b[0;34m\u001b[0m\u001b[0;34m\u001b[0m\u001b[0m\n\u001b[0m\u001b[1;32m   5288\u001b[0m             \u001b[0mindexer\u001b[0m \u001b[0;34m=\u001b[0m \u001b[0mindexer\u001b[0m\u001b[0;34m[\u001b[0m\u001b[0;34m~\u001b[0m\u001b[0mmask\u001b[0m\u001b[0;34m]\u001b[0m\u001b[0;34m\u001b[0m\u001b[0;34m\u001b[0m\u001b[0m\n\u001b[1;32m   5289\u001b[0m         \u001b[0;32mreturn\u001b[0m \u001b[0mself\u001b[0m\u001b[0;34m.\u001b[0m\u001b[0mdelete\u001b[0m\u001b[0;34m(\u001b[0m\u001b[0mindexer\u001b[0m\u001b[0;34m)\u001b[0m\u001b[0;34m\u001b[0m\u001b[0;34m\u001b[0m\u001b[0m\n",
      "\u001b[0;31mKeyError\u001b[0m: \"['CUmun2'] not found in axis\""
     ]
    }
   ],
   "source": [
    "cu=cu.drop('CUmun2',axis=1)"
   ]
  },
  {
   "cell_type": "code",
   "execution_count": 55,
   "id": "unknown-brunswick",
   "metadata": {},
   "outputs": [],
   "source": [
    "dic3={'CUmun2':[]}\n",
    "for i in range(len(cu)):\n",
    "    if max(cu['ploc_0'][i],cu['ploc_1'][i],cu['ploc_2'][i],cu['ploc_3'][i],cu['ploc_4'][i])==cu['ploc_0'][i]:\n",
    "        dic3['CUmun2'].append(0)\n",
    "    elif max(cu['ploc_0'][i],cu['ploc_1'][i],cu['ploc_2'][i],cu['ploc_3'][i],cu['ploc_4'][i])==cu['ploc_1'][i]:\n",
    "        dic3['CUmun2'].append(1)\n",
    "    elif max(cu['ploc_0'][i],cu['ploc_1'][i],cu['ploc_2'][i],cu['ploc_3'][i],cu['ploc_4'][i])==cu['ploc_2'][i]:\n",
    "        dic3['CUmun2'].append(2)\n",
    "    elif max(cu['ploc_0'][i],cu['ploc_1'][i],cu['ploc_2'][i],cu['ploc_3'][i],cu['ploc_4'][i])==cu['ploc_3'][i]:\n",
    "        dic3['CUmun2'].append(3)\n",
    "    else:\n",
    "        dic3['CUmun2'].append(4)"
   ]
  },
  {
   "cell_type": "code",
   "execution_count": 56,
   "id": "considerable-knock",
   "metadata": {},
   "outputs": [],
   "source": [
    "cu=cu.join(DataFrame(dic3))"
   ]
  },
  {
   "cell_type": "code",
   "execution_count": 57,
   "id": "radio-nothing",
   "metadata": {},
   "outputs": [],
   "source": [
    "rurales=rurales.merge(cu.filter(['ubica_geo','CUmun','CUmun2','CUmun3']),on='ubica_geo')"
   ]
  },
  {
   "cell_type": "code",
   "execution_count": 128,
   "id": "equipped-presence",
   "metadata": {},
   "outputs": [
    {
     "data": {
      "text/plain": [
       "219      3\n",
       "220      3\n",
       "221      3\n",
       "222      3\n",
       "223      3\n",
       "        ..\n",
       "29890    4\n",
       "29891    4\n",
       "29892    4\n",
       "29893    4\n",
       "29894    4\n",
       "Name: CUmun, Length: 11111, dtype: object"
      ]
     },
     "execution_count": 128,
     "metadata": {},
     "output_type": "execute_result"
    }
   ],
   "source": [
    "rurales.CUmun.loc[rurales['CUmun']!='NA']"
   ]
  },
  {
   "cell_type": "code",
   "execution_count": 61,
   "id": "human-punishment",
   "metadata": {},
   "outputs": [],
   "source": [
    "rurales.to_csv('rurales20_6_5_2022.csv',index=False)"
   ]
  },
  {
   "cell_type": "code",
   "execution_count": 2,
   "id": "atmospheric-conviction",
   "metadata": {},
   "outputs": [],
   "source": [
    "rurales=read_csv('rurales20_6_5_2022.csv')"
   ]
  },
  {
   "cell_type": "code",
   "execution_count": 59,
   "id": "architectural-england",
   "metadata": {},
   "outputs": [],
   "source": [
    "LineasPobreza=[]\n",
    "for i in range(len(rurales)):\n",
    "    if rurales.LPEI[i]=='bajo':\n",
    "        LineasPobreza.append('bajo')\n",
    "    elif rurales.LPEI[i]=='sobre':\n",
    "        if rurales.LPI[i]=='bajo':\n",
    "            LineasPobreza.append('entre lineas')\n",
    "        else:\n",
    "            LineasPobreza.append('sobre')"
   ]
  },
  {
   "cell_type": "code",
   "execution_count": 60,
   "id": "infectious-opera",
   "metadata": {},
   "outputs": [],
   "source": [
    "rurales['LP']=LineasPobreza"
   ]
  },
  {
   "cell_type": "code",
   "execution_count": 17,
   "id": "cultural-pursuit",
   "metadata": {},
   "outputs": [
    {
     "name": "stderr",
     "output_type": "stream",
     "text": [
      "Matplotlib is building the font cache; this may take a moment.\n"
     ]
    },
    {
     "ename": "TypeError",
     "evalue": "no numeric data to plot",
     "output_type": "error",
     "traceback": [
      "\u001b[0;31m---------------------------------------------------------------------------\u001b[0m",
      "\u001b[0;31mTypeError\u001b[0m                                 Traceback (most recent call last)",
      "\u001b[0;32m<ipython-input-17-fcc658f946f6>\u001b[0m in \u001b[0;36m<module>\u001b[0;34m\u001b[0m\n\u001b[0;32m----> 1\u001b[0;31m \u001b[0mrurales\u001b[0m\u001b[0;34m.\u001b[0m\u001b[0mfilter\u001b[0m\u001b[0;34m(\u001b[0m\u001b[0;34m[\u001b[0m\u001b[0;34m'LP'\u001b[0m\u001b[0;34m,\u001b[0m\u001b[0;34m'LPI'\u001b[0m\u001b[0;34m,\u001b[0m\u001b[0;34m'LPEI'\u001b[0m\u001b[0;34m]\u001b[0m\u001b[0;34m)\u001b[0m\u001b[0;34m.\u001b[0m\u001b[0mplot\u001b[0m\u001b[0;34m(\u001b[0m\u001b[0;34m)\u001b[0m\u001b[0;34m\u001b[0m\u001b[0;34m\u001b[0m\u001b[0m\n\u001b[0m",
      "\u001b[0;32m/usr/lib/python3/dist-packages/pandas/plotting/_core.py\u001b[0m in \u001b[0;36m__call__\u001b[0;34m(self, *args, **kwargs)\u001b[0m\n\u001b[1;32m    947\u001b[0m                     \u001b[0mdata\u001b[0m\u001b[0;34m.\u001b[0m\u001b[0mcolumns\u001b[0m \u001b[0;34m=\u001b[0m \u001b[0mlabel_name\u001b[0m\u001b[0;34m\u001b[0m\u001b[0;34m\u001b[0m\u001b[0m\n\u001b[1;32m    948\u001b[0m \u001b[0;34m\u001b[0m\u001b[0m\n\u001b[0;32m--> 949\u001b[0;31m         \u001b[0;32mreturn\u001b[0m \u001b[0mplot_backend\u001b[0m\u001b[0;34m.\u001b[0m\u001b[0mplot\u001b[0m\u001b[0;34m(\u001b[0m\u001b[0mdata\u001b[0m\u001b[0;34m,\u001b[0m \u001b[0mkind\u001b[0m\u001b[0;34m=\u001b[0m\u001b[0mkind\u001b[0m\u001b[0;34m,\u001b[0m \u001b[0;34m**\u001b[0m\u001b[0mkwargs\u001b[0m\u001b[0;34m)\u001b[0m\u001b[0;34m\u001b[0m\u001b[0;34m\u001b[0m\u001b[0m\n\u001b[0m\u001b[1;32m    950\u001b[0m \u001b[0;34m\u001b[0m\u001b[0m\n\u001b[1;32m    951\u001b[0m     \u001b[0m__call__\u001b[0m\u001b[0;34m.\u001b[0m\u001b[0m__doc__\u001b[0m \u001b[0;34m=\u001b[0m \u001b[0m__doc__\u001b[0m\u001b[0;34m\u001b[0m\u001b[0;34m\u001b[0m\u001b[0m\n",
      "\u001b[0;32m/usr/lib/python3/dist-packages/pandas/plotting/_matplotlib/__init__.py\u001b[0m in \u001b[0;36mplot\u001b[0;34m(data, kind, **kwargs)\u001b[0m\n\u001b[1;32m     59\u001b[0m             \u001b[0mkwargs\u001b[0m\u001b[0;34m[\u001b[0m\u001b[0;34m\"ax\"\u001b[0m\u001b[0;34m]\u001b[0m \u001b[0;34m=\u001b[0m \u001b[0mgetattr\u001b[0m\u001b[0;34m(\u001b[0m\u001b[0max\u001b[0m\u001b[0;34m,\u001b[0m \u001b[0;34m\"left_ax\"\u001b[0m\u001b[0;34m,\u001b[0m \u001b[0max\u001b[0m\u001b[0;34m)\u001b[0m\u001b[0;34m\u001b[0m\u001b[0;34m\u001b[0m\u001b[0m\n\u001b[1;32m     60\u001b[0m     \u001b[0mplot_obj\u001b[0m \u001b[0;34m=\u001b[0m \u001b[0mPLOT_CLASSES\u001b[0m\u001b[0;34m[\u001b[0m\u001b[0mkind\u001b[0m\u001b[0;34m]\u001b[0m\u001b[0;34m(\u001b[0m\u001b[0mdata\u001b[0m\u001b[0;34m,\u001b[0m \u001b[0;34m**\u001b[0m\u001b[0mkwargs\u001b[0m\u001b[0;34m)\u001b[0m\u001b[0;34m\u001b[0m\u001b[0;34m\u001b[0m\u001b[0m\n\u001b[0;32m---> 61\u001b[0;31m     \u001b[0mplot_obj\u001b[0m\u001b[0;34m.\u001b[0m\u001b[0mgenerate\u001b[0m\u001b[0;34m(\u001b[0m\u001b[0;34m)\u001b[0m\u001b[0;34m\u001b[0m\u001b[0;34m\u001b[0m\u001b[0m\n\u001b[0m\u001b[1;32m     62\u001b[0m     \u001b[0mplot_obj\u001b[0m\u001b[0;34m.\u001b[0m\u001b[0mdraw\u001b[0m\u001b[0;34m(\u001b[0m\u001b[0;34m)\u001b[0m\u001b[0;34m\u001b[0m\u001b[0;34m\u001b[0m\u001b[0m\n\u001b[1;32m     63\u001b[0m     \u001b[0;32mreturn\u001b[0m \u001b[0mplot_obj\u001b[0m\u001b[0;34m.\u001b[0m\u001b[0mresult\u001b[0m\u001b[0;34m\u001b[0m\u001b[0;34m\u001b[0m\u001b[0m\n",
      "\u001b[0;32m/usr/lib/python3/dist-packages/pandas/plotting/_matplotlib/core.py\u001b[0m in \u001b[0;36mgenerate\u001b[0;34m(self)\u001b[0m\n\u001b[1;32m    267\u001b[0m     \u001b[0;32mdef\u001b[0m \u001b[0mgenerate\u001b[0m\u001b[0;34m(\u001b[0m\u001b[0mself\u001b[0m\u001b[0;34m)\u001b[0m\u001b[0;34m:\u001b[0m\u001b[0;34m\u001b[0m\u001b[0;34m\u001b[0m\u001b[0m\n\u001b[1;32m    268\u001b[0m         \u001b[0mself\u001b[0m\u001b[0;34m.\u001b[0m\u001b[0m_args_adjust\u001b[0m\u001b[0;34m(\u001b[0m\u001b[0;34m)\u001b[0m\u001b[0;34m\u001b[0m\u001b[0;34m\u001b[0m\u001b[0m\n\u001b[0;32m--> 269\u001b[0;31m         \u001b[0mself\u001b[0m\u001b[0;34m.\u001b[0m\u001b[0m_compute_plot_data\u001b[0m\u001b[0;34m(\u001b[0m\u001b[0;34m)\u001b[0m\u001b[0;34m\u001b[0m\u001b[0;34m\u001b[0m\u001b[0m\n\u001b[0m\u001b[1;32m    270\u001b[0m         \u001b[0mself\u001b[0m\u001b[0;34m.\u001b[0m\u001b[0m_setup_subplots\u001b[0m\u001b[0;34m(\u001b[0m\u001b[0;34m)\u001b[0m\u001b[0;34m\u001b[0m\u001b[0;34m\u001b[0m\u001b[0m\n\u001b[1;32m    271\u001b[0m         \u001b[0mself\u001b[0m\u001b[0;34m.\u001b[0m\u001b[0m_make_plot\u001b[0m\u001b[0;34m(\u001b[0m\u001b[0;34m)\u001b[0m\u001b[0;34m\u001b[0m\u001b[0;34m\u001b[0m\u001b[0m\n",
      "\u001b[0;32m/usr/lib/python3/dist-packages/pandas/plotting/_matplotlib/core.py\u001b[0m in \u001b[0;36m_compute_plot_data\u001b[0;34m(self)\u001b[0m\n\u001b[1;32m    416\u001b[0m         \u001b[0;31m# no non-numeric frames or series allowed\u001b[0m\u001b[0;34m\u001b[0m\u001b[0;34m\u001b[0m\u001b[0;34m\u001b[0m\u001b[0m\n\u001b[1;32m    417\u001b[0m         \u001b[0;32mif\u001b[0m \u001b[0mis_empty\u001b[0m\u001b[0;34m:\u001b[0m\u001b[0;34m\u001b[0m\u001b[0;34m\u001b[0m\u001b[0m\n\u001b[0;32m--> 418\u001b[0;31m             \u001b[0;32mraise\u001b[0m \u001b[0mTypeError\u001b[0m\u001b[0;34m(\u001b[0m\u001b[0;34m\"no numeric data to plot\"\u001b[0m\u001b[0;34m)\u001b[0m\u001b[0;34m\u001b[0m\u001b[0;34m\u001b[0m\u001b[0m\n\u001b[0m\u001b[1;32m    419\u001b[0m \u001b[0;34m\u001b[0m\u001b[0m\n\u001b[1;32m    420\u001b[0m         \u001b[0;31m# GH25587: cast ExtensionArray of pandas (IntegerArray, etc.) to\u001b[0m\u001b[0;34m\u001b[0m\u001b[0;34m\u001b[0m\u001b[0;34m\u001b[0m\u001b[0m\n",
      "\u001b[0;31mTypeError\u001b[0m: no numeric data to plot"
     ]
    }
   ],
   "source": [
    "rurales.filter(['LP','LPI','LPEI']).plot()"
   ]
  },
  {
   "cell_type": "code",
   "execution_count": 18,
   "id": "previous-motorcycle",
   "metadata": {},
   "outputs": [],
   "source": [
    "rurales.to_csv('rurales20_6_5_2022.csv',index=False)"
   ]
  },
  {
   "cell_type": "code",
   "execution_count": null,
   "id": "billion-conditioning",
   "metadata": {},
   "outputs": [],
   "source": []
  }
 ],
 "metadata": {
  "kernelspec": {
   "display_name": "Python 3",
   "language": "python",
   "name": "python3"
  },
  "language_info": {
   "codemirror_mode": {
    "name": "ipython",
    "version": 3
   },
   "file_extension": ".py",
   "mimetype": "text/x-python",
   "name": "python",
   "nbconvert_exporter": "python",
   "pygments_lexer": "ipython3",
   "version": "3.9.2"
  }
 },
 "nbformat": 4,
 "nbformat_minor": 5
}
