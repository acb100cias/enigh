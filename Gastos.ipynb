{
 "cells": [
  {
   "cell_type": "code",
   "execution_count": 1,
   "metadata": {},
   "outputs": [],
   "source": [
    "import bamboolib as bam\n",
    "import pandas as pd"
   ]
  },
  {
   "cell_type": "code",
   "execution_count": 2,
   "metadata": {},
   "outputs": [],
   "source": [
    "data=pd.read_csv('rurales_cuMun_26_8_2021.csv').drop('Unnamed: 0',axis=1)"
   ]
  },
  {
   "cell_type": "code",
   "execution_count": 3,
   "metadata": {},
   "outputs": [],
   "source": [
    "COMPLETA=pd.read_csv('./conjunto_de_datos_enigh_2018_ns_csv/conjunto_de_datos_concentradohogar_enigh_2018_ns/conjunto_de_datos/conjunto_de_datos_concentradohogar_enigh_2018_ns.csv')\n"
   ]
  },
  {
   "cell_type": "code",
   "execution_count": 4,
   "metadata": {},
   "outputs": [],
   "source": [
    "gasto_hogar=pd.read_csv('./conjunto_de_datos_enigh_2018_ns_csv/conjunto_de_datos_gastoshogar_enigh_2018_ns/conjunto_de_datos/conjunto_de_datos_gastoshogar_enigh_2018_ns.csv')"
   ]
  },
  {
   "cell_type": "code",
   "execution_count": 5,
   "metadata": {},
   "outputs": [],
   "source": [
    "GH=gasto_hogar.filter(['folioviv','foliohog','clave','gasto'])"
   ]
  },
  {
   "cell_type": "code",
   "execution_count": 6,
   "metadata": {},
   "outputs": [],
   "source": [
    "TEL_INTER_COM=GH[GH['clave'].isin(['R005','R006'])]#,'R007','R008','R009','R010','R011'])]"
   ]
  },
  {
   "cell_type": "code",
   "execution_count": 7,
   "metadata": {},
   "outputs": [
    {
     "data": {
      "application/vnd.jupyter.widget-view+json": {
       "model_id": "6f07ccb62c0149dab147e998237f7946"
      },
      "text/html": [
       "<div>\n",
       "<style scoped>\n",
       "    .dataframe tbody tr th:only-of-type {\n",
       "        vertical-align: middle;\n",
       "    }\n",
       "\n",
       "    .dataframe tbody tr th {\n",
       "        vertical-align: top;\n",
       "    }\n",
       "\n",
       "    .dataframe thead th {\n",
       "        text-align: right;\n",
       "    }\n",
       "</style>\n",
       "<table border=\"1\" class=\"dataframe\">\n",
       "  <thead>\n",
       "    <tr style=\"text-align: right;\">\n",
       "      <th></th>\n",
       "      <th>folioviv</th>\n",
       "      <th>foliohog</th>\n",
       "      <th>clave</th>\n",
       "      <th>gasto</th>\n",
       "    </tr>\n",
       "  </thead>\n",
       "  <tbody>\n",
       "  </tbody>\n",
       "</table>\n",
       "</div>"
      ],
      "text/plain": [
       "Empty DataFrame\n",
       "Columns: [folioviv, foliohog, clave, gasto]\n",
       "Index: []"
      ]
     },
     "metadata": {},
     "output_type": "display_data"
    }
   ],
   "source": [
    "TEL_INTER_COM"
   ]
  },
  {
   "cell_type": "code",
   "execution_count": 9,
   "metadata": {
    "scrolled": true
   },
   "outputs": [],
   "source": [
    "GP=pd.read_csv('./conjunto_de_datos_enigh_2018_ns_csv/conjunto_de_datos_gastospersona_enigh_2018_ns/conjunto_de_datos/conjunto_de_datos_gastospersona_enigh_2018_ns.csv')"
   ]
  },
  {
   "cell_type": "code",
   "execution_count": 28,
   "metadata": {},
   "outputs": [],
   "source": [
    "GPP=GP.filter(['folioviv','foliohog','clave','gasto','costo','gasto_tri']).loc[GP['clave'].isin(['R005','R006','R007','R008','R009','R010','R011'])].groupby(['folioviv','foliohog'])"
   ]
  },
  {
   "cell_type": "code",
   "execution_count": 30,
   "metadata": {},
   "outputs": [],
   "source": [
    "pgc=GPP['costo','gasto_tri','gasto'].sum()"
   ]
  },
  {
   "cell_type": "code",
   "execution_count": 48,
   "metadata": {},
   "outputs": [],
   "source": [
    "data.merge(pgc,on=['folioviv','foliohog']).filter(['folioviv','foliohog','ubica_geo','Region','tipo_hogar','CUmun2','ing_cor','costo','gasto','gasto_tri']).to_excel('hogares_rurales con gastos en telefonia_raw.xls',index=False)"
   ]
  },
  {
   "cell_type": "code",
   "execution_count": 44,
   "metadata": {},
   "outputs": [
    {
     "data": {
      "text/plain": [
       "Index(['folioviv', 'foliohog', 'pertenece a etnia', 'no pertenece a etnia',\n",
       "       'ubica_geo', 'tam_loc', 'est_socio', 'est_dis', 'upm', 'factor',\n",
       "       ...\n",
       "       'tipo_hogar', 'LPI', 'LPEI', 'tasa ocupacional', 'tocupa',\n",
       "       'ENTRE_LINEAS', 'CUmun', 'CUmun2', 'CUmun3', 'LPI_t'],\n",
       "      dtype='object', length=189)"
      ]
     },
     "execution_count": 44,
     "metadata": {},
     "output_type": "execute_result"
    }
   ],
   "source": [
    "data.keys()"
   ]
  },
  {
   "cell_type": "code",
   "execution_count": 49,
   "metadata": {},
   "outputs": [],
   "source": [
    "data2=data.merge(pgc,on=['folioviv','foliohog']).filter(['folioviv','foliohog','ubica_geo','Region','tipo_hogar','CUmun2','ing_cor','costo','gasto','gasto_tri','upm','factor'])"
   ]
  },
  {
   "cell_type": "code",
   "execution_count": 54,
   "metadata": {},
   "outputs": [],
   "source": [
    "data2['costoT']=data2['costo'].astype('int')*data2['factor']"
   ]
  },
  {
   "cell_type": "code",
   "execution_count": 56,
   "metadata": {},
   "outputs": [],
   "source": [
    "data2['ingCorT']=data2['ing_cor']*data2['factor']"
   ]
  },
  {
   "cell_type": "code",
   "execution_count": 61,
   "metadata": {},
   "outputs": [],
   "source": [
    "data2['porcentaje_Tel']=round(data2['costo'].astype('int')/data2['ing_cor']*100,2)"
   ]
  },
  {
   "cell_type": "code",
   "execution_count": 78,
   "metadata": {},
   "outputs": [],
   "source": [
    "data2.filter(['Region','CUmun2','porcentaje_Tel','factor']).pivot_table(index='Region',columns='CUmun2',aggfunc=sum).rename(columns={'factor':'hogares','porcentaje_Tel':'Porcentaje del ingreso gastado en telefonía trimestral'}).to_excel('gasto trimestral en telefonía.xls')"
   ]
  },
  {
   "cell_type": "code",
   "execution_count": null,
   "metadata": {},
   "outputs": [],
   "source": []
  }
 ],
 "metadata": {
  "kernelspec": {
   "display_name": "Python 3",
   "language": "python",
   "name": "python3"
  },
  "language_info": {
   "codemirror_mode": {
    "name": "ipython",
    "version": 3
   },
   "file_extension": ".py",
   "mimetype": "text/x-python",
   "name": "python",
   "nbconvert_exporter": "python",
   "pygments_lexer": "ipython3",
   "version": "3.9.2"
  }
 },
 "nbformat": 4,
 "nbformat_minor": 4
}
