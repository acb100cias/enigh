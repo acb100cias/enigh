{
 "cells": [
  {
   "cell_type": "code",
   "execution_count": 31,
   "id": "phantom-persian",
   "metadata": {},
   "outputs": [],
   "source": [
    "from pandas import*\n",
    "import bamboolib\n",
    "from numpy import *"
   ]
  },
  {
   "cell_type": "code",
   "execution_count": 45,
   "id": "hollow-speech",
   "metadata": {},
   "outputs": [],
   "source": [
    "rurales=read_csv('rurales_filtrado_ingreso.csv').drop('Unnamed: 0',axis=1)\n",
    "acrurales=read_csv('rurales_autoconsumo_filtrado_ingreso.csv').drop('Unnamed: 0',axis=1)"
   ]
  },
  {
   "cell_type": "code",
   "execution_count": 46,
   "id": "hollow-knitting",
   "metadata": {},
   "outputs": [],
   "source": [
    "for i in rurales.loc[rurales['tipo_hogar']=='Sin ingresos propios'].loc[rurales['sueldos']!=0].index:\n",
    "    rurales['tipo_hogar'][i]='UFR'\n",
    "for i in rurales.loc[rurales['tipo_hogar']=='Sin ingresos propios'].loc[rurales['ingtrab']!=0].index:\n",
    "    rurales['tipo_hogar'][i]='UFR'\n",
    "for i in rurales.loc[rurales['tipo_hogar']=='Sin ingresos propios'].loc[rurales['trabajo']!=0].index:\n",
    "    rurales['tipo_hogar'][i]='UFR'"
   ]
  },
  {
   "cell_type": "code",
   "execution_count": 49,
   "id": "expressed-button",
   "metadata": {},
   "outputs": [
    {
     "data": {
      "text/plain": [
       "Int64Index([], dtype='int64')"
      ]
     },
     "execution_count": 49,
     "metadata": {},
     "output_type": "execute_result"
    }
   ],
   "source": [
    "rurales.loc[rurales['tipo_hogar']=='Sin ingresos propios'].loc[rurales['trabajo']!=0].index"
   ]
  },
  {
   "cell_type": "code",
   "execution_count": 4,
   "id": "reliable-anaheim",
   "metadata": {},
   "outputs": [
    {
     "data": {
      "application/vnd.jupyter.widget-view+json": {
       "model_id": "7c5e315d23784068869bd5b7a8e48bb7"
      },
      "text/plain": [
       "         folioviv  foliohog  pertenece a etnia  no pertenece a etnia  \\\n",
       "0       160009403         1                  0                     3   \n",
       "1       160009407         1                  0                     4   \n",
       "2       160009411         1                  0                     4   \n",
       "5       160009423         1                  0                     5   \n",
       "10      160009617         1                  0                     1   \n",
       "...           ...       ...                ...                   ...   \n",
       "28776  3260770521         1                  0                     3   \n",
       "28777  3260770522         1                  0                     2   \n",
       "28778  3260770523         1                  0                     3   \n",
       "28784  3260770717         1                  0                     7   \n",
       "28785  3260770718         1                  0                     3   \n",
       "\n",
       "       15 o menos  16-29  30-59  60 o mas  numren  ubica_geo  ...    LPI  \\\n",
       "0               0      0      1         2       3       1001  ...  sobre   \n",
       "1               1      1      2         0       4       1001  ...  sobre   \n",
       "2               2      0      2         0       4       1001  ...  sobre   \n",
       "5               1      2      2         0       5       1001  ...  sobre   \n",
       "10              0      0      1         0       1       1001  ...  sobre   \n",
       "...           ...    ...    ...       ...     ...        ...  ...    ...   \n",
       "28776           1      1      1         0       3      32012  ...  sobre   \n",
       "28777           1      2      0         0       3      32012  ...  sobre   \n",
       "28778           3      1      1         0       5      32012  ...  sobre   \n",
       "28784           3      2      2         0       7      32012  ...  sobre   \n",
       "28785           0      0      2         1       3      32012  ...  sobre   \n",
       "\n",
       "        LPEI  tasa ocupacional  tocupa  CUmun  CUmun2  CUmun3     LP  \\\n",
       "0      sobre             66.67    Alta    NaN       1     NaN  sobre   \n",
       "1      sobre             75.00    Alta    NaN       1     NaN  sobre   \n",
       "2      sobre             50.00   Media    NaN       1     NaN  sobre   \n",
       "5      sobre             40.00   Media    NaN       1     NaN  sobre   \n",
       "10     sobre            100.00    Alta    NaN       1     NaN  sobre   \n",
       "...      ...               ...     ...    ...     ...     ...    ...   \n",
       "28776  sobre             33.33   Media    NaN       3     3.0  sobre   \n",
       "28777  sobre             33.33   Media    NaN       3     3.0  sobre   \n",
       "28778  sobre             20.00    Baja    NaN       3     3.0  sobre   \n",
       "28784  sobre             28.57    Baja    NaN       3     3.0  sobre   \n",
       "28785  sobre             66.67    Alta    NaN       3     3.0  sobre   \n",
       "\n",
       "       Ingreso mensual  ingreso mensual  \n",
       "0         9.722394e+05     16203.990000  \n",
       "1         6.183278e+05     10305.463333  \n",
       "2         4.140248e+05      6900.413333  \n",
       "5         1.488628e+06     24810.470000  \n",
       "10        5.323618e+05      8872.696667  \n",
       "...                ...              ...  \n",
       "28776     7.322782e+05      5720.923333  \n",
       "28777     6.866756e+05      5364.653333  \n",
       "28778     7.201604e+05      5626.253333  \n",
       "28784     1.107934e+06      8655.733333  \n",
       "28785     1.937713e+06     15138.386667  \n",
       "\n",
       "[13351 rows x 162 columns]"
      ]
     },
     "metadata": {},
     "output_type": "display_data"
    }
   ],
   "source": [
    "rurales.loc[rurales['tipo_hogar']=='UFR'].loc[rurales['noagrop']==0]"
   ]
  },
  {
   "cell_type": "code",
   "execution_count": 6,
   "id": "sacred-teens",
   "metadata": {},
   "outputs": [],
   "source": [
    "rurales.to_csv('rurales_25_01_23.csv')"
   ]
  },
  {
   "cell_type": "code",
   "execution_count": 50,
   "id": "random-avenue",
   "metadata": {},
   "outputs": [],
   "source": [
    "data=rurales.filter(['folioviv','CUmun2','Region','tocupa','ingreso mensual','LP','tipo_hogar','ingtrab', 'trabajo', 'sueldos', 'horas_extr', 'comisiones',\n",
    "       'aguinaldo', 'indemtrab', 'otra_rem', 'remu_espec', 'negocio',\n",
    "       'noagrop', 'industria', 'comercio', 'servicios', 'agrope',\n",
    "       'agricolas', 'pecuarios', 'reproducc', 'pesca', 'otros_trab',\n",
    "       'rentas', 'utilidad', 'arrenda', 'transfer', 'jubilacion', 'becas',\n",
    "       'donativos', 'remesas', 'bene_gob', 'transf_hog', 'trans_inst',\n",
    "       'estim_alqu', 'otros_ing'])"
   ]
  },
  {
   "cell_type": "code",
   "execution_count": 53,
   "id": "wound-flush",
   "metadata": {},
   "outputs": [],
   "source": [
    "Reg=DataFrame(data.groupby('Region'))\n",
    "TO=DataFrame(data.groupby('tipo_hogar'))"
   ]
  },
  {
   "cell_type": "code",
   "execution_count": 25,
   "id": "least-socket",
   "metadata": {},
   "outputs": [
    {
     "ename": "ValueError",
     "evalue": "No group keys passed!",
     "output_type": "error",
     "traceback": [
      "\u001b[0;31m---------------------------------------------------------------------------\u001b[0m",
      "\u001b[0;31mValueError\u001b[0m                                Traceback (most recent call last)",
      "\u001b[0;32m<ipython-input-25-c72ad5b46d46>\u001b[0m in \u001b[0;36m<module>\u001b[0;34m\u001b[0m\n\u001b[1;32m      1\u001b[0m \u001b[0;32mfor\u001b[0m \u001b[0mi\u001b[0m \u001b[0;32min\u001b[0m \u001b[0mReg\u001b[0m\u001b[0;34m[\u001b[0m\u001b[0;36m0\u001b[0m\u001b[0;34m]\u001b[0m\u001b[0;34m.\u001b[0m\u001b[0mindex\u001b[0m\u001b[0;34m:\u001b[0m\u001b[0;34m\u001b[0m\u001b[0;34m\u001b[0m\u001b[0m\n\u001b[1;32m      2\u001b[0m     \u001b[0;31m#print(Reg[0][i])\u001b[0m\u001b[0;34m\u001b[0m\u001b[0;34m\u001b[0m\u001b[0;34m\u001b[0m\u001b[0m\n\u001b[0;32m----> 3\u001b[0;31m     Reg[1][i].filter(['folioviv','CUmun2','Region','tocupa','ingreso mensual','LP','tipo_hogar','ingtrab', 'trabajo', 'sueldos', 'horas_extr', 'comisiones',\n\u001b[0m\u001b[1;32m      4\u001b[0m        \u001b[0;34m'aguinaldo'\u001b[0m\u001b[0;34m,\u001b[0m \u001b[0;34m'indemtrab'\u001b[0m\u001b[0;34m,\u001b[0m \u001b[0;34m'otra_rem'\u001b[0m\u001b[0;34m,\u001b[0m \u001b[0;34m'remu_espec'\u001b[0m\u001b[0;34m,\u001b[0m \u001b[0;34m'negocio'\u001b[0m\u001b[0;34m,\u001b[0m\u001b[0;34m\u001b[0m\u001b[0;34m\u001b[0m\u001b[0m\n\u001b[1;32m      5\u001b[0m        \u001b[0;34m'noagrop'\u001b[0m\u001b[0;34m,\u001b[0m \u001b[0;34m'industria'\u001b[0m\u001b[0;34m,\u001b[0m \u001b[0;34m'comercio'\u001b[0m\u001b[0;34m,\u001b[0m \u001b[0;34m'servicios'\u001b[0m\u001b[0;34m,\u001b[0m \u001b[0;34m'agrope'\u001b[0m\u001b[0;34m,\u001b[0m\u001b[0;34m\u001b[0m\u001b[0;34m\u001b[0m\u001b[0m\n",
      "\u001b[0;32m/usr/local/lib/python3.9/dist-packages/pandas/core/frame.py\u001b[0m in \u001b[0;36mpivot_table\u001b[0;34m(self, values, index, columns, aggfunc, fill_value, margins, dropna, margins_name, observed, sort)\u001b[0m\n\u001b[1;32m   8032\u001b[0m         \u001b[0;32mfrom\u001b[0m \u001b[0mpandas\u001b[0m\u001b[0;34m.\u001b[0m\u001b[0mcore\u001b[0m\u001b[0;34m.\u001b[0m\u001b[0mreshape\u001b[0m\u001b[0;34m.\u001b[0m\u001b[0mpivot\u001b[0m \u001b[0;32mimport\u001b[0m \u001b[0mpivot_table\u001b[0m\u001b[0;34m\u001b[0m\u001b[0;34m\u001b[0m\u001b[0m\n\u001b[1;32m   8033\u001b[0m \u001b[0;34m\u001b[0m\u001b[0m\n\u001b[0;32m-> 8034\u001b[0;31m         return pivot_table(\n\u001b[0m\u001b[1;32m   8035\u001b[0m             \u001b[0mself\u001b[0m\u001b[0;34m,\u001b[0m\u001b[0;34m\u001b[0m\u001b[0;34m\u001b[0m\u001b[0m\n\u001b[1;32m   8036\u001b[0m             \u001b[0mvalues\u001b[0m\u001b[0;34m=\u001b[0m\u001b[0mvalues\u001b[0m\u001b[0;34m,\u001b[0m\u001b[0;34m\u001b[0m\u001b[0;34m\u001b[0m\u001b[0m\n",
      "\u001b[0;32m/usr/local/lib/python3.9/dist-packages/pandas/core/reshape/pivot.py\u001b[0m in \u001b[0;36mpivot_table\u001b[0;34m(data, values, index, columns, aggfunc, fill_value, margins, dropna, margins_name, observed, sort)\u001b[0m\n\u001b[1;32m     93\u001b[0m         \u001b[0;32mreturn\u001b[0m \u001b[0mtable\u001b[0m\u001b[0;34m.\u001b[0m\u001b[0m__finalize__\u001b[0m\u001b[0;34m(\u001b[0m\u001b[0mdata\u001b[0m\u001b[0;34m,\u001b[0m \u001b[0mmethod\u001b[0m\u001b[0;34m=\u001b[0m\u001b[0;34m\"pivot_table\"\u001b[0m\u001b[0;34m)\u001b[0m\u001b[0;34m\u001b[0m\u001b[0;34m\u001b[0m\u001b[0m\n\u001b[1;32m     94\u001b[0m \u001b[0;34m\u001b[0m\u001b[0m\n\u001b[0;32m---> 95\u001b[0;31m     table = __internal_pivot_table(\n\u001b[0m\u001b[1;32m     96\u001b[0m         \u001b[0mdata\u001b[0m\u001b[0;34m,\u001b[0m\u001b[0;34m\u001b[0m\u001b[0;34m\u001b[0m\u001b[0m\n\u001b[1;32m     97\u001b[0m         \u001b[0mvalues\u001b[0m\u001b[0;34m,\u001b[0m\u001b[0;34m\u001b[0m\u001b[0;34m\u001b[0m\u001b[0m\n",
      "\u001b[0;32m/usr/local/lib/python3.9/dist-packages/pandas/core/reshape/pivot.py\u001b[0m in \u001b[0;36m__internal_pivot_table\u001b[0;34m(data, values, index, columns, aggfunc, fill_value, margins, dropna, margins_name, observed, sort)\u001b[0m\n\u001b[1;32m    162\u001b[0m         \u001b[0mvalues\u001b[0m \u001b[0;34m=\u001b[0m \u001b[0mlist\u001b[0m\u001b[0;34m(\u001b[0m\u001b[0mvalues\u001b[0m\u001b[0;34m)\u001b[0m\u001b[0;34m\u001b[0m\u001b[0;34m\u001b[0m\u001b[0m\n\u001b[1;32m    163\u001b[0m \u001b[0;34m\u001b[0m\u001b[0m\n\u001b[0;32m--> 164\u001b[0;31m     \u001b[0mgrouped\u001b[0m \u001b[0;34m=\u001b[0m \u001b[0mdata\u001b[0m\u001b[0;34m.\u001b[0m\u001b[0mgroupby\u001b[0m\u001b[0;34m(\u001b[0m\u001b[0mkeys\u001b[0m\u001b[0;34m,\u001b[0m \u001b[0mobserved\u001b[0m\u001b[0;34m=\u001b[0m\u001b[0mobserved\u001b[0m\u001b[0;34m,\u001b[0m \u001b[0msort\u001b[0m\u001b[0;34m=\u001b[0m\u001b[0msort\u001b[0m\u001b[0;34m)\u001b[0m\u001b[0;34m\u001b[0m\u001b[0;34m\u001b[0m\u001b[0m\n\u001b[0m\u001b[1;32m    165\u001b[0m     \u001b[0magged\u001b[0m \u001b[0;34m=\u001b[0m \u001b[0mgrouped\u001b[0m\u001b[0;34m.\u001b[0m\u001b[0magg\u001b[0m\u001b[0;34m(\u001b[0m\u001b[0maggfunc\u001b[0m\u001b[0;34m)\u001b[0m\u001b[0;34m\u001b[0m\u001b[0;34m\u001b[0m\u001b[0m\n\u001b[1;32m    166\u001b[0m     \u001b[0;32mif\u001b[0m \u001b[0mdropna\u001b[0m \u001b[0;32mand\u001b[0m \u001b[0misinstance\u001b[0m\u001b[0;34m(\u001b[0m\u001b[0magged\u001b[0m\u001b[0;34m,\u001b[0m \u001b[0mABCDataFrame\u001b[0m\u001b[0;34m)\u001b[0m \u001b[0;32mand\u001b[0m \u001b[0mlen\u001b[0m\u001b[0;34m(\u001b[0m\u001b[0magged\u001b[0m\u001b[0;34m.\u001b[0m\u001b[0mcolumns\u001b[0m\u001b[0;34m)\u001b[0m\u001b[0;34m:\u001b[0m\u001b[0;34m\u001b[0m\u001b[0;34m\u001b[0m\u001b[0m\n",
      "\u001b[0;32m/usr/local/lib/python3.9/dist-packages/pandas/core/frame.py\u001b[0m in \u001b[0;36mgroupby\u001b[0;34m(self, by, axis, level, as_index, sort, group_keys, squeeze, observed, dropna)\u001b[0m\n\u001b[1;32m   7712\u001b[0m         \u001b[0;31m# error: Argument \"squeeze\" to \"DataFrameGroupBy\" has incompatible type\u001b[0m\u001b[0;34m\u001b[0m\u001b[0;34m\u001b[0m\u001b[0;34m\u001b[0m\u001b[0m\n\u001b[1;32m   7713\u001b[0m         \u001b[0;31m# \"Union[bool, NoDefault]\"; expected \"bool\"\u001b[0m\u001b[0;34m\u001b[0m\u001b[0;34m\u001b[0m\u001b[0;34m\u001b[0m\u001b[0m\n\u001b[0;32m-> 7714\u001b[0;31m         return DataFrameGroupBy(\n\u001b[0m\u001b[1;32m   7715\u001b[0m             \u001b[0mobj\u001b[0m\u001b[0;34m=\u001b[0m\u001b[0mself\u001b[0m\u001b[0;34m,\u001b[0m\u001b[0;34m\u001b[0m\u001b[0;34m\u001b[0m\u001b[0m\n\u001b[1;32m   7716\u001b[0m             \u001b[0mkeys\u001b[0m\u001b[0;34m=\u001b[0m\u001b[0mby\u001b[0m\u001b[0;34m,\u001b[0m\u001b[0;34m\u001b[0m\u001b[0;34m\u001b[0m\u001b[0m\n",
      "\u001b[0;32m/usr/local/lib/python3.9/dist-packages/pandas/core/groupby/groupby.py\u001b[0m in \u001b[0;36m__init__\u001b[0;34m(self, obj, keys, axis, level, grouper, exclusions, selection, as_index, sort, group_keys, squeeze, observed, mutated, dropna)\u001b[0m\n\u001b[1;32m    880\u001b[0m             \u001b[0;32mfrom\u001b[0m \u001b[0mpandas\u001b[0m\u001b[0;34m.\u001b[0m\u001b[0mcore\u001b[0m\u001b[0;34m.\u001b[0m\u001b[0mgroupby\u001b[0m\u001b[0;34m.\u001b[0m\u001b[0mgrouper\u001b[0m \u001b[0;32mimport\u001b[0m \u001b[0mget_grouper\u001b[0m\u001b[0;34m\u001b[0m\u001b[0;34m\u001b[0m\u001b[0m\n\u001b[1;32m    881\u001b[0m \u001b[0;34m\u001b[0m\u001b[0m\n\u001b[0;32m--> 882\u001b[0;31m             grouper, exclusions, obj = get_grouper(\n\u001b[0m\u001b[1;32m    883\u001b[0m                 \u001b[0mobj\u001b[0m\u001b[0;34m,\u001b[0m\u001b[0;34m\u001b[0m\u001b[0;34m\u001b[0m\u001b[0m\n\u001b[1;32m    884\u001b[0m                 \u001b[0mkeys\u001b[0m\u001b[0;34m,\u001b[0m\u001b[0;34m\u001b[0m\u001b[0;34m\u001b[0m\u001b[0m\n",
      "\u001b[0;32m/usr/local/lib/python3.9/dist-packages/pandas/core/groupby/grouper.py\u001b[0m in \u001b[0;36mget_grouper\u001b[0;34m(obj, key, axis, level, sort, observed, mutated, validate, dropna)\u001b[0m\n\u001b[1;32m    908\u001b[0m \u001b[0;34m\u001b[0m\u001b[0m\n\u001b[1;32m    909\u001b[0m     \u001b[0;32mif\u001b[0m \u001b[0mlen\u001b[0m\u001b[0;34m(\u001b[0m\u001b[0mgroupings\u001b[0m\u001b[0;34m)\u001b[0m \u001b[0;34m==\u001b[0m \u001b[0;36m0\u001b[0m \u001b[0;32mand\u001b[0m \u001b[0mlen\u001b[0m\u001b[0;34m(\u001b[0m\u001b[0mobj\u001b[0m\u001b[0;34m)\u001b[0m\u001b[0;34m:\u001b[0m\u001b[0;34m\u001b[0m\u001b[0;34m\u001b[0m\u001b[0m\n\u001b[0;32m--> 910\u001b[0;31m         \u001b[0;32mraise\u001b[0m \u001b[0mValueError\u001b[0m\u001b[0;34m(\u001b[0m\u001b[0;34m\"No group keys passed!\"\u001b[0m\u001b[0;34m)\u001b[0m\u001b[0;34m\u001b[0m\u001b[0;34m\u001b[0m\u001b[0m\n\u001b[0m\u001b[1;32m    911\u001b[0m     \u001b[0;32melif\u001b[0m \u001b[0mlen\u001b[0m\u001b[0;34m(\u001b[0m\u001b[0mgroupings\u001b[0m\u001b[0;34m)\u001b[0m \u001b[0;34m==\u001b[0m \u001b[0;36m0\u001b[0m\u001b[0;34m:\u001b[0m\u001b[0;34m\u001b[0m\u001b[0;34m\u001b[0m\u001b[0m\n\u001b[1;32m    912\u001b[0m         \u001b[0mgroupings\u001b[0m\u001b[0;34m.\u001b[0m\u001b[0mappend\u001b[0m\u001b[0;34m(\u001b[0m\u001b[0mGrouping\u001b[0m\u001b[0;34m(\u001b[0m\u001b[0mIndex\u001b[0m\u001b[0;34m(\u001b[0m\u001b[0;34m[\u001b[0m\u001b[0;34m]\u001b[0m\u001b[0;34m,\u001b[0m \u001b[0mdtype\u001b[0m\u001b[0;34m=\u001b[0m\u001b[0;34m\"int\"\u001b[0m\u001b[0;34m)\u001b[0m\u001b[0;34m,\u001b[0m \u001b[0mnp\u001b[0m\u001b[0;34m.\u001b[0m\u001b[0marray\u001b[0m\u001b[0;34m(\u001b[0m\u001b[0;34m[\u001b[0m\u001b[0;34m]\u001b[0m\u001b[0;34m,\u001b[0m \u001b[0mdtype\u001b[0m\u001b[0;34m=\u001b[0m\u001b[0mnp\u001b[0m\u001b[0;34m.\u001b[0m\u001b[0mintp\u001b[0m\u001b[0;34m)\u001b[0m\u001b[0;34m)\u001b[0m\u001b[0;34m)\u001b[0m\u001b[0;34m\u001b[0m\u001b[0;34m\u001b[0m\u001b[0m\n",
      "\u001b[0;31mValueError\u001b[0m: No group keys passed!"
     ]
    }
   ],
   "source": [
    "for i in Reg[0].index:\n",
    "    #print(Reg[0][i])\n",
    "    Reg[1][i].filter(['folioviv','CUmun2','Region','tocupa','ingreso mensual','LP','tipo_hogar','ingtrab', 'trabajo', 'sueldos', 'horas_extr', 'comisiones',\n",
    "       'aguinaldo', 'indemtrab', 'otra_rem', 'remu_espec', 'negocio',\n",
    "       'noagrop', 'industria', 'comercio', 'servicios', 'agrope',\n",
    "       'agricolas', 'pecuarios', 'reproducc', 'pesca', 'otros_trab',\n",
    "       'rentas', 'utilidad', 'arrenda', 'transfer', 'jubilacion', 'becas',\n",
    "       'donativos', 'remesas', 'bene_gob', 'transf_hog', 'trans_inst',\n",
    "       'estim_alqu', 'otros_ing']).pivot_table().to_excel('{}'.format(Reg[0][i])+'.xlsx')\n"
   ]
  },
  {
   "cell_type": "code",
   "execution_count": 52,
   "id": "overall-folder",
   "metadata": {},
   "outputs": [
    {
     "data": {
      "application/vnd.jupyter.widget-view+json": {
       "model_id": "f66627b0caff4ffe9fa7c223e5dea9cd"
      },
      "text/plain": [
       "                              agrope   becas  bene_gob  donativos  \\\n",
       "tipo_hogar           CUmun2                                         \n",
       "Sin ingresos propios 0          0.00    0.00   3067.63    2173.08   \n",
       "                     1          0.00  200.44   2420.40    2495.69   \n",
       "                     2          0.00    0.00   2529.95    2844.55   \n",
       "                     3          0.00   18.41   3169.84    2634.02   \n",
       "                     4          0.00    7.45   2527.69    2141.22   \n",
       "UCE                  0        987.68    0.00   1295.60     741.76   \n",
       "                     1       7773.05   44.14   1757.25    1130.91   \n",
       "                     2       8032.11   41.51   1748.77    1203.37   \n",
       "                     3       6464.22   28.43   2266.21    1101.57   \n",
       "                     4       4692.25   65.76   2240.47    1000.24   \n",
       "UCEP                 1       4688.38   23.86   2161.88     724.37   \n",
       "                     2       5775.27   58.70   1389.00     931.89   \n",
       "                     3       4549.80  168.23   2338.46     815.26   \n",
       "                     4       4764.54  135.44   2346.54     747.05   \n",
       "UFR                  0          0.00  160.51    513.39     895.79   \n",
       "                     1          0.00   57.07    812.68     607.31   \n",
       "                     2          0.00   50.04    893.19     781.22   \n",
       "                     3          0.00   58.83   1156.49     629.79   \n",
       "                     4          0.00   56.15   1257.07     620.69   \n",
       "\n",
       "                             ingreso mensual   ingtrab  jubilacion   negocio  \\\n",
       "tipo_hogar           CUmun2                                                    \n",
       "Sin ingresos propios 0              11132.12      0.00    13562.55      0.00   \n",
       "                     1               8530.27      0.00     5713.62      0.00   \n",
       "                     2               7704.81      0.00     3030.84      0.00   \n",
       "                     3               7778.39      0.00     4360.62      0.00   \n",
       "                     4               7533.15      0.00     2580.93      0.00   \n",
       "UCE                  0              12588.85  22135.20    10327.86    987.68   \n",
       "                     1              11290.24  22337.52     1405.78   7773.05   \n",
       "                     2               9899.58  19157.13      502.37   8032.11   \n",
       "                     3              10628.44  20418.48      980.98   6464.22   \n",
       "                     4               8972.59  16429.45      644.33   4692.25   \n",
       "UCEP                 1              12052.00  25321.03      711.33  14576.00   \n",
       "                     2              14691.62  32536.84     1679.77  12903.30   \n",
       "                     3              11886.69  25660.46      462.61  14331.22   \n",
       "                     4              10513.32  20573.22      765.48  13254.67   \n",
       "UFR                  0              13927.43  29298.33      470.13   1519.10   \n",
       "                     1              12904.21  29422.17      894.53   3388.08   \n",
       "                     2              13137.36  29727.88      674.29   3803.91   \n",
       "                     3              11725.12  25816.22      825.13   2450.62   \n",
       "                     4              10989.09  23654.82      374.40   2511.42   \n",
       "\n",
       "                             noagrop  otra_rem  otros_ing  otros_trab  \\\n",
       "tipo_hogar           CUmun2                                             \n",
       "Sin ingresos propios 0          0.00      0.00       0.00        0.00   \n",
       "                     1          0.00      0.00     153.67        0.00   \n",
       "                     2          0.00      0.00       0.00        0.00   \n",
       "                     3          0.00      0.00      25.33        0.00   \n",
       "                     4          0.00      0.00      10.44        0.00   \n",
       "UCE                  0          0.00    196.72       0.00        0.00   \n",
       "                     1          0.00    106.19       9.77     1151.84   \n",
       "                     2          0.00      1.78      49.62     1264.53   \n",
       "                     3          0.00     89.42      27.45     1074.09   \n",
       "                     4          0.00     26.43       0.42     1123.75   \n",
       "UCEP                 1       9887.62     44.84       1.73     1789.46   \n",
       "                     2       7128.03    219.13       0.00     3121.88   \n",
       "                     3       9781.42    132.76       2.27      795.94   \n",
       "                     4       8490.13     17.59      26.21     1132.38   \n",
       "UFR                  0       1519.10    184.48       0.00     1107.05   \n",
       "                     1       3388.08    323.45      28.26     1235.69   \n",
       "                     2       3803.91    385.74       3.30     1381.49   \n",
       "                     3       2450.62    218.94       9.47     1245.79   \n",
       "                     4       2511.42    164.47       3.21     1195.19   \n",
       "\n",
       "                             remesas  remu_espec   sueldos   trabajo  transfer  \n",
       "tipo_hogar           CUmun2                                                     \n",
       "Sin ingresos propios 0          0.00        0.00      0.00      0.00  20912.01  \n",
       "                     1       3485.98        0.00      0.00      0.00  17620.88  \n",
       "                     2       4634.66        0.00      0.00      0.00  15965.87  \n",
       "                     3       3662.59        0.00      0.00      0.00  16432.72  \n",
       "                     4       5699.90        0.00      0.00      0.00  16753.61  \n",
       "UCE                  0          0.00        0.00  19721.30  21147.53  12365.22  \n",
       "                     1        880.60      366.52  12271.12  13412.63   6958.23  \n",
       "                     2        815.83      824.60   8854.47   9860.49   5586.57  \n",
       "                     3       1143.73      585.06  11696.96  12880.18   7122.87  \n",
       "                     4       1403.94      815.86   9476.32  10613.46   6880.47  \n",
       "UCEP                 1        984.37      298.28   8362.63   8955.56   6316.55  \n",
       "                     2       1051.88     1232.65  14633.63  16511.66   6423.99  \n",
       "                     3        678.30      484.97   9398.03  10533.30   5683.98  \n",
       "                     4       2009.01      508.90   5329.46   6186.18   7463.30  \n",
       "UFR                  0         21.67     1105.74  23545.02  26672.17   3166.39  \n",
       "                     1        540.73      853.76  21978.31  24798.40   4417.07  \n",
       "                     2        459.16     1363.32  20930.84  24542.48   4652.30  \n",
       "                     3        711.04      942.80  19861.12  22119.80   4821.92  \n",
       "                     4       1170.25      795.04  18018.10  19948.21   5067.40  "
      ]
     },
     "metadata": {},
     "output_type": "display_data"
    }
   ],
   "source": [
    "Reg[1][0].filter(['CUmun2','Region','ingreso mensual','tipo_hogar','ingtrab', 'trabajo', 'sueldos', 'otra_rem', 'remu_espec', 'negocio','noagrop', 'agrope','otros_trab','transfer', 'jubilacion', 'becas',\n",
    "       'donativos', 'remesas', 'bene_gob', 'otros_ing']).pivot_table(index=['tipo_hogar','CUmun2'],aggfunc=mean,).round(2)"
   ]
  },
  {
   "cell_type": "code",
   "execution_count": 71,
   "id": "toxic-dublin",
   "metadata": {},
   "outputs": [],
   "source": [
    "Tabla=TO[1][0].filter(['CUmun2','Region','ingreso mensual','tipo_hogar','ingtrab', 'trabajo', 'sueldos', 'otra_rem', 'remu_espec', 'negocio','noagrop', 'agrope','otros_trab','transfer', 'jubilacion', 'becas',\n",
    "       'donativos', 'remesas', 'bene_gob', 'otros_ing']).pivot_table(index=['Region','CUmun2'],aggfunc=mean,margins=True,margins_name='Total').round(2)"
   ]
  },
  {
   "cell_type": "code",
   "execution_count": 83,
   "id": "moved-attack",
   "metadata": {},
   "outputs": [],
   "source": [
    "T1=Tabla.T.loc[Tabla.T[('Total','')]!=0].T.drop(('Total',),axis=0)"
   ]
  },
  {
   "cell_type": "code",
   "execution_count": 92,
   "id": "local-mercury",
   "metadata": {},
   "outputs": [],
   "source": [
    "T1['Total']=T1.T.sum().values"
   ]
  },
  {
   "cell_type": "code",
   "execution_count": 93,
   "id": "collect-criterion",
   "metadata": {},
   "outputs": [
    {
     "data": {
      "application/vnd.jupyter.widget-view+json": {
       "model_id": "3ecdf0fcfcd94515beebda81ba0ef310"
      },
      "text/plain": [
       "                becas  bene_gob  donativos  ingreso mensual  jubilacion  \\\n",
       "Region CUmun2                                                             \n",
       "Centro 0         0.00   3067.63    2173.08         11132.12    13562.55   \n",
       "       1       200.44   2420.40    2495.69          8530.27     5713.62   \n",
       "       2         0.00   2529.95    2844.55          7704.81     3030.84   \n",
       "       3        18.41   3169.84    2634.02          7778.39     4360.62   \n",
       "       4         7.45   2527.69    2141.22          7533.15     2580.93   \n",
       "Norte  1        33.27   2738.92    2718.62          8781.40     7337.49   \n",
       "       2         0.00   3906.01       0.00          4730.63     1760.87   \n",
       "       3        53.11   3124.28    2263.22          8280.55     5585.03   \n",
       "       4        15.50   3276.35    2988.33          9080.33     7160.28   \n",
       "Sur    1        29.69   3133.23    3936.99          8839.35     8576.68   \n",
       "       2       718.69   3092.74    1137.30          6239.99     8702.03   \n",
       "       3         2.73   3098.91    1928.16          6009.58     4404.74   \n",
       "       4         0.00   3403.70    2328.89          5206.63     1071.40   \n",
       "\n",
       "               otros_ing  remesas  transfer     Total  \n",
       "Region CUmun2                                          \n",
       "Centro 0            0.00     0.00  20912.01  50847.39  \n",
       "       1          153.67  3485.98  17620.88  40620.95  \n",
       "       2            0.00  4634.66  15965.87  36710.68  \n",
       "       3           25.33  3662.59  16432.72  38081.92  \n",
       "       4           10.44  5699.90  16753.61  37254.39  \n",
       "Norte  1           95.44  1320.56  17838.55  40864.25  \n",
       "       2            0.00  6022.42  12007.22  28427.15  \n",
       "       3          214.13  2897.87  17295.96  39714.15  \n",
       "       4          152.60  2300.84  18769.51  43743.74  \n",
       "Sur    1            0.88   500.77  21157.07  46174.66  \n",
       "       2            0.00     0.00  16200.21  36090.96  \n",
       "       3           11.75  1015.91  13835.58  30307.36  \n",
       "       4            8.81  2077.12  11258.57  25355.12  "
      ]
     },
     "metadata": {},
     "output_type": "display_data"
    }
   ],
   "source": [
    "T1 = T1.reset_index()\n",
    "T1"
   ]
  },
  {
   "cell_type": "code",
   "execution_count": 94,
   "id": "asian-pitch",
   "metadata": {},
   "outputs": [],
   "source": [
    "for i in TO[0].index:\n",
    "    Tabla=TO[1][i].filter(['CUmun2','Region','ingreso mensual','tipo_hogar','ingtrab', 'trabajo', 'sueldos', 'otra_rem', 'remu_espec', 'negocio','noagrop', 'agrope','otros_trab','transfer', 'jubilacion', 'becas',\n",
    "       'donativos', 'remesas', 'bene_gob', 'otros_ing']).pivot_table(index=['Region','CUmun2'],aggfunc=mean,margins=True,margins_name='Total').round(2)\n",
    "    T1=Tabla.T.loc[Tabla.T[('Total','')]!=0].T.drop(('Total',),axis=0)\n",
    "    T1['Total']=T1.T.sum().values\n",
    "    T1.to_excel(('{}'.format(TO[0][i])+'.xlsx'))"
   ]
  },
  {
   "cell_type": "code",
   "execution_count": null,
   "id": "adolescent-truth",
   "metadata": {},
   "outputs": [],
   "source": []
  }
 ],
 "metadata": {
  "kernelspec": {
   "display_name": "Python 3",
   "language": "python",
   "name": "python3"
  },
  "language_info": {
   "codemirror_mode": {
    "name": "ipython",
    "version": 3
   },
   "file_extension": ".py",
   "mimetype": "text/x-python",
   "name": "python",
   "nbconvert_exporter": "python",
   "pygments_lexer": "ipython3",
   "version": "3.9.2"
  }
 },
 "nbformat": 4,
 "nbformat_minor": 5
}
