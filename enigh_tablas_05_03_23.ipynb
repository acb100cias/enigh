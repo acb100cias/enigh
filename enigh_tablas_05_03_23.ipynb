{
 "cells": [
  {
   "cell_type": "code",
   "execution_count": 17,
   "id": "542d2117-517c-4252-ae5e-1717501d5d71",
   "metadata": {
    "tags": []
   },
   "outputs": [],
   "source": [
    "from pandas import *\n",
    "from numpy import *\n",
    "rurales=read_csv('rurales_04_03_23.csv')"
   ]
  },
  {
   "cell_type": "code",
   "execution_count": 26,
   "id": "51d4bcec-7b58-4438-ae53-cbc3883f529c",
   "metadata": {
    "tags": []
   },
   "outputs": [],
   "source": [
    "TInd=rurales.filter(['Region','CUmun2','tipo_hogar','factor']).loc[rurales['pertenece a etnia']!=0].pivot_table(index=['Region','CUmun2'],columns='tipo_hogar',aggfunc=sum,margins=True,margins_name='Total').fillna(0)"
   ]
  },
  {
   "cell_type": "code",
   "execution_count": 27,
   "id": "aeca3963-5b21-4b0d-a296-9a5248814243",
   "metadata": {},
   "outputs": [],
   "source": [
    "TInd2=rurales.filter(['Region','CUmun2','tipo_hogar','factor']).loc[rurales['pertenece a etnia']==0].pivot_table(index=['Region','CUmun2'],columns='tipo_hogar',aggfunc=sum,margins=True,margins_name='Total').fillna(0)"
   ]
  },
  {
   "cell_type": "code",
   "execution_count": 28,
   "id": "948bc02d-1a3b-4854-9296-59da856e5b31",
   "metadata": {
    "tags": []
   },
   "outputs": [],
   "source": [
    "TInd=TInd.join(TInd2,rsuffix='N0 Indígenas')"
   ]
  },
  {
   "cell_type": "code",
   "execution_count": 29,
   "id": "c8e2493a-8f32-4a76-8e5c-1e57c395da30",
   "metadata": {
    "tags": []
   },
   "outputs": [],
   "source": [
    "TInd3=rurales.filter(['Region','CUmun2','tipo_hogar','factor']).pivot_table(index=['Region','CUmun2'],columns='tipo_hogar',aggfunc=sum,margins=True,margins_name='Total').fillna(0)"
   ]
  },
  {
   "cell_type": "code",
   "execution_count": 30,
   "id": "8b203582-4867-409e-beda-c87a12c38af8",
   "metadata": {
    "tags": []
   },
   "outputs": [],
   "source": [
    "TInd=TInd.join(TInd3,rsuffix='Hogares')"
   ]
  },
  {
   "cell_type": "code",
   "execution_count": 32,
   "id": "dd587a49-162f-4f0f-890a-40b9ed2cd793",
   "metadata": {
    "tags": []
   },
   "outputs": [],
   "source": [
    "TInd=TInd.rename(index={0:'Localidad mixta',1:'Cercana a ciudad',2:'Cercana a localidad mixta',3:'Cercano a carretera',4:'Aislada'})"
   ]
  },
  {
   "cell_type": "code",
   "execution_count": 35,
   "id": "a833c71f-f344-4b92-99a1-5d06cfd3cf0f",
   "metadata": {
    "tags": []
   },
   "outputs": [],
   "source": [
    "TInd.rename(columns={'factor':'Hogares Indígenas','factorNO Indígenas':'Hogares No Indígenas','factorHogares':'Total Hogares Rurales'}).astype('int').to_excel('hogares indigenas y no-indígenas por region y CU.xlsx')"
   ]
  },
  {
   "cell_type": "code",
   "execution_count": 40,
   "id": "f093774f-c9bb-419c-b7d8-82bc95716973",
   "metadata": {
    "tags": []
   },
   "outputs": [],
   "source": [
    "TInd=TInd.rename(columns={'factor':'Hogares Indígenas','factorNO Indígenas':'Hogares No Indígenas','factorHogares':'Total Hogares Rurales'}).astype('int')"
   ]
  },
  {
   "cell_type": "code",
   "execution_count": 44,
   "id": "29e05319-46b0-435b-b1bc-5c7b723a1bae",
   "metadata": {
    "tags": []
   },
   "outputs": [],
   "source": [
    "TInd=TInd.rename(columns={'factorN0 Indígenas':'Hogares No Indígenas'})"
   ]
  },
  {
   "cell_type": "code",
   "execution_count": 66,
   "id": "6fae9810-90d0-4723-bd51-51df52a4bb31",
   "metadata": {
    "tags": []
   },
   "outputs": [],
   "source": [
    "TInd2=DataFrame()\n",
    "for i in TInd.keys().values:\n",
    "    TInd2[i[1]+' %']=round(100*TInd[i]/TInd[(i[0],'Total')],2)"
   ]
  },
  {
   "cell_type": "code",
   "execution_count": 67,
   "id": "ac2927e3-029c-488f-b5f0-0573124bda0f",
   "metadata": {
    "tags": []
   },
   "outputs": [],
   "source": [
    "T=TInd.filter([('Hogares Indígenas','Total'),('Hogares No Indígenas','Total'),('Total Hogares Rurales','Total')])"
   ]
  },
  {
   "cell_type": "code",
   "execution_count": 77,
   "id": "e77937e0-7647-4266-b231-f6f7174ec48f",
   "metadata": {
    "tags": []
   },
   "outputs": [],
   "source": [
    "TInd3=DataFrame()\n",
    "for i in T.droplevel(level=1,axis=1).keys().values:\n",
    "    TInd3[i+' %']=round(100*T[i]/T['Total Hogares Rurales'],2)"
   ]
  },
  {
   "cell_type": "code",
   "execution_count": 85,
   "id": "fd1d3d75-ae63-4903-bb60-3a7816613dbc",
   "metadata": {
    "tags": []
   },
   "outputs": [
    {
     "ename": "SyntaxError",
     "evalue": "expression cannot contain assignment, perhaps you meant \"==\"? (<ipython-input-85-ea2a457859cc>, line 1)",
     "output_type": "error",
     "traceback": [
      "\u001b[0;36m  File \u001b[0;32m\"<ipython-input-85-ea2a457859cc>\"\u001b[0;36m, line \u001b[0;32m1\u001b[0m\n\u001b[0;31m    TInd2=TInd2.rename(index.names={'CUmun2':'Condición de ubicación'})\u001b[0m\n\u001b[0m                       ^\u001b[0m\n\u001b[0;31mSyntaxError\u001b[0m\u001b[0;31m:\u001b[0m expression cannot contain assignment, perhaps you meant \"==\"?\n"
     ]
    }
   ],
   "source": []
  },
  {
   "cell_type": "code",
   "execution_count": 84,
   "id": "08af3afc-4a79-4d3b-8365-1115a9952d3c",
   "metadata": {
    "tags": []
   },
   "outputs": [
    {
     "data": {
      "text/plain": [
       "FrozenList(['Region', 'CUmun2'])"
      ]
     },
     "execution_count": 84,
     "metadata": {},
     "output_type": "execute_result"
    }
   ],
   "source": [
    "TInd.index.names"
   ]
  },
  {
   "cell_type": "code",
   "execution_count": 86,
   "id": "8f12112d-7b68-473b-94ff-dcc0a9fa76fd",
   "metadata": {
    "tags": []
   },
   "outputs": [],
   "source": [
    "TInd.to_excel('hogares indígenas y no-indígenas por region y CU.xlsx')\n",
    "TInd2.to_excel('hogares Indígenas porcentaje por tipo de hogar.xlsx')\n",
    "TInd3.to_excel('hogares porcentaje de Hogares rurales indígenas y no indígenas.xlsx')"
   ]
  },
  {
   "cell_type": "code",
   "execution_count": null,
   "id": "7177a273-8962-413b-b17e-5452f527edaa",
   "metadata": {},
   "outputs": [],
   "source": []
  },
  {
   "cell_type": "code",
   "execution_count": null,
   "id": "e3504d99-5362-427f-a6d1-b1f964451df2",
   "metadata": {},
   "outputs": [],
   "source": []
  }
 ],
 "metadata": {
  "kernelspec": {
   "display_name": "Python 3",
   "language": "python",
   "name": "python3"
  },
  "language_info": {
   "codemirror_mode": {
    "name": "ipython",
    "version": 3
   },
   "file_extension": ".py",
   "mimetype": "text/x-python",
   "name": "python",
   "nbconvert_exporter": "python",
   "pygments_lexer": "ipython3",
   "version": "3.9.2"
  }
 },
 "nbformat": 4,
 "nbformat_minor": 5
}
