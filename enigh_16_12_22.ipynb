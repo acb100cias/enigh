{
 "cells": [
  {
   "cell_type": "code",
   "execution_count": 31,
   "id": "vocational-tooth",
   "metadata": {},
   "outputs": [],
   "source": [
    "from pandas import*\n",
    "import bamboolib"
   ]
  },
  {
   "cell_type": "code",
   "execution_count": 32,
   "id": "circular-carolina",
   "metadata": {},
   "outputs": [],
   "source": [
    "rurales=read_csv('rurales_filtrado_ingreso.csv').drop('Unnamed: 0',axis=1)\n",
    "acrurales=read_csv('rurales_autoconsumo_filtrado_ingreso.csv').drop('Unnamed: 0',axis=1)"
   ]
  },
  {
   "cell_type": "code",
   "execution_count": 33,
   "id": "needed-index",
   "metadata": {},
   "outputs": [
    {
     "data": {
      "text/plain": [
       "array(['folioviv', 'foliohog', 'pertenece a etnia',\n",
       "       'no pertenece a etnia', '15 o menos', '16-29', '30-59', '60 o mas',\n",
       "       'numren', 'ubica_geo', 'tam_loc', 'est_socio', 'est_dis', 'upm',\n",
       "       'factor', 'clase_hog', 'sexo_jefe', 'edad_jefe', 'educa_jefe',\n",
       "       'tot_integ', 'hombres', 'mujeres', 'mayores', 'menores', 'p12_64',\n",
       "       'p65mas', 'ocupados', 'percep_ing', 'perc_ocupa', 'ing_cor',\n",
       "       'ingtrab', 'trabajo', 'sueldos', 'horas_extr', 'comisiones',\n",
       "       'aguinaldo', 'indemtrab', 'otra_rem', 'remu_espec', 'negocio',\n",
       "       'noagrop', 'industria', 'comercio', 'servicios', 'agrope',\n",
       "       'agricolas', 'pecuarios', 'reproducc', 'pesca', 'otros_trab',\n",
       "       'rentas', 'utilidad', 'arrenda', 'transfer', 'jubilacion', 'becas',\n",
       "       'donativos', 'remesas', 'bene_gob', 'transf_hog', 'trans_inst',\n",
       "       'estim_alqu', 'otros_ing', 'gasto_mon', 'alimentos', 'ali_dentro',\n",
       "       'cereales', 'carnes', 'pescado', 'leche', 'huevo', 'aceites',\n",
       "       'tuberculo', 'verduras', 'frutas', 'azucar', 'cafe', 'especias',\n",
       "       'otros_alim', 'bebidas', 'ali_fuera', 'tabaco', 'vesti_calz',\n",
       "       'vestido', 'calzado', 'vivienda', 'alquiler', 'pred_cons', 'agua',\n",
       "       'energia', 'limpieza', 'cuidados', 'utensilios', 'enseres',\n",
       "       'salud', 'atenc_ambu', 'hospital', 'medicinas', 'transporte',\n",
       "       'publico', 'foraneo', 'adqui_vehi', 'mantenim', 'refaccion',\n",
       "       'combus', 'comunica', 'educa_espa', 'educacion', 'esparci',\n",
       "       'paq_turist', 'personales', 'cuida_pers', 'acces_pers',\n",
       "       'otros_gas', 'transf_gas', 'percep_tot', 'retiro_inv', 'prestamos',\n",
       "       'otras_perc', 'ero_nm_viv', 'ero_nm_hog', 'erogac_tot',\n",
       "       'cuota_viv', 'mater_serv', 'material', 'servicio', 'deposito',\n",
       "       'prest_terc', 'pago_tarje', 'deudas', 'balance', 'otras_erog',\n",
       "       'smg', 'TamLoc', 'entidad', 'desc_ent', 'municipio', 'des_mun',\n",
       "       'Region', 'pob_aprox', 'total_mujeres', 'total_hombres',\n",
       "       'T_15 o menos', 'T_16-29', 'T_30-59', 'T_60 o mas', 'T_numren',\n",
       "       'tipo_hogar', 'TT_15 o menos', 'TT_16-29', 'TT_30-59',\n",
       "       'TT_60 o mas', 'LPI', 'LPEI', 'tasa ocupacional', 'tocupa',\n",
       "       'CUmun', 'CUmun2', 'CUmun3', 'LP', 'Ingreso mensual',\n",
       "       'ingreso mensual'], dtype=object)"
      ]
     },
     "execution_count": 33,
     "metadata": {},
     "output_type": "execute_result"
    }
   ],
   "source": [
    "rurales.keys().values"
   ]
  },
  {
   "cell_type": "code",
   "execution_count": 29,
   "id": "freelance-possibility",
   "metadata": {},
   "outputs": [],
   "source": [
    "data=rurales.filter(['folioviv','CUmun2','Region','tocupa','ingreso mensual','LP','tipo_hogar','ingtrab', 'trabajo', 'sueldos', 'horas_extr', 'comisiones',\n",
    "       'aguinaldo', 'indemtrab', 'otra_rem', 'remu_espec', 'negocio',\n",
    "       'noagrop', 'industria', 'comercio', 'servicios', 'agrope',\n",
    "       'agricolas', 'pecuarios', 'reproducc', 'pesca', 'otros_trab',\n",
    "       'rentas', 'utilidad', 'arrenda', 'transfer', 'jubilacion', 'becas',\n",
    "       'donativos', 'remesas', 'bene_gob', 'transf_hog', 'trans_inst',\n",
    "       'estim_alqu', 'otros_ing'])"
   ]
  },
  {
   "cell_type": "code",
   "execution_count": 30,
   "id": "respiratory-colombia",
   "metadata": {},
   "outputs": [
    {
     "data": {
      "application/vnd.jupyter.widget-view+json": {
       "model_id": "17b6b297244f460f827505f688569195"
      },
      "text/plain": [
       "         folioviv  CUmun2  Region tocupa  ingreso mensual     LP  \\\n",
       "0       160009403       1  Centro   Alta     16203.990000  sobre   \n",
       "1       160009407       1  Centro   Alta     10305.463333  sobre   \n",
       "2       160009411       1  Centro  Media      6900.413333  sobre   \n",
       "3       160009415       1  Centro   Alta     16267.646667  sobre   \n",
       "4       160009419       1  Centro  Media     11449.063333  sobre   \n",
       "...           ...     ...     ...    ...              ...    ...   \n",
       "28781  3260770714       3   Norte  Media      4742.616667  sobre   \n",
       "28782  3260770715       3   Norte   Alta      4626.223333  sobre   \n",
       "28783  3260770716       3   Norte   Alta      6701.613333  sobre   \n",
       "28784  3260770717       3   Norte   Baja      8655.733333  sobre   \n",
       "28785  3260770718       3   Norte   Alta     15138.386667  sobre   \n",
       "\n",
       "                 tipo_hogar   ingtrab   trabajo   sueldos  ...  transfer  \\\n",
       "0      Sin ingresos propios  11972.31  11972.31   7336.95  ...  25958.80   \n",
       "1      Sin ingresos propios  19711.94  19711.94   7116.84  ...   8301.23   \n",
       "2      Sin ingresos propios  17021.72  17021.72  15260.86  ...    195.65   \n",
       "3                       UFR  42996.49  41822.58  41431.28  ...      0.00   \n",
       "4                       UFR  28540.74  14307.06  12717.39  ...      0.00   \n",
       "...                     ...       ...       ...       ...  ...       ...   \n",
       "28781  Sin ingresos propios   9442.62      0.00      0.00  ...   1785.23   \n",
       "28782                   UFR   1239.34      0.00      0.00  ...   9639.33   \n",
       "28783  Sin ingresos propios      0.00      0.00      0.00  ...  18604.84   \n",
       "28784  Sin ingresos propios  21196.71  18836.06  18836.06  ...   1770.49   \n",
       "28785  Sin ingresos propios  37278.67  37278.67  34819.66  ...   3636.49   \n",
       "\n",
       "       jubilacion  becas  donativos  remesas  bene_gob  transf_hog  \\\n",
       "0        13206.52    0.0       0.00   684.78   6896.73     3214.28   \n",
       "1            0.00    0.0       0.00     0.00   5086.95     3214.28   \n",
       "2            0.00    0.0     195.65     0.00      0.00        0.00   \n",
       "3            0.00    0.0       0.00     0.00      0.00        0.00   \n",
       "4            0.00    0.0       0.00     0.00      0.00        0.00   \n",
       "...           ...    ...        ...      ...       ...         ...   \n",
       "28781        0.00    0.0       0.00   885.24      0.00        0.00   \n",
       "28782        0.00    0.0       0.00     0.00   9639.33        0.00   \n",
       "28783        0.00    0.0       0.00  6639.34   2065.57     9899.93   \n",
       "28784        0.00    0.0       0.00  1770.49      0.00        0.00   \n",
       "28785        0.00    0.0    1967.21     0.00      0.00     1155.00   \n",
       "\n",
       "       trans_inst  estim_alqu  otros_ing  \n",
       "0         1956.49     8709.67        0.0  \n",
       "1            0.00     2903.22        0.0  \n",
       "2            0.00     3483.87        0.0  \n",
       "3            0.00     5806.45        0.0  \n",
       "4            0.00     5806.45        0.0  \n",
       "...           ...         ...        ...  \n",
       "28781      899.99     3000.00        0.0  \n",
       "28782        0.00     3000.00        0.0  \n",
       "28783        0.00     1500.00        0.0  \n",
       "28784        0.00     3000.00        0.0  \n",
       "28785      514.28     4500.00        0.0  \n",
       "\n",
       "[28786 rows x 40 columns]"
      ]
     },
     "metadata": {},
     "output_type": "display_data"
    }
   ],
   "source": [
    "data"
   ]
  },
  {
   "cell_type": "code",
   "execution_count": 35,
   "id": "billion-walnut",
   "metadata": {},
   "outputs": [
    {
     "data": {
      "application/vnd.jupyter.widget-view+json": {
       "model_id": "b567302537e943f4ba392aa08beaa7b4"
      },
      "text/plain": [
       "                 tipo_hogar   trabajo   sueldos  agrope  noagrop\n",
       "0      Sin ingresos propios  11972.31   7336.95     0.0     0.00\n",
       "1      Sin ingresos propios  19711.94   7116.84     0.0     0.00\n",
       "2      Sin ingresos propios  17021.72  15260.86     0.0     0.00\n",
       "3                       UFR  41822.58  41431.28     0.0  1173.91\n",
       "4                       UFR  14307.06  12717.39     0.0  5429.34\n",
       "...                     ...       ...       ...     ...      ...\n",
       "28781  Sin ingresos propios      0.00      0.00     0.0     0.00\n",
       "28782                   UFR      0.00      0.00     0.0  1239.34\n",
       "28783  Sin ingresos propios      0.00      0.00     0.0     0.00\n",
       "28784  Sin ingresos propios  18836.06  18836.06     0.0     0.00\n",
       "28785  Sin ingresos propios  37278.67  34819.66     0.0     0.00\n",
       "\n",
       "[28786 rows x 5 columns]"
      ]
     },
     "metadata": {},
     "output_type": "display_data"
    }
   ],
   "source": [
    "data.filter(['tipo_hogar','trabajo','sueldos','agrope','noagrop'])"
   ]
  },
  {
   "cell_type": "code",
   "execution_count": 37,
   "id": "cooked-police",
   "metadata": {},
   "outputs": [
    {
     "data": {
      "text/plain": [
       "array(['folioviv', 'CUmun2', 'Region', 'tocupa', 'ingreso mensual', 'LP',\n",
       "       'tipo_hogar', 'ingtrab', 'trabajo', 'sueldos', 'horas_extr',\n",
       "       'comisiones', 'aguinaldo', 'indemtrab', 'otra_rem', 'remu_espec',\n",
       "       'negocio', 'noagrop', 'industria', 'comercio', 'servicios',\n",
       "       'agrope', 'agricolas', 'pecuarios', 'reproducc', 'pesca',\n",
       "       'otros_trab', 'rentas', 'utilidad', 'arrenda', 'transfer',\n",
       "       'jubilacion', 'becas', 'donativos', 'remesas', 'bene_gob',\n",
       "       'transf_hog', 'trans_inst', 'estim_alqu', 'otros_ing'],\n",
       "      dtype=object)"
      ]
     },
     "execution_count": 37,
     "metadata": {},
     "output_type": "execute_result"
    }
   ],
   "source": [
    "data.keys().values"
   ]
  },
  {
   "cell_type": "code",
   "execution_count": 42,
   "id": "interesting-drama",
   "metadata": {},
   "outputs": [],
   "source": [
    "for i in DataFrame(data.groupby('Region'))[1]:\n",
    "    tabla=i.pivot_table(index=['CUmun2'],columns=['tipo_hogar'],aggfunc=sum)"
   ]
  },
  {
   "cell_type": "code",
   "execution_count": 43,
   "id": "million-removal",
   "metadata": {},
   "outputs": [
    {
     "data": {
      "application/vnd.jupyter.widget-view+json": {
       "model_id": "a018bae4221b45abb7b7f34f66818b28"
      },
      "text/plain": [
       "                      agricolas                              \\\n",
       "tipo_hogar Sin ingresos propios         UCE       UCEP  UFR   \n",
       "CUmun2                                                        \n",
       "1                           0.0   388855.12  133997.34  0.0   \n",
       "2                           0.0    50813.34   45317.18  0.0   \n",
       "3                           0.0  2120860.92  714686.61  0.0   \n",
       "4                           0.0  2859219.05  910779.42  0.0   \n",
       "\n",
       "                         agrope                               \\\n",
       "tipo_hogar Sin ingresos propios         UCE        UCEP  UFR   \n",
       "CUmun2                                                         \n",
       "1                           0.0   719090.58   199523.80  0.0   \n",
       "2                           0.0    86126.21    53413.76  0.0   \n",
       "3                           0.0  4150367.49  1451888.03  0.0   \n",
       "4                           0.0  4320025.88  1239846.61  0.0   \n",
       "\n",
       "                      aguinaldo             ... transf_hog             \\\n",
       "tipo_hogar Sin ingresos propios        UCE  ...       UCEP        UFR   \n",
       "CUmun2                                      ...                         \n",
       "1                     246386.60   66415.57  ...   41497.19  162112.38   \n",
       "2                      82383.00   26060.80  ...   17430.96   72076.53   \n",
       "3                     684325.62  244760.36  ...  279560.48  619982.14   \n",
       "4                     195395.37  142940.05  ...  197137.03  223023.44   \n",
       "\n",
       "                       transfer                                      \\\n",
       "tipo_hogar Sin ingresos propios         UCE        UCEP         UFR   \n",
       "CUmun2                                                                \n",
       "1                    2185930.32   536017.75   386216.40   845733.29   \n",
       "2                     434963.95   372049.64   134185.69   423885.43   \n",
       "3                    8191113.80  5952299.74  2331139.68  3403865.85   \n",
       "4                    3704541.29  6336320.46  1952862.14  1705216.49   \n",
       "\n",
       "                       utilidad                                   \n",
       "tipo_hogar Sin ingresos propios        UCE       UCEP        UFR  \n",
       "CUmun2                                                            \n",
       "1                     107809.32   31278.68   17860.10    2271.52  \n",
       "2                      21061.46   26712.17       0.00   11959.23  \n",
       "3                     513387.04  209614.98  120403.57  108122.06  \n",
       "4                     597253.60  167567.32   43415.72  134073.22  \n",
       "\n",
       "[4 rows x 140 columns]"
      ]
     },
     "metadata": {},
     "output_type": "display_data"
    }
   ],
   "source": [
    "tabla.columns = [\"_\".join([str(index) for index in multi_index]) for multi_index in tabla.columns.ravel()]\n",
    "tabla = tabla.reset_index()\n",
    "tabla"
   ]
  },
  {
   "cell_type": "code",
   "execution_count": 44,
   "id": "amazing-filling",
   "metadata": {},
   "outputs": [
    {
     "data": {
      "application/vnd.jupyter.widget-view+json": {
       "model_id": "84664e64ccf84f7996f37dc082fc09a3"
      },
      "text/plain": [
       "                      agricolas                              \\\n",
       "tipo_hogar Sin ingresos propios         UCE       UCEP  UFR   \n",
       "CUmun2                                                        \n",
       "1                           0.0   388855.12  133997.34  0.0   \n",
       "2                           0.0    50813.34   45317.18  0.0   \n",
       "3                           0.0  2120860.92  714686.61  0.0   \n",
       "4                           0.0  2859219.05  910779.42  0.0   \n",
       "\n",
       "                         agrope                               \\\n",
       "tipo_hogar Sin ingresos propios         UCE        UCEP  UFR   \n",
       "CUmun2                                                         \n",
       "1                           0.0   719090.58   199523.80  0.0   \n",
       "2                           0.0    86126.21    53413.76  0.0   \n",
       "3                           0.0  4150367.49  1451888.03  0.0   \n",
       "4                           0.0  4320025.88  1239846.61  0.0   \n",
       "\n",
       "                      aguinaldo             ... transf_hog             \\\n",
       "tipo_hogar Sin ingresos propios        UCE  ...       UCEP        UFR   \n",
       "CUmun2                                      ...                         \n",
       "1                     246386.60   66415.57  ...   41497.19  162112.38   \n",
       "2                      82383.00   26060.80  ...   17430.96   72076.53   \n",
       "3                     684325.62  244760.36  ...  279560.48  619982.14   \n",
       "4                     195395.37  142940.05  ...  197137.03  223023.44   \n",
       "\n",
       "                       transfer                                      \\\n",
       "tipo_hogar Sin ingresos propios         UCE        UCEP         UFR   \n",
       "CUmun2                                                                \n",
       "1                    2185930.32   536017.75   386216.40   845733.29   \n",
       "2                     434963.95   372049.64   134185.69   423885.43   \n",
       "3                    8191113.80  5952299.74  2331139.68  3403865.85   \n",
       "4                    3704541.29  6336320.46  1952862.14  1705216.49   \n",
       "\n",
       "                       utilidad                                   \n",
       "tipo_hogar Sin ingresos propios        UCE       UCEP        UFR  \n",
       "CUmun2                                                            \n",
       "1                     107809.32   31278.68   17860.10    2271.52  \n",
       "2                      21061.46   26712.17       0.00   11959.23  \n",
       "3                     513387.04  209614.98  120403.57  108122.06  \n",
       "4                     597253.60  167567.32   43415.72  134073.22  \n",
       "\n",
       "[4 rows x 140 columns]"
      ]
     },
     "metadata": {},
     "output_type": "display_data"
    }
   ],
   "source": [
    "tabla\n",
    "tabla.columns = [\"_\".join([str(index) for index in multi_index]) for multi_index in tabla.columns.ravel()]\n",
    "tabla = tabla.reset_index()\n",
    "tabla"
   ]
  },
  {
   "cell_type": "code",
   "execution_count": 45,
   "id": "everyday-consensus",
   "metadata": {},
   "outputs": [
    {
     "data": {
      "application/vnd.jupyter.widget-view+json": {
       "model_id": "0c44650767494de3985330dd7d9c770a"
      },
      "text/plain": [
       "         folioviv  CUmun2  Region tocupa  ingreso mensual     LP  \\\n",
       "0       160009403       1  Centro   Alta     16203.990000  sobre   \n",
       "1       160009407       1  Centro   Alta     10305.463333  sobre   \n",
       "2       160009411       1  Centro  Media      6900.413333  sobre   \n",
       "3       160009415       1  Centro   Alta     16267.646667  sobre   \n",
       "4       160009419       1  Centro  Media     11449.063333  sobre   \n",
       "...           ...     ...     ...    ...              ...    ...   \n",
       "28781  3260770714       3   Norte  Media      4742.616667  sobre   \n",
       "28782  3260770715       3   Norte   Alta      4626.223333  sobre   \n",
       "28783  3260770716       3   Norte   Alta      6701.613333  sobre   \n",
       "28784  3260770717       3   Norte   Baja      8655.733333  sobre   \n",
       "28785  3260770718       3   Norte   Alta     15138.386667  sobre   \n",
       "\n",
       "                 tipo_hogar   ingtrab   trabajo   sueldos  ...  transfer  \\\n",
       "0      Sin ingresos propios  11972.31  11972.31   7336.95  ...  25958.80   \n",
       "1      Sin ingresos propios  19711.94  19711.94   7116.84  ...   8301.23   \n",
       "2      Sin ingresos propios  17021.72  17021.72  15260.86  ...    195.65   \n",
       "3                       UFR  42996.49  41822.58  41431.28  ...      0.00   \n",
       "4                       UFR  28540.74  14307.06  12717.39  ...      0.00   \n",
       "...                     ...       ...       ...       ...  ...       ...   \n",
       "28781  Sin ingresos propios   9442.62      0.00      0.00  ...   1785.23   \n",
       "28782                   UFR   1239.34      0.00      0.00  ...   9639.33   \n",
       "28783  Sin ingresos propios      0.00      0.00      0.00  ...  18604.84   \n",
       "28784  Sin ingresos propios  21196.71  18836.06  18836.06  ...   1770.49   \n",
       "28785  Sin ingresos propios  37278.67  37278.67  34819.66  ...   3636.49   \n",
       "\n",
       "       jubilacion  becas  donativos  remesas  bene_gob  transf_hog  \\\n",
       "0        13206.52    0.0       0.00   684.78   6896.73     3214.28   \n",
       "1            0.00    0.0       0.00     0.00   5086.95     3214.28   \n",
       "2            0.00    0.0     195.65     0.00      0.00        0.00   \n",
       "3            0.00    0.0       0.00     0.00      0.00        0.00   \n",
       "4            0.00    0.0       0.00     0.00      0.00        0.00   \n",
       "...           ...    ...        ...      ...       ...         ...   \n",
       "28781        0.00    0.0       0.00   885.24      0.00        0.00   \n",
       "28782        0.00    0.0       0.00     0.00   9639.33        0.00   \n",
       "28783        0.00    0.0       0.00  6639.34   2065.57     9899.93   \n",
       "28784        0.00    0.0       0.00  1770.49      0.00        0.00   \n",
       "28785        0.00    0.0    1967.21     0.00      0.00     1155.00   \n",
       "\n",
       "       trans_inst  estim_alqu  otros_ing  \n",
       "0         1956.49     8709.67        0.0  \n",
       "1            0.00     2903.22        0.0  \n",
       "2            0.00     3483.87        0.0  \n",
       "3            0.00     5806.45        0.0  \n",
       "4            0.00     5806.45        0.0  \n",
       "...           ...         ...        ...  \n",
       "28781      899.99     3000.00        0.0  \n",
       "28782        0.00     3000.00        0.0  \n",
       "28783        0.00     1500.00        0.0  \n",
       "28784        0.00     3000.00        0.0  \n",
       "28785      514.28     4500.00        0.0  \n",
       "\n",
       "[28786 rows x 40 columns]"
      ]
     },
     "metadata": {},
     "output_type": "display_data"
    }
   ],
   "source": [
    "data\n"
   ]
  },
  {
   "cell_type": "code",
   "execution_count": 67,
   "id": "moderate-training",
   "metadata": {},
   "outputs": [],
   "source": [
    "TiposHogares={'folioviv':[],'TipoHogar':[]}\n",
    "for i in range(len(rurales)):\n",
    "    TiposHogares['folioviv'].append(rurales['folioviv'][i])\n",
    "    if rurales['agrope'][i]>0 and rurales['sueldos'][i] == 0 and rurales['noagrop'][i]==0:\n",
    "        TiposHogares['TipoHogar'].append('UEC')\n",
    "    elif rurales['agrope'][i]>0 and rurales['sueldos'][i] >= 0 and rurales['noagrop'][i] > 0:\n",
    "        TiposHogares['TipoHogar'].append('UECP')\n",
    "    elif rurales['agrope'][i]==0 and rurales['sueldos'][i] >= 0 and rurales['noagrop'][i] > 0:\n",
    "        TiposHogares['TipoHogar'].append('UFR')\n",
    "    elif rurales['agrope'][i]==0 and rurales['sueldos'][i] == 0 and rurales['noagrop'][i] == 0:\n",
    "        TiposHogares['TipoHogar'].append('SIP')\n",
    "    else:\n",
    "        TiposHogares['TipoHogar'].append('AR')\n",
    "    "
   ]
  },
  {
   "cell_type": "code",
   "execution_count": 55,
   "id": "sudden-climb",
   "metadata": {},
   "outputs": [
    {
     "data": {
      "application/vnd.jupyter.widget-view+json": {
       "model_id": "b469c038b8dc4861adfdbae7dfc7031f"
      },
      "text/plain": [
       "         folioviv TipoHogar\n",
       "0       160009403      otro\n",
       "1       160009407      otro\n",
       "2       160009411      otro\n",
       "3       160009415       UFR\n",
       "4       160009419       UFR\n",
       "...           ...       ...\n",
       "28781  3260770714       SIP\n",
       "28782  3260770715      otro\n",
       "28783  3260770716       SIP\n",
       "28784  3260770717      otro\n",
       "28785  3260770718      otro\n",
       "\n",
       "[28786 rows x 2 columns]"
      ]
     },
     "metadata": {},
     "output_type": "display_data"
    }
   ],
   "source": [
    "DataFrame(TiposHogares)"
   ]
  },
  {
   "cell_type": "code",
   "execution_count": 59,
   "id": "cooperative-concord",
   "metadata": {},
   "outputs": [
    {
     "data": {
      "application/vnd.jupyter.widget-view+json": {
       "model_id": "f17787bf4f894fc9a3e56e537c3ca137"
      },
      "text/plain": [
       "         folioviv  foliohog  pertenece a etnia  no pertenece a etnia  \\\n",
       "0       160009403         1                  0                     3   \n",
       "1       160009407         1                  0                     4   \n",
       "2       160009411         1                  0                     4   \n",
       "3       160009415         1                  0                     3   \n",
       "4       160009419         1                  0                     5   \n",
       "...           ...       ...                ...                   ...   \n",
       "29697  3260770714         1                  0                     2   \n",
       "29698  3260770715         1                  0                     2   \n",
       "29699  3260770716         1                  0                     3   \n",
       "29700  3260770717         1                  0                     7   \n",
       "29701  3260770718         1                  0                     3   \n",
       "\n",
       "       15 o menos  16-29  30-59  60 o mas  numren  ubica_geo  ...   LPEI  \\\n",
       "0               0      0      1         2       3       1001  ...  sobre   \n",
       "1               1      1      2         0       4       1001  ...  sobre   \n",
       "2               2      0      2         0       4       1001  ...  sobre   \n",
       "3               0      2      1         0       3       1001  ...  sobre   \n",
       "4               3      0      2         0       5       1001  ...  sobre   \n",
       "...           ...    ...    ...       ...     ...        ...  ...    ...   \n",
       "29697           0      0      0         2       2      32012  ...  sobre   \n",
       "29698           0      0      0         2       2      32012  ...  sobre   \n",
       "29699           1      0      2         0       3      32012  ...  sobre   \n",
       "29700           3      2      2         0       7      32012  ...  sobre   \n",
       "29701           0      0      2         1       3      32012  ...  sobre   \n",
       "\n",
       "       tasa ocupacional  tocupa  CUmun  CUmun2  CUmun3     LP  \\\n",
       "0                 66.67    Alta    NaN       1     NaN  sobre   \n",
       "1                 75.00    Alta    NaN       1     NaN  sobre   \n",
       "2                 50.00   Media    NaN       1     NaN  sobre   \n",
       "3                100.00    Alta    NaN       1     NaN  sobre   \n",
       "4                 60.00   Media    NaN       1     NaN  sobre   \n",
       "...                 ...     ...    ...     ...     ...    ...   \n",
       "29697             50.00   Media    NaN       3     3.0  sobre   \n",
       "29698            100.00    Alta    NaN       3     3.0  sobre   \n",
       "29699             66.67    Alta    NaN       3     3.0  sobre   \n",
       "29700             28.57    Baja    NaN       3     3.0  sobre   \n",
       "29701             66.67    Alta    NaN       3     3.0  sobre   \n",
       "\n",
       "       Ingreso mensual  ingreso mensual  TipoHogar  \n",
       "0         9.722394e+05     16203.990000       otro  \n",
       "1         6.183278e+05     10305.463333       otro  \n",
       "2         4.140248e+05      6900.413333       otro  \n",
       "3         9.760588e+05     16267.646667        UFR  \n",
       "4         6.869438e+05     11449.063333        UFR  \n",
       "...                ...              ...        ...  \n",
       "29697     6.070549e+05      4742.616667        SIP  \n",
       "29698     5.921566e+05      4626.223333       otro  \n",
       "29699     8.578065e+05      6701.613333        SIP  \n",
       "29700     1.107934e+06      8655.733333       otro  \n",
       "29701     1.937713e+06     15138.386667       otro  \n",
       "\n",
       "[29702 rows x 163 columns]"
      ]
     },
     "metadata": {},
     "output_type": "display_data"
    }
   ],
   "source": [
    "rurales.merge(DataFrame(TiposHogares),on='folioviv')"
   ]
  },
  {
   "cell_type": "code",
   "execution_count": 68,
   "id": "sized-clearance",
   "metadata": {},
   "outputs": [],
   "source": [
    "rurales['TipoHogar']=TiposHogares['TipoHogar']"
   ]
  },
  {
   "cell_type": "code",
   "execution_count": 75,
   "id": "criminal-result",
   "metadata": {},
   "outputs": [
    {
     "data": {
      "application/vnd.jupyter.widget-view+json": {
       "model_id": "542fdf849a0a4e2f9bdafd41fcadfcc6"
      },
      "text/plain": [
       "       folioviv                                                         \\\n",
       "          count          mean           std          min           25%   \n",
       "Region                                                                   \n",
       "Centro  10651.0  1.488837e+09  6.931419e+08  160009403.0  1.160701e+09   \n",
       "Norte   11595.0  1.573919e+09  1.015693e+09  260002507.0  8.600488e+08   \n",
       "Sur      6540.0  1.876284e+09  9.047675e+08  460006414.0  1.260111e+09   \n",
       "\n",
       "                                                   CUmun2            ...  \\\n",
       "                 50%           75%           max    count      mean  ...   \n",
       "Region                                                               ...   \n",
       "Centro  1.461228e+09  2.161095e+09  2.960282e+09  10651.0  2.316121  ...   \n",
       "Norte   1.860089e+09  2.460974e+09  3.260771e+09  11595.0  3.152997  ...   \n",
       "Sur     2.060678e+09  2.760427e+09  3.160507e+09   6540.0  3.141896  ...   \n",
       "\n",
       "         sueldos            remesas                                           \\\n",
       "             75%       max    count         mean          std  min  25%  50%   \n",
       "Region                                                                         \n",
       "Centro  25434.78  94426.21  10651.0  1118.058841  5097.806770  0.0  0.0  0.0   \n",
       "Norte   25759.15  99293.47  11595.0   923.410428  4667.073672  0.0  0.0  0.0   \n",
       "Sur     14086.94  91369.55   6540.0   478.842609  2688.059073  0.0  0.0  0.0   \n",
       "\n",
       "                       \n",
       "        75%       max  \n",
       "Region                 \n",
       "Centro  0.0  82622.95  \n",
       "Norte   0.0  94426.22  \n",
       "Sur     0.0  43278.68  \n",
       "\n",
       "[3 rows x 48 columns]"
      ]
     },
     "metadata": {},
     "output_type": "display_data"
    }
   ],
   "source": [
    "rurales.filter(['Region','folioviv','CUmun2','TipoHogar','tipo_hogar','noagrop','agrope','sueldos','remesas'])."
   ]
  },
  {
   "cell_type": "code",
   "execution_count": 66,
   "id": "second-planning",
   "metadata": {},
   "outputs": [
    {
     "data": {
      "application/vnd.jupyter.widget-view+json": {
       "model_id": "7dc6733e6a4948d5b16b5bf73aa25b6b"
      },
      "text/plain": [
       "         folioviv  foliohog  pertenece a etnia  no pertenece a etnia  \\\n",
       "0       160009403         1                  0                     3   \n",
       "1       160009407         1                  0                     4   \n",
       "2       160009411         1                  0                     4   \n",
       "5       160009423         1                  0                     5   \n",
       "10      160009617         1                  0                     1   \n",
       "...           ...       ...                ...                   ...   \n",
       "28776  3260770521         1                  0                     3   \n",
       "28777  3260770522         1                  0                     2   \n",
       "28778  3260770523         1                  0                     3   \n",
       "28784  3260770717         1                  0                     7   \n",
       "28785  3260770718         1                  0                     3   \n",
       "\n",
       "       15 o menos  16-29  30-59  60 o mas  numren  ubica_geo  ...   LPEI  \\\n",
       "0               0      0      1         2       3       1001  ...  sobre   \n",
       "1               1      1      2         0       4       1001  ...  sobre   \n",
       "2               2      0      2         0       4       1001  ...  sobre   \n",
       "5               1      2      2         0       5       1001  ...  sobre   \n",
       "10              0      0      1         0       1       1001  ...  sobre   \n",
       "...           ...    ...    ...       ...     ...        ...  ...    ...   \n",
       "28776           1      1      1         0       3      32012  ...  sobre   \n",
       "28777           1      2      0         0       3      32012  ...  sobre   \n",
       "28778           3      1      1         0       5      32012  ...  sobre   \n",
       "28784           3      2      2         0       7      32012  ...  sobre   \n",
       "28785           0      0      2         1       3      32012  ...  sobre   \n",
       "\n",
       "       tasa ocupacional  tocupa  CUmun  CUmun2  CUmun3     LP  \\\n",
       "0                 66.67    Alta    NaN       1     NaN  sobre   \n",
       "1                 75.00    Alta    NaN       1     NaN  sobre   \n",
       "2                 50.00   Media    NaN       1     NaN  sobre   \n",
       "5                 40.00   Media    NaN       1     NaN  sobre   \n",
       "10               100.00    Alta    NaN       1     NaN  sobre   \n",
       "...                 ...     ...    ...     ...     ...    ...   \n",
       "28776             33.33   Media    NaN       3     3.0  sobre   \n",
       "28777             33.33   Media    NaN       3     3.0  sobre   \n",
       "28778             20.00    Baja    NaN       3     3.0  sobre   \n",
       "28784             28.57    Baja    NaN       3     3.0  sobre   \n",
       "28785             66.67    Alta    NaN       3     3.0  sobre   \n",
       "\n",
       "       Ingreso mensual  ingreso mensual  TipoHogar  \n",
       "0         9.722394e+05     16203.990000       otro  \n",
       "1         6.183278e+05     10305.463333       otro  \n",
       "2         4.140248e+05      6900.413333       otro  \n",
       "5         1.488628e+06     24810.470000       otro  \n",
       "10        5.323618e+05      8872.696667       otro  \n",
       "...                ...              ...        ...  \n",
       "28776     7.322782e+05      5720.923333       otro  \n",
       "28777     6.866756e+05      5364.653333       otro  \n",
       "28778     7.201604e+05      5626.253333       otro  \n",
       "28784     1.107934e+06      8655.733333       otro  \n",
       "28785     1.937713e+06     15138.386667       otro  \n",
       "\n",
       "[16313 rows x 163 columns]"
      ]
     },
     "metadata": {},
     "output_type": "display_data"
    }
   ],
   "source": [
    "rurales.loc[rurales['TipoHogar']=='otro']"
   ]
  },
  {
   "cell_type": "code",
   "execution_count": null,
   "id": "integral-meter",
   "metadata": {},
   "outputs": [],
   "source": []
  }
 ],
 "metadata": {
  "kernelspec": {
   "display_name": "Python 3",
   "language": "python",
   "name": "python3"
  },
  "language_info": {
   "codemirror_mode": {
    "name": "ipython",
    "version": 3
   },
   "file_extension": ".py",
   "mimetype": "text/x-python",
   "name": "python",
   "nbconvert_exporter": "python",
   "pygments_lexer": "ipython3",
   "version": "3.9.2"
  }
 },
 "nbformat": 4,
 "nbformat_minor": 5
}
