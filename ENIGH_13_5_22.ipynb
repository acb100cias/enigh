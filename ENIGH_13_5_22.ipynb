{
 "cells": [
  {
   "cell_type": "code",
   "execution_count": 1,
   "id": "seventh-marshall",
   "metadata": {},
   "outputs": [
    {
     "name": "stderr",
     "output_type": "stream",
     "text": [
      "/usr/local/lib/python3.9/dist-packages/pandas/compat/_optional.py:149: UserWarning: Pandas requires version '1.3.1' or newer of 'bottleneck' (version '1.2.1' currently installed).\n",
      "  warnings.warn(msg, UserWarning)\n"
     ]
    }
   ],
   "source": [
    "from pandas import *\n",
    "from numpy import *\n",
    "import bamboolib"
   ]
  },
  {
   "cell_type": "code",
   "execution_count": 2,
   "id": "traditional-arcade",
   "metadata": {},
   "outputs": [],
   "source": [
    "data=read_csv('rurales20_9_5_2022.csv')"
   ]
  },
  {
   "cell_type": "code",
   "execution_count": 60,
   "id": "lightweight-short",
   "metadata": {},
   "outputs": [],
   "source": [
    "T1=DataFrame(data.groupby('Region').pob_aprox.sum())"
   ]
  },
  {
   "cell_type": "code",
   "execution_count": 41,
   "id": "instant-boston",
   "metadata": {},
   "outputs": [
    {
     "data": {
      "text/plain": [
       "pob_aprox    24164771\n",
       "dtype: int64"
      ]
     },
     "execution_count": 41,
     "metadata": {},
     "output_type": "execute_result"
    }
   ],
   "source": [
    "DataFrame(T1).sum()"
   ]
  },
  {
   "cell_type": "code",
   "execution_count": 90,
   "id": "raising-coffee",
   "metadata": {},
   "outputs": [
    {
     "data": {
      "text/plain": [
       "array(['folioviv', 'foliohog', 'pertenece a etnia',\n",
       "       'no pertenece a etnia', '15 o menos', '16-29', '30-59', '60 o mas',\n",
       "       'numren', 'ubica_geo', 'tam_loc', 'est_socio', 'est_dis', 'upm',\n",
       "       'factor', 'clase_hog', 'sexo_jefe', 'edad_jefe', 'educa_jefe',\n",
       "       'tot_integ', 'hombres', 'mujeres', 'mayores', 'menores', 'p12_64',\n",
       "       'p65mas', 'ocupados', 'percep_ing', 'perc_ocupa', 'ing_cor',\n",
       "       'ingtrab', 'trabajo', 'sueldos', 'horas_extr', 'comisiones',\n",
       "       'aguinaldo', 'indemtrab', 'otra_rem', 'remu_espec', 'negocio',\n",
       "       'noagrop', 'industria', 'comercio', 'servicios', 'agrope',\n",
       "       'agricolas', 'pecuarios', 'reproducc', 'pesca', 'otros_trab',\n",
       "       'rentas', 'utilidad', 'arrenda', 'transfer', 'jubilacion', 'becas',\n",
       "       'donativos', 'remesas', 'bene_gob', 'transf_hog', 'trans_inst',\n",
       "       'estim_alqu', 'otros_ing', 'gasto_mon', 'alimentos', 'ali_dentro',\n",
       "       'cereales', 'carnes', 'pescado', 'leche', 'huevo', 'aceites',\n",
       "       'tuberculo', 'verduras', 'frutas', 'azucar', 'cafe', 'especias',\n",
       "       'otros_alim', 'bebidas', 'ali_fuera', 'tabaco', 'vesti_calz',\n",
       "       'vestido', 'calzado', 'vivienda', 'alquiler', 'pred_cons', 'agua',\n",
       "       'energia', 'limpieza', 'cuidados', 'utensilios', 'enseres',\n",
       "       'salud', 'atenc_ambu', 'hospital', 'medicinas', 'transporte',\n",
       "       'publico', 'foraneo', 'adqui_vehi', 'mantenim', 'refaccion',\n",
       "       'combus', 'comunica', 'educa_espa', 'educacion', 'esparci',\n",
       "       'paq_turist', 'personales', 'cuida_pers', 'acces_pers',\n",
       "       'otros_gas', 'transf_gas', 'percep_tot', 'retiro_inv', 'prestamos',\n",
       "       'otras_perc', 'ero_nm_viv', 'ero_nm_hog', 'erogac_tot',\n",
       "       'cuota_viv', 'mater_serv', 'material', 'servicio', 'deposito',\n",
       "       'prest_terc', 'pago_tarje', 'deudas', 'balance', 'otras_erog',\n",
       "       'smg', 'TamLoc', 'entidad', 'desc_ent', 'municipio', 'des_mun',\n",
       "       'Region', 'pob_aprox', 'total_mujeres', 'total_hombres',\n",
       "       'T_15 o menos', 'T_16-29', 'T_30-59', 'T_60 o mas', 'T_numren',\n",
       "       'tipo_hogar', 'TT_15 o menos', 'TT_16-29', 'TT_30-59',\n",
       "       'TT_60 o mas', 'LPI', 'LPEI', 'tasa ocupacional', 'tocupa',\n",
       "       'CUmun', 'CUmun2', 'CUmun3', 'LP', 'Ingreso mensual',\n",
       "       'ingreso mensual'], dtype=object)"
      ]
     },
     "execution_count": 90,
     "metadata": {},
     "output_type": "execute_result"
    }
   ],
   "source": [
    "data.keys().values"
   ]
  },
  {
   "cell_type": "code",
   "execution_count": 64,
   "id": "functioning-denmark",
   "metadata": {},
   "outputs": [],
   "source": [
    "T1.append(DataFrame({'pob_aprox':T1.sum()})).rename(columns={'pob_aprox':'Población rural total'},index={'pob_aprox':'Total'}).to_excel('tabla1_poblacion_rural_por_region.xls')"
   ]
  },
  {
   "cell_type": "markdown",
   "id": "practical-abraham",
   "metadata": {},
   "source": [
    "T2=data.filter(])"
   ]
  },
  {
   "cell_type": "code",
   "execution_count": 89,
   "id": "precise-break",
   "metadata": {},
   "outputs": [],
   "source": [
    "T2=data.filter(['Region','factor','pob_aprox']).pivot_table(index='Region',aggfunc=[sum],margins=True,margins_name='Total').droplevel(level=0,axis=1).rename(columns={'factor':'Hogares rurales','pob_aprox':'Población total rural'}).to_excel('tabla2_poblacion_rural_por_region')"
   ]
  },
  {
   "cell_type": "code",
   "execution_count": 3,
   "id": "noble-destruction",
   "metadata": {},
   "outputs": [],
   "source": [
    "T3=data.filter(['Region','pob_aprox','total_mujeres','total_hombres']).groupby('Region').sum()#.pivot_table(index='Region',aggfunc=sum)"
   ]
  },
  {
   "cell_type": "code",
   "execution_count": 4,
   "id": "faced-drama",
   "metadata": {},
   "outputs": [],
   "source": [
    "T3['% Hombres']=round((T3['total_hombres']*100)/T3['total_hombres'].sum(),2)\n",
    "T3['% Mujeres']=round((T3['total_mujeres']*100)/T3['total_mujeres'].sum(),2)"
   ]
  },
  {
   "cell_type": "code",
   "execution_count": 5,
   "id": "pursuant-brazil",
   "metadata": {},
   "outputs": [
    {
     "data": {
      "application/vnd.jupyter.widget-view+json": {
       "model_id": "e78b1259aeee47aebcd9ccb92ae0334f"
      },
      "text/plain": [
       "        pob_aprox  total_mujeres  total_hombres  % Hombres  % Mujeres\n",
       "Region                                                               \n",
       "Centro   10216855        5233243        4983612      42.04      42.51\n",
       "Norte     5602454        2787143        2815311      23.75      22.64\n",
       "Sur       8345462        4289468        4055994      34.21      34.85"
      ]
     },
     "metadata": {},
     "output_type": "display_data"
    }
   ],
   "source": [
    "T3 = T3.reset_index()\n",
    "T3"
   ]
  },
  {
   "cell_type": "code",
   "execution_count": 136,
   "id": "experienced-lincoln",
   "metadata": {},
   "outputs": [],
   "source": [
    "T3['Población promedio por hogar']=data.groupby('Region').tot_integ.mean().round(2)"
   ]
  },
  {
   "cell_type": "code",
   "execution_count": 131,
   "id": "stuffed-healthcare",
   "metadata": {},
   "outputs": [],
   "source": []
  },
  {
   "cell_type": "code",
   "execution_count": 150,
   "id": "textile-preference",
   "metadata": {},
   "outputs": [],
   "source": [
    "T3=T3.append(DataFrame(T3.sum()).rename(columns={0:'Total'}).T)"
   ]
  },
  {
   "cell_type": "code",
   "execution_count": 152,
   "id": "military-telescope",
   "metadata": {},
   "outputs": [],
   "source": [
    "T3.to_excel('tabla3_poblaci0n_rural_total_por_región_sexo_y_porcentaje.xls')"
   ]
  },
  {
   "cell_type": "code",
   "execution_count": 165,
   "id": "blocked-death",
   "metadata": {},
   "outputs": [],
   "source": [
    "T4=data.filter(['Region','sexo_jefe','factor']).pivot_table(index='Region',columns='sexo_jefe',aggfunc=sum,margins=True,margins_name='Total').droplevel(level=0,axis=1).rename(columns={1:'Hombre',2:'Mujer'})"
   ]
  },
  {
   "cell_type": "code",
   "execution_count": 168,
   "id": "extensive-strength",
   "metadata": {},
   "outputs": [],
   "source": [
    "T4['% Hombre']=round((T4['Hombre']/T4['Total'])*100,2)\n",
    "T4['% Mujer']=round((T4['Mujer']/T4['Total'])*100,2)"
   ]
  },
  {
   "cell_type": "code",
   "execution_count": 170,
   "id": "changed-religious",
   "metadata": {},
   "outputs": [],
   "source": [
    "T4.to_excel('Tabla4_Total_de_hogares_por_jefatura_de_hogar_segun_sexo_y_region.xls')"
   ]
  },
  {
   "cell_type": "code",
   "execution_count": 171,
   "id": "related-rental",
   "metadata": {},
   "outputs": [
    {
     "data": {
      "text/plain": [
       "array(['folioviv', 'foliohog', 'pertenece a etnia',\n",
       "       'no pertenece a etnia', '15 o menos', '16-29', '30-59', '60 o mas',\n",
       "       'numren', 'ubica_geo', 'tam_loc', 'est_socio', 'est_dis', 'upm',\n",
       "       'factor', 'clase_hog', 'sexo_jefe', 'edad_jefe', 'educa_jefe',\n",
       "       'tot_integ', 'hombres', 'mujeres', 'mayores', 'menores', 'p12_64',\n",
       "       'p65mas', 'ocupados', 'percep_ing', 'perc_ocupa', 'ing_cor',\n",
       "       'ingtrab', 'trabajo', 'sueldos', 'horas_extr', 'comisiones',\n",
       "       'aguinaldo', 'indemtrab', 'otra_rem', 'remu_espec', 'negocio',\n",
       "       'noagrop', 'industria', 'comercio', 'servicios', 'agrope',\n",
       "       'agricolas', 'pecuarios', 'reproducc', 'pesca', 'otros_trab',\n",
       "       'rentas', 'utilidad', 'arrenda', 'transfer', 'jubilacion', 'becas',\n",
       "       'donativos', 'remesas', 'bene_gob', 'transf_hog', 'trans_inst',\n",
       "       'estim_alqu', 'otros_ing', 'gasto_mon', 'alimentos', 'ali_dentro',\n",
       "       'cereales', 'carnes', 'pescado', 'leche', 'huevo', 'aceites',\n",
       "       'tuberculo', 'verduras', 'frutas', 'azucar', 'cafe', 'especias',\n",
       "       'otros_alim', 'bebidas', 'ali_fuera', 'tabaco', 'vesti_calz',\n",
       "       'vestido', 'calzado', 'vivienda', 'alquiler', 'pred_cons', 'agua',\n",
       "       'energia', 'limpieza', 'cuidados', 'utensilios', 'enseres',\n",
       "       'salud', 'atenc_ambu', 'hospital', 'medicinas', 'transporte',\n",
       "       'publico', 'foraneo', 'adqui_vehi', 'mantenim', 'refaccion',\n",
       "       'combus', 'comunica', 'educa_espa', 'educacion', 'esparci',\n",
       "       'paq_turist', 'personales', 'cuida_pers', 'acces_pers',\n",
       "       'otros_gas', 'transf_gas', 'percep_tot', 'retiro_inv', 'prestamos',\n",
       "       'otras_perc', 'ero_nm_viv', 'ero_nm_hog', 'erogac_tot',\n",
       "       'cuota_viv', 'mater_serv', 'material', 'servicio', 'deposito',\n",
       "       'prest_terc', 'pago_tarje', 'deudas', 'balance', 'otras_erog',\n",
       "       'smg', 'TamLoc', 'entidad', 'desc_ent', 'municipio', 'des_mun',\n",
       "       'Region', 'pob_aprox', 'total_mujeres', 'total_hombres',\n",
       "       'T_15 o menos', 'T_16-29', 'T_30-59', 'T_60 o mas', 'T_numren',\n",
       "       'tipo_hogar', 'TT_15 o menos', 'TT_16-29', 'TT_30-59',\n",
       "       'TT_60 o mas', 'LPI', 'LPEI', 'tasa ocupacional', 'tocupa',\n",
       "       'CUmun', 'CUmun2', 'CUmun3', 'LP', 'Ingreso mensual',\n",
       "       'ingreso mensual'], dtype=object)"
      ]
     },
     "execution_count": 171,
     "metadata": {},
     "output_type": "execute_result"
    }
   ],
   "source": [
    "data.keys().values"
   ]
  },
  {
   "cell_type": "code",
   "execution_count": 182,
   "id": "starting-teacher",
   "metadata": {},
   "outputs": [],
   "source": [
    "data.filter(['Region','TT_15 o menos', 'TT_16-29', 'TT_30-59',\n",
    "       'TT_60 o mas','pob_aprox']).pivot_table(index='Region',aggfunc=sum,margins=True,margins_name='Total').astype('int').rename(columns={'TT_15 o menos':'15 o menos', 'TT_16-29':'16-29', 'TT_30-59':'30-59','TT_60 o mas':'60 o mas','pob_aprox':'Población total'}).to_excel('Tabla5_Poblacion_total_rural_por_edad_y_region.xls')"
   ]
  },
  {
   "cell_type": "code",
   "execution_count": null,
   "id": "executive-explanation",
   "metadata": {},
   "outputs": [],
   "source": []
  }
 ],
 "metadata": {
  "kernelspec": {
   "display_name": "Python 3",
   "language": "python",
   "name": "python3"
  },
  "language_info": {
   "codemirror_mode": {
    "name": "ipython",
    "version": 3
   },
   "file_extension": ".py",
   "mimetype": "text/x-python",
   "name": "python",
   "nbconvert_exporter": "python",
   "pygments_lexer": "ipython3",
   "version": "3.9.2"
  }
 },
 "nbformat": 4,
 "nbformat_minor": 5
}
